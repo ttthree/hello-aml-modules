{
 "cells": [
  {
   "cell_type": "code",
   "execution_count": 9,
   "metadata": {},
   "outputs": [
    {
     "output_type": "stream",
     "name": "stdout",
     "text": "Submitted PipelineRun 43159e11-b3af-4aec-810f-a6aff7349f9f\nLink to Azure Machine Learning Portal: https://ml.azure.com/experiments/samples/runs/43159e11-b3af-4aec-810f-a6aff7349f9f?wsid=/subscriptions/74eccef0-4b8d-4f83-b5f9-fa100d155b22/resourcegroups/kubeflow-demo/workspaces/kubeflow_ws_1\n"
    },
    {
     "output_type": "execute_result",
     "data": {
      "text/plain": "Run(Experiment: samples,\nId: 43159e11-b3af-4aec-810f-a6aff7349f9f,\nType: azureml.PipelineRun,\nStatus: Running)",
      "text/html": "<table style=\"width:100%\"><tr><th>Experiment</th><th>Id</th><th>Type</th><th>Status</th><th>Details Page</th><th>Docs Page</th></tr><tr><td>samples</td><td>43159e11-b3af-4aec-810f-a6aff7349f9f</td><td>azureml.PipelineRun</td><td>Running</td><td><a href=\"https://ml.azure.com/experiments/samples/runs/43159e11-b3af-4aec-810f-a6aff7349f9f?wsid=/subscriptions/74eccef0-4b8d-4f83-b5f9-fa100d155b22/resourcegroups/kubeflow-demo/workspaces/kubeflow_ws_1\" target=\"_blank\" rel=\"noopener\">Link to Azure Machine Learning studio</a></td><td><a href=\"https://docs.microsoft.com/en-us/python/api/overview/azure/ml/intro?view=azure-ml-py\" target=\"_blank\" rel=\"noopener\">Link to Documentation</a></td></tr></table>"
     },
     "metadata": {},
     "execution_count": 9
    }
   ],
   "source": [
    "from azureml.core import Workspace, Run, Dataset\n",
    "from azureml.pipeline.wrapper import Pipeline, dsl, Module\n",
    "\n",
    "ws = Workspace.get(name='kubeflow_ws_1', subscription_id='74eccef0-4b8d-4f83-b5f9-fa100d155b22', resource_group='kubeflow-demo')\n",
    "\n",
    "module = Module.load_from_yaml(ws, './metrics-test/metrics_dummy.yaml')\n",
    "\n",
    "@dsl.pipeline(name = 'Metrics-Dummy', \n",
    "              description = '',\n",
    "              default_compute_target='cpu-cluster')\n",
    "def metrics_test_pipeline():\n",
    "    m = module()\n",
    "\n",
    "p = metrics_test_pipeline()\n",
    "\n",
    "p.submit(experiment_name='samples')"
   ]
  },
  {
   "cell_type": "code",
   "execution_count": 5,
   "metadata": {},
   "outputs": [
    {
     "output_type": "display_data",
     "data": {
      "text/plain": "<IPython.core.display.HTML object>",
      "text/html": "\n        <style>\n        #container_id_ba6217b7-c569-4e79-ad70-67673793f562 svg.react-dag-editor-svg-container {\n            height: 800px;\n        }\n        </style>\n        <div id=\"container_id_ba6217b7-c569-4e79-ad70-67673793f562\"></div>\n        <script>\n            window.render_container_id=\"container_id_ba6217b7-c569-4e79-ad70-67673793f562\"\n            window.graph_json={\"pipeline\": {\"name\": \"Metrics-Dummy\", \"parameters\": null, \"data_references\": null, \"steps\": {\"MetricDummyModuleCLI\": {\"module\": {\"id\": \"0cd0026a-46df-45ea-bbd6-539004c96530\", \"version\": \"1\"}, \"parameters\": {\"ServingEntry\": \"\", \"MLCComputeType\": \"AmlCompute\", \"PrepareEnvironment\": \"true\", \"GpuSupport\": \"false\", \"HistoryEnabled\": \"true\", \"Framework\": \"Python\", \"Script\": \"metrics_dummy.py\", \"MaxRunDurationSeconds\": \"\", \"InterpreterPath\": \"python\", \"UserManagedDependencies\": false, \"CondaDependencies\": \"{\\\"name\\\": \\\"dummyenv\\\", \\\"channels\\\": [\\\"anaconda\\\", \\\"conda-forge\\\"], \\\"dependencies\\\": [\\\"python=3.6\\\", {\\\"pip\\\": [\\\"azureml-defaults\\\"]}]}\", \"DockerEnabled\": \"true\", \"BaseDockerImage\": \"mcr.microsoft.com/azureml/base:intelmpi2018.3-ubuntu16.04\", \"TargetType\": \"mlc\", \"RequireGpu\": \"False\", \"HasServingEntry\": \"False\", \"PassthroughServingMode\": \"False\", \"ModuleUI\": \"Default\", \"ModuleVersion\": \"2.0\", \"Owner\": \"ae-aml-1p@microsoft.com\"}, \"inputs\": null, \"outputs\": null, \"arguments\": [\"USE_STRUCTURED_ARGUMENTS\"], \"compute\": \"cpu-cluster\", \"validate\": {\"error\": [], \"module_id\": \"0cd0026a-46df-45ea-bbd6-539004c96530\", \"module_name\": \"MetricDummyModuleCLI\", \"module_version\": \"1\"}}}}, \"subGraphInfo\": [{\"name\": \"Metrics-Dummy\", \"description\": \"\", \"defaultCompute\": \"cpu-cluster\", \"id\": \"f9737112-d108-4ff3-9e1f-1882114c53f2\", \"parentGraphId\": null, \"inputs\": [], \"outputs\": []}], \"nodeIdToSubGraphIdMapping\": {\"MetricDummyModuleCLI\": \"f9737112-d108-4ff3-9e1f-1882114c53f2\"}, \"modules\": [{\"module_execution_type\": \"escloud\", \"module_type\": \"0\", \"upload_state\": \"1\", \"is_deterministic\": false, \"structured_interface\": {\"inputs\": [], \"outputs\": [], \"parameters\": [{\"name\": \"ServingEntry\", \"parameter_type\": \"3\", \"is_optional\": true, \"default_value\": \"\", \"set_environment_variable\": false}, {\"name\": \"Target\", \"parameter_type\": \"3\", \"is_optional\": true, \"default_value\": \"\", \"set_environment_variable\": false}, {\"name\": \"MLCComputeType\", \"parameter_type\": \"3\", \"is_optional\": true, \"default_value\": \"\", \"set_environment_variable\": false}, {\"name\": \"PrepareEnvironment\", \"parameter_type\": \"3\", \"is_optional\": true, \"default_value\": \"true\", \"set_environment_variable\": false}, {\"name\": \"GpuSupport\", \"parameter_type\": \"3\", \"is_optional\": true, \"default_value\": \"false\", \"set_environment_variable\": false}, {\"name\": \"HistoryEnabled\", \"parameter_type\": \"3\", \"is_optional\": true, \"default_value\": \"true\", \"set_environment_variable\": false}, {\"name\": \"Framework\", \"parameter_type\": \"3\", \"is_optional\": true, \"default_value\": \"Python\", \"set_environment_variable\": false}, {\"name\": \"Arguments\", \"parameter_type\": \"3\", \"is_optional\": true, \"default_value\": \"\", \"set_environment_variable\": false}, {\"name\": \"Script\", \"parameter_type\": \"3\", \"is_optional\": true, \"default_value\": \"metrics_dummy.py\", \"set_environment_variable\": false}, {\"name\": \"MaxRunDurationSeconds\", \"parameter_type\": \"3\", \"is_optional\": true, \"default_value\": \"\", \"set_environment_variable\": false}, {\"name\": \"InterpreterPath\", \"parameter_type\": \"3\", \"is_optional\": true, \"default_value\": \"python\", \"set_environment_variable\": false}, {\"name\": \"UserManagedDependencies\", \"parameter_type\": \"3\", \"is_optional\": true, \"default_value\": \"false\", \"set_environment_variable\": false}, {\"name\": \"CondaDependencies\", \"parameter_type\": \"3\", \"is_optional\": true, \"default_value\": \"{\\\"name\\\": \\\"dummyenv\\\", \\\"channels\\\": [\\\"anaconda\\\", \\\"conda-forge\\\"], \\\"dependencies\\\": [\\\"python=3.6\\\", {\\\"pip\\\": [\\\"azureml-defaults\\\"]}]}\\r\\n\", \"set_environment_variable\": false}, {\"name\": \"DockerEnabled\", \"parameter_type\": \"3\", \"is_optional\": true, \"default_value\": \"true\", \"set_environment_variable\": false}, {\"name\": \"BaseDockerImage\", \"parameter_type\": \"3\", \"is_optional\": true, \"default_value\": \"mcr.microsoft.com/azureml/base:intelmpi2018.3-ubuntu16.04\", \"set_environment_variable\": false}], \"metadata_parameters\": [{\"name\": \"TargetType\", \"parameter_type\": \"3\", \"is_optional\": true, \"default_value\": \"MLC\", \"set_environment_variable\": false}, {\"name\": \"RequireGpu\", \"parameter_type\": \"2\", \"is_optional\": true, \"default_value\": \"False\", \"set_environment_variable\": false}, {\"name\": \"HasServingEntry\", \"parameter_type\": \"2\", \"is_optional\": true, \"default_value\": \"False\", \"set_environment_variable\": false}, {\"name\": \"PassthroughServingMode\", \"parameter_type\": \"2\", \"is_optional\": true, \"default_value\": \"False\", \"set_environment_variable\": false}, {\"name\": \"ModuleUI\", \"parameter_type\": \"3\", \"is_optional\": true, \"default_value\": \"Default\", \"set_environment_variable\": false}, {\"name\": \"ModuleVersion\", \"parameter_type\": \"3\", \"is_optional\": true, \"default_value\": \"2.0\", \"set_environment_variable\": false}, {\"name\": \"Owner\", \"parameter_type\": \"3\", \"is_optional\": true, \"default_value\": \"ae-aml-1p@microsoft.com\", \"set_environment_variable\": false}], \"arguments\": []}, \"data_location\": {\"storage_type\": \"3\", \"storage_id\": \"f8c8f738-b9c9-455a-a896-c836c9b9cb0b\"}, \"identifier_hash\": \"34d8055a787c1764c023669ab8db29e1\", \"tags\": {\"Office\": \"\"}, \"properties\": {\"Owner\": \"ae-aml-1p@microsoft.com\", \"ModuleVersion\": \"2.0\", \"AmlModuleName\": \"microsoft.com/azureml/samples://MetricDummyModuleCLI\", \"ModuleName\": \"MetricDummyModuleCLI\", \"Namespace\": \"microsoft.com/azureml/samples\", \"FamilyId\": null, \"HelpDocument\": \"https://aka.ms/aml/smartcompose/mock\", \"YamlLink\": \"metrics_dummy.yaml\", \"ModuleSourceType\": \"Local\", \"IsAnonymousModule\": \"True\"}, \"created_by\": {\"user_object_id\": \"32017ae3-7430-44bf-9a3c-9a201c8786f2\", \"user_tenant_id\": \"72f988bf-86f1-41af-91ab-2d7cd011db47\", \"user_name\": \"Jie Tong\"}, \"runconfig\": \"{\\r\\n  \\\"Script\\\": \\\"metrics_dummy.py\\\",\\r\\n  \\\"UseAbsolutePath\\\": false,\\r\\n  \\\"Arguments\\\": [],\\r\\n  \\\"Framework\\\": \\\"Python\\\",\\r\\n  \\\"DataReferences\\\": {},\\r\\n  \\\"Data\\\": {},\\r\\n  \\\"Environment\\\": {\\r\\n    \\\"Python\\\": {\\r\\n      \\\"InterpreterPath\\\": \\\"python\\\",\\r\\n      \\\"UserManagedDependencies\\\": false,\\r\\n      \\\"CondaDependencies\\\": {\\r\\n        \\\"name\\\": \\\"dummyenv\\\",\\r\\n        \\\"channels\\\": [\\r\\n          \\\"anaconda\\\",\\r\\n          \\\"conda-forge\\\"\\r\\n        ],\\r\\n        \\\"dependencies\\\": [\\r\\n          \\\"python=3.6\\\",\\r\\n          {\\r\\n            \\\"pip\\\": [\\r\\n              \\\"azureml-defaults\\\"\\r\\n            ]\\r\\n          }\\r\\n        ]\\r\\n      }\\r\\n    },\\r\\n    \\\"Docker\\\": {\\r\\n      \\\"BaseImage\\\": \\\"mcr.microsoft.com/azureml/base:intelmpi2018.3-ubuntu16.04\\\",\\r\\n      \\\"Enabled\\\": true\\r\\n    },\\r\\n    \\\"Spark\\\": {\\r\\n      \\\"Repositories\\\": [],\\r\\n      \\\"Packages\\\": [],\\r\\n      \\\"PrecachePackages\\\": true\\r\\n    }\\r\\n  },\\r\\n  \\\"History\\\": {\\r\\n    \\\"OutputCollection\\\": false,\\r\\n    \\\"DirectoriesToWatch\\\": null\\r\\n  },\\r\\n  \\\"Spark\\\": {\\r\\n    \\\"Configuration\\\": {}\\r\\n  },\\r\\n  \\\"BatchAi\\\": {\\r\\n    \\\"NodeCount\\\": 0\\r\\n  },\\r\\n  \\\"AmlCompute\\\": {\\r\\n    \\\"RetainCluster\\\": false\\r\\n  },\\r\\n  \\\"Tensorflow\\\": {\\r\\n    \\\"WorkerCount\\\": 0,\\r\\n    \\\"ParameterServerCount\\\": 0\\r\\n  },\\r\\n  \\\"Mpi\\\": {\\r\\n    \\\"ProcessCountPerNode\\\": 0\\r\\n  },\\r\\n  \\\"Hdi\\\": {\\r\\n    \\\"YarnDeployMode\\\": \\\"None\\\"\\r\\n  },\\r\\n  \\\"ContainerInstance\\\": {\\r\\n    \\\"CpuCores\\\": 2.0,\\r\\n    \\\"MemoryGb\\\": 3.5\\r\\n  },\\r\\n  \\\"Docker\\\": {\\r\\n    \\\"UseDocker\\\": true,\\r\\n    \\\"SharedVolumes\\\": true\\r\\n  },\\r\\n  \\\"Cmk8sCompute\\\": {\\r\\n    \\\"Configuration\\\": {}\\r\\n  }\\r\\n}\", \"step_type\": \"PythonScriptModule\", \"name\": \"MetricDummyModuleCLI\", \"description\": \"This module probes the logging and environment in python.\", \"entity_status\": \"0\", \"id\": \"0cd0026a-46df-45ea-bbd6-539004c96530\", \"etag\": \"\\\"06006fc3-0000-0100-0000-5ec121af0000\\\"\", \"created_date\": \"2020-05-17T11:36:14.994106Z\", \"last_modified_date\": \"2020-05-17T11:36:15.256756Z\", \"module_id\": \"0cd0026a-46df-45ea-bbd6-539004c96530\", \"version\": \"1\"}], \"datasources\": []};\n        </script>\n        <script src=\"https://yucongjteststorage.blob.core.windows.net/libs/index.js\"></script>\n        "
     },
     "metadata": {}
    },
    {
     "output_type": "execute_result",
     "data": {
      "text/plain": "{'result': 'validation passed', 'errors': []}"
     },
     "metadata": {},
     "execution_count": 5
    }
   ],
   "source": [
    "p.validate()"
   ]
  },
  {
   "cell_type": "code",
   "execution_count": null,
   "metadata": {},
   "outputs": [],
   "source": []
  }
 ],
 "metadata": {
  "language_info": {
   "codemirror_mode": {
    "name": "ipython",
    "version": 3
   },
   "file_extension": ".py",
   "mimetype": "text/x-python",
   "name": "python",
   "nbconvert_exporter": "python",
   "pygments_lexer": "ipython3",
   "version": "3.8.0-final"
  },
  "orig_nbformat": 2,
  "kernelspec": {
   "name": "python38064bit9033b9ae65704e4e8c584df5ceb2f608",
   "display_name": "Python 3.8.0 64-bit"
  }
 },
 "nbformat": 4,
 "nbformat_minor": 2
}