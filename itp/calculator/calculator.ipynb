{
 "cells": [
  {
   "cell_type": "code",
   "execution_count": 1,
   "metadata": {
    "tags": []
   },
   "outputs": [
    {
     "output_type": "stream",
     "name": "stderr",
     "text": "Failure while loading azureml_run_type_providers. Failed to load entrypoint hyperdrive = azureml.train.hyperdrive:HyperDriveRun._from_run_dto with exception cannot import name '_update_args_and_inputs' from 'azureml.core.script_run_config' (C:\\Users\\jietong\\AppData\\Roaming\\Python\\Python38\\site-packages\\azureml\\core\\script_run_config.py).\n"
    }
   ],
   "source": [
    "from azureml.pipeline.wrapper import Pipeline, Module, dsl"
   ]
  },
  {
   "cell_type": "code",
   "execution_count": 2,
   "metadata": {},
   "outputs": [],
   "source": [
    "from azureml.core import Workspace, Run, Dataset\n",
    "ws = Workspace.get(subscription_id='4aaa645c-5ae2-4ae9-a17a-84b9023bc56a', name='itp-pilot', resource_group='itp-pilot-ResGrp')\n",
    "#ws = Workspace.get(subscription_id='74eccef0-4b8d-4f83-b5f9-fa100d155b22', name='kubeflow_ws_1', resource_group='kubeflow-demo')\n",
    "#ws = Workspace.get(subscription_id='4aaa645c-5ae2-4ae9-a17a-84b9023bc56a', name='aks-training-test', resource_group='jietong-test')\n",
    "#ws = Workspace.get(subscription_id='381b38e9-9840-4719-a5a0-61d9585e1e91', name='jithendv_new_ws', resource_group=   \"JithendVRG\")"
   ]
  },
  {
   "cell_type": "code",
   "execution_count": 3,
   "metadata": {},
   "outputs": [],
   "source": [
    "from add import add\n",
    "from enter_num_manually import enter_num_manually"
   ]
  },
  {
   "cell_type": "code",
   "execution_count": 4,
   "metadata": {},
   "outputs": [],
   "source": [
    "enter_num = Module.from_func(ws, enter_num_manually)\n",
    "add_two_num = Module.from_func(ws, add)\n",
    "multiply_two_num = Module.from_yaml(ws, './multiply/multiply.yaml')"
   ]
  },
  {
   "cell_type": "code",
   "execution_count": 5,
   "metadata": {
    "tags": []
   },
   "outputs": [
    {
     "output_type": "display_data",
     "data": {
      "text/plain": "<IPython.core.display.Javascript object>",
      "application/javascript": "try {\n    require.undef(\"validate_widget\")\n\n    define('validate_widget', [\"@jupyter-widgets/base\"], function(widgets) {\n        var ValidateView = widgets.DOMWidgetView.extend({\n            render () {\n                window.widget_self = this\n                var visualize_id = this.model.get('visualize_id')\n\n                if (!window._renderLock) {\n                    window._renderLock = {}\n                }\n                if (window._renderLock[visualize_id]) {\n                    return\n                }\n                window._renderLock[visualize_id] = \"widget\"\n                console.log(\"load as widget\", Date.now())\n\n                var lib_url = this.model.get('lib_url')\n                var graph_json = JSON.parse(this.model.get('graph_json'))\n                var env_json = JSON.parse(this.model.get('env_json'))\n                var container_id = this.model.get('container_id')\n\n                window.render_container_id = container_id\n                window.graph_json = graph_json\n                window.graph_json_to_compare = undefined\n                window.env_json = env_json\n                window.before_script = performance.now()\n\n                var container = document.createElement('div')\n                container.id = container_id\n                this.el.appendChild(container)\n\n                var style = document.createElement('style')\n                style.innerHTML = [\n                    \"#\", container_id, \" svg.react-dag-editor-svg-container { height: 800px; }\",\n                    \".cell-output-ipywidget-background { background: transparent !important }\"\n                ].join('')\n                this.el.appendChild(style)\n\n                this.model.on('msg:custom', dispatchMessage, this);\n\n                if (!window.__event_hub) {\n                    window.__event_hub = {}\n                }\n                if (!window.__event_hub[container_id]) {\n                    window.__event_hub[container_id] = {}\n                }\n\n                if (!window.__send_event) {\n                    window.__send_event = {}\n                }\n                window.__send_event[container_id] = sendMessage.bind(this)\n\n                function sendMessage(message, uid, content) {\n                    return new Promise((resolve) => {\n                        this.model.send({\n                            message: `${message}:request`,\n                            body: {\n                                uid,\n                                content\n                            }\n                        })\n    \n                        var respMessageKey = `${message}:response`\n                        if (!window.__event_hub[container_id][respMessageKey]) {\n                            window.__event_hub[container_id][respMessageKey] = []\n                        }\n                        window.__event_hub[container_id][respMessageKey].push(callback)\n    \n                        function callback (response) {\n                            if (response.uid !== uid) {\n                                return\n                            }\n\n                            var idx = window.__event_hub[container_id][respMessageKey].indexOf(callback) \n                            window.__event_hub[container_id][respMessageKey].splice(idx, 1)\n                            \n                            resolve(response)\n                        }\n                    })\n                }\n\n                function dispatchMessage (rawMessage) {\n                    var message = rawMessage.message\n                    var body = rawMessage.body\n\n                    if (!window.__event_hub[container_id][message]) {\n                        window.__event_hub[container_id][message] = []\n                    }\n                    var listeners = window.__event_hub[container_id][message]\n\n                    listeners.forEach(cb => {\n                        try {\n                            cb(body)\n                        } catch (e) {\n                            console.error(\"Unexpected error in listener\", e)\n                        }\n                    })\n\n                    console.log(body)\n                }\n\n                var script = document.createElement('script')\n                script.src = lib_url\n                this.el.appendChild(script)\n            }\n        });\n\n        return {\n            ValidateView\n        }\n    })\n} catch (e) {\n    console.log(\"create validation widget failed\", e)\n}"
     },
     "metadata": {}
    },
    {
     "output_type": "display_data",
     "data": {
      "text/plain": "ValidateView(container_id='container_id_dc5c069f-af35-4be2-96c9-7be39cd51a6c_widget', env_json='{\"subscription…",
      "application/vnd.jupyter.widget-view+json": {
       "version_major": 2,
       "version_minor": 0,
       "model_id": "1c34d4f357d54a3eba6668d327f68799"
      }
     },
     "metadata": {}
    },
    {
     "output_type": "display_data",
     "data": {
      "text/plain": "<IPython.core.display.HTML object>",
      "text/html": "\n        <style>\n        #container_id_dc5c069f-af35-4be2-96c9-7be39cd51a6c_script svg.react-dag-editor-svg-container {\n            height: 800px;\n        }\n        </style>\n        <div id=\"container_id_dc5c069f-af35-4be2-96c9-7be39cd51a6c_script\"></div>\n        <script>\n            (function () {\n                if (!window._renderLock) {\n                    window._renderLock = {}\n                }\n                if (window._renderLock[\"dc5c069f-af35-4be2-96c9-7be39cd51a6c\"]) {\n                    return\n                }\n                window._renderLock[\"dc5c069f-af35-4be2-96c9-7be39cd51a6c\"] = \"script\"\n                console.log(\"load as script\", Date.now())\n                window.render_container_id=\"container_id_dc5c069f-af35-4be2-96c9-7be39cd51a6c_script\";\n                window.graph_json={\"pipeline\": {\"name\": \"Calculator\", \"data_references\": null, \"steps\": {\"d6800476\": {\"inputs\": {}, \"outputs\": {\"Output\": {\"destination\": \"666a2ae9-caaa-473f-8de6-32c2ef67f294_Output\"}}, \"module\": {\"id\": \"47ba0bf9-9f24-49ac-8ccf-a83e3c15d856\", \"version\": \"0.0.1\"}, \"parameters\": {\"num\": \"1.0\"}, \"validate\": {\"error\": [], \"module_id\": \"47ba0bf9-9f24-49ac-8ccf-a83e3c15d856\", \"namespace\": \"itp-pilot\", \"module_name\": \"enter_num_manually\", \"module_version\": \"0.0.1\"}}, \"e1f85a05\": {\"inputs\": {}, \"outputs\": {\"Output\": {\"destination\": \"521e8df8-950c-4cf9-ba97-cc6072071dca_Output\"}}, \"module\": {\"id\": \"47ba0bf9-9f24-49ac-8ccf-a83e3c15d856\", \"version\": \"0.0.1\"}, \"parameters\": {\"num\": \"2.0\"}, \"validate\": {\"error\": [], \"module_id\": \"47ba0bf9-9f24-49ac-8ccf-a83e3c15d856\", \"namespace\": \"itp-pilot\", \"module_name\": \"enter_num_manually\", \"module_version\": \"0.0.1\"}}, \"de4c4582\": {\"inputs\": {\"Left\": {\"source\": \"666a2ae9-caaa-473f-8de6-32c2ef67f294_Output\"}, \"Right\": {\"source\": \"521e8df8-950c-4cf9-ba97-cc6072071dca_Output\"}}, \"outputs\": {\"Output\": {\"destination\": \"9e1c1193-21f0-4757-82f3-b7879adee9b5_Output\"}}, \"module\": {\"id\": \"e223d791-fc24-4ad0-b581-d12b26af8f42\", \"version\": \"0.0.1\"}, \"parameters\": {}, \"validate\": {\"error\": [], \"module_id\": \"e223d791-fc24-4ad0-b581-d12b26af8f42\", \"namespace\": \"itp-pilot\", \"module_name\": \"add\", \"module_version\": \"0.0.1\"}}, \"6e39af0d\": {\"inputs\": {}, \"outputs\": {\"Output\": {\"destination\": \"fb16eca0-be93-437a-967b-f2a90040b608_Output\"}}, \"module\": {\"id\": \"47ba0bf9-9f24-49ac-8ccf-a83e3c15d856\", \"version\": \"0.0.1\"}, \"parameters\": {\"num\": \"1.5\"}, \"validate\": {\"error\": [], \"module_id\": \"47ba0bf9-9f24-49ac-8ccf-a83e3c15d856\", \"namespace\": \"itp-pilot\", \"module_name\": \"enter_num_manually\", \"module_version\": \"0.0.1\"}}, \"d5c5fb8e\": {\"inputs\": {\"Left\": {\"source\": \"fb16eca0-be93-437a-967b-f2a90040b608_Output\"}, \"Right\": {\"source\": \"9e1c1193-21f0-4757-82f3-b7879adee9b5_Output\"}}, \"outputs\": {\"Result\": {\"destination\": \"d6b6f5b4-c354-48ae-b153-29bba1ae8711_Result\"}}, \"module\": {\"id\": \"03298d22-ad25-4d48-aec0-c83e4103686f\", \"version\": \"0.0.1\"}, \"parameters\": {}, \"validate\": {\"error\": [], \"module_id\": \"03298d22-ad25-4d48-aec0-c83e4103686f\", \"namespace\": \"itp-pilot\", \"module_name\": \"multiply\", \"module_version\": \"0.0.1\"}}}}, \"modules\": [{\"module_id\": \"47ba0bf9-9f24-49ac-8ccf-a83e3c15d856\", \"version\": \"0.0.1\", \"name\": \"enter_num_manually\", \"namespace\": \"itp-pilot\", \"structured_interface\": {\"inputs\": [], \"outputs\": [{\"name\": \"Output\", \"label\": \"Output\", \"description\": null, \"data_type_id\": \"AnyDirectory\"}]}}, {\"module_id\": \"e223d791-fc24-4ad0-b581-d12b26af8f42\", \"version\": \"0.0.1\", \"name\": \"add\", \"namespace\": \"itp-pilot\", \"structured_interface\": {\"inputs\": [{\"name\": \"Left\", \"label\": \"Left\", \"description\": null, \"data_type_ids_list\": [\"AnyDirectory\"]}, {\"name\": \"Right\", \"label\": \"Right\", \"description\": null, \"data_type_ids_list\": [\"AnyDirectory\"]}], \"outputs\": [{\"name\": \"Output\", \"label\": \"Output\", \"description\": null, \"data_type_id\": \"AnyDirectory\"}]}}, {\"module_id\": \"03298d22-ad25-4d48-aec0-c83e4103686f\", \"version\": \"0.0.1\", \"name\": \"multiply\", \"namespace\": \"itp-pilot\", \"structured_interface\": {\"inputs\": [{\"name\": \"Left\", \"label\": \"Left\", \"description\": null, \"data_type_ids_list\": [\"AnyDirectory\"]}, {\"name\": \"Right\", \"label\": \"Right\", \"description\": null, \"data_type_ids_list\": [\"AnyDirectory\"]}], \"outputs\": [{\"name\": \"Result\", \"label\": \"Result\", \"description\": null, \"data_type_id\": \"AnyDirectory\"}]}}], \"datasources\": [], \"subGraphInfo\": [{\"name\": \"Calculator\", \"description\": \"Calculator - an illustrative sample pipeline\", \"default_compute_target\": {\"name\": \"itp-eastus-p40-2\"}, \"default_data_store\": {\"data_store_name\": \"workspaceblobstore\"}, \"id\": \"ea557074-075f-4c1a-aaac-89de40bc166c\", \"pipeline_definition_id\": \"b82843d1-ca7c-4efa-b496-010de1df58ac\", \"sub_graph_parameter_assignment\": [], \"sub_graph_data_path_parameter_assignment\": [], \"sub_graph_default_compute_target_nodes\": [\"d6800476\", \"e1f85a05\", \"de4c4582\", \"6e39af0d\", \"d5c5fb8e\"], \"sub_graph_default_data_store_nodes\": [\"d6800476\", \"e1f85a05\", \"de4c4582\", \"6e39af0d\", \"d5c5fb8e\"], \"inputs\": [], \"outputs\": []}], \"nodeIdToSubGraphIdMapping\": {\"d6800476\": \"ea557074-075f-4c1a-aaac-89de40bc166c\", \"e1f85a05\": \"ea557074-075f-4c1a-aaac-89de40bc166c\", \"de4c4582\": \"ea557074-075f-4c1a-aaac-89de40bc166c\", \"6e39af0d\": \"ea557074-075f-4c1a-aaac-89de40bc166c\", \"d5c5fb8e\": \"ea557074-075f-4c1a-aaac-89de40bc166c\"}, \"subPipelineDefinition\": [{\"name\": \"Calculator\", \"description\": \"Calculator - an illustrative sample pipeline\", \"default_compute_target\": {\"name\": \"itp-eastus-p40-2\"}, \"default_data_store\": {\"data_store_name\": \"workspaceblobstore\"}, \"pipeline_function_name\": \"calc\", \"id\": \"b82843d1-ca7c-4efa-b496-010de1df58ac\", \"from_module_name\": \"__main__\", \"parameter_list\": []}]};\n                window.graph_json_to_compare=undefined;\n                window.env_json={\"subscription_id\": \"4aaa645c-5ae2-4ae9-a17a-84b9023bc56a\"};\n                window.before_script = performance.now();\n                var script = document.createElement('script')\n                script.src = \"https://yucongj.azureedge.net/libs/prod/0.0.9/index.js\"\n                document.getElementById(\"container_id_dc5c069f-af35-4be2-96c9-7be39cd51a6c_script\").appendChild(script)\n            })()\n        </script>\n        "
     },
     "metadata": {}
    },
    {
     "output_type": "execute_result",
     "data": {
      "text/plain": "{'result': 'validation passed', 'errors': []}"
     },
     "metadata": {},
     "execution_count": 5
    }
   ],
   "source": [
    "@dsl.pipeline(name='Calculator', description='Calculator - an illustrative sample pipeline', default_compute_target='itp-eastus-p40-2')\n",
    "def calc():\n",
    "    l = enter_num(num='1.0')\n",
    "    r = enter_num(num='2.0')\n",
    "\n",
    "    sum = add_two_num(left=l.outputs.output, right=r.outputs.output)\n",
    "\n",
    "    rr = enter_num(num='1.5')\n",
    "\n",
    "    prod = multiply_two_num(left=rr.outputs.output, right=sum.outputs.output)\n",
    "\n",
    "p = calc()\n",
    "p.validate()"
   ]
  },
  {
   "cell_type": "code",
   "execution_count": 6,
   "metadata": {
    "tags": []
   },
   "outputs": [
    {
     "output_type": "stream",
     "name": "stdout",
     "text": "Submitted PipelineRun 4df39d16-a5d8-4442-8f63-b331b85a651d\nLink to Azure Machine Learning Portal: https://ml.azure.com/experiments/samples/runs/4df39d16-a5d8-4442-8f63-b331b85a651d?wsid=/subscriptions/4aaa645c-5ae2-4ae9-a17a-84b9023bc56a/resourcegroups/itp-pilot-ResGrp/workspaces/itp-pilot\nPipelineRunId: 4df39d16-a5d8-4442-8f63-b331b85a651d\nLink to Azure Machine Learning Portal: https://ml.azure.com/experiments/samples/runs/4df39d16-a5d8-4442-8f63-b331b85a651d?wsid=/subscriptions/4aaa645c-5ae2-4ae9-a17a-84b9023bc56a/resourcegroups/itp-pilot-ResGrp/workspaces/itp-pilot\n"
    },
    {
     "output_type": "display_data",
     "data": {
      "text/plain": "<IPython.core.display.Javascript object>",
      "application/javascript": "try {\n    require.undef(\"validate_widget\")\n\n    define('validate_widget', [\"@jupyter-widgets/base\"], function(widgets) {\n        var ValidateView = widgets.DOMWidgetView.extend({\n            render () {\n                window.widget_self = this\n                var visualize_id = this.model.get('visualize_id')\n\n                if (!window._renderLock) {\n                    window._renderLock = {}\n                }\n                if (window._renderLock[visualize_id]) {\n                    return\n                }\n                window._renderLock[visualize_id] = \"widget\"\n                console.log(\"load as widget\", Date.now())\n\n                var lib_url = this.model.get('lib_url')\n                var graph_json = JSON.parse(this.model.get('graph_json'))\n                var env_json = JSON.parse(this.model.get('env_json'))\n                var container_id = this.model.get('container_id')\n\n                window.render_container_id = container_id\n                window.graph_json = graph_json\n                window.graph_json_to_compare = undefined\n                window.env_json = env_json\n                window.before_script = performance.now()\n\n                var container = document.createElement('div')\n                container.id = container_id\n                this.el.appendChild(container)\n\n                var style = document.createElement('style')\n                style.innerHTML = [\n                    \"#\", container_id, \" svg.react-dag-editor-svg-container { height: 800px; }\",\n                    \".cell-output-ipywidget-background { background: transparent !important }\"\n                ].join('')\n                this.el.appendChild(style)\n\n                this.model.on('msg:custom', dispatchMessage, this);\n\n                if (!window.__event_hub) {\n                    window.__event_hub = {}\n                }\n                if (!window.__event_hub[container_id]) {\n                    window.__event_hub[container_id] = {}\n                }\n\n                if (!window.__send_event) {\n                    window.__send_event = {}\n                }\n                window.__send_event[container_id] = sendMessage.bind(this)\n\n                function sendMessage(message, uid, content) {\n                    return new Promise((resolve) => {\n                        this.model.send({\n                            message: `${message}:request`,\n                            body: {\n                                uid,\n                                content\n                            }\n                        })\n    \n                        var respMessageKey = `${message}:response`\n                        if (!window.__event_hub[container_id][respMessageKey]) {\n                            window.__event_hub[container_id][respMessageKey] = []\n                        }\n                        window.__event_hub[container_id][respMessageKey].push(callback)\n    \n                        function callback (response) {\n                            if (response.uid !== uid) {\n                                return\n                            }\n\n                            var idx = window.__event_hub[container_id][respMessageKey].indexOf(callback) \n                            window.__event_hub[container_id][respMessageKey].splice(idx, 1)\n                            \n                            resolve(response)\n                        }\n                    })\n                }\n\n                function dispatchMessage (rawMessage) {\n                    var message = rawMessage.message\n                    var body = rawMessage.body\n\n                    if (!window.__event_hub[container_id][message]) {\n                        window.__event_hub[container_id][message] = []\n                    }\n                    var listeners = window.__event_hub[container_id][message]\n\n                    listeners.forEach(cb => {\n                        try {\n                            cb(body)\n                        } catch (e) {\n                            console.error(\"Unexpected error in listener\", e)\n                        }\n                    })\n\n                    console.log(body)\n                }\n\n                var script = document.createElement('script')\n                script.src = lib_url\n                this.el.appendChild(script)\n            }\n        });\n\n        return {\n            ValidateView\n        }\n    })\n} catch (e) {\n    console.log(\"create validation widget failed\", e)\n}"
     },
     "metadata": {}
    },
    {
     "output_type": "display_data",
     "data": {
      "text/plain": "ValidateView(container_id='container_id_f517ffab-37db-4eb6-b38e-617d6a5b683e_widget', env_json='{}', graph_jso…",
      "application/vnd.jupyter.widget-view+json": {
       "version_major": 2,
       "version_minor": 0,
       "model_id": "bae402e484e94f9980c8a773e2787246"
      }
     },
     "metadata": {}
    },
    {
     "output_type": "display_data",
     "data": {
      "text/plain": "<IPython.core.display.HTML object>",
      "text/html": "\n        <style>\n        #container_id_f517ffab-37db-4eb6-b38e-617d6a5b683e_script svg.react-dag-editor-svg-container {\n            height: 800px;\n        }\n        </style>\n        <div id=\"container_id_f517ffab-37db-4eb6-b38e-617d6a5b683e_script\"></div>\n        <script>\n            (function () {\n                if (!window._renderLock) {\n                    window._renderLock = {}\n                }\n                if (window._renderLock[\"f517ffab-37db-4eb6-b38e-617d6a5b683e\"]) {\n                    return\n                }\n                window._renderLock[\"f517ffab-37db-4eb6-b38e-617d6a5b683e\"] = \"script\"\n                console.log(\"load as script\", Date.now())\n                window.render_container_id=\"container_id_f517ffab-37db-4eb6-b38e-617d6a5b683e_script\";\n                window.graph_json={\"pipeline\": {\"name\": \"Calculator\", \"data_references\": null, \"steps\": {\"7efa0b87\": {\"inputs\": {}, \"outputs\": {\"Output\": {\"destination\": \"7efa0b87_Output\"}}, \"module\": {\"id\": \"47ba0bf9-9f24-49ac-8ccf-a83e3c15d856\", \"version\": \"0.0.1\"}, \"validate\": {\"error\": [], \"module_id\": \"47ba0bf9-9f24-49ac-8ccf-a83e3c15d856\", \"namespace\": \"itp-pilot\", \"module_name\": \"enter_num_manually\", \"module_version\": \"0.0.1\"}}, \"cdb41a59\": {\"inputs\": {}, \"outputs\": {\"Output\": {\"destination\": \"cdb41a59_Output\"}}, \"module\": {\"id\": \"47ba0bf9-9f24-49ac-8ccf-a83e3c15d856\", \"version\": \"0.0.1\"}, \"validate\": {\"error\": [], \"module_id\": \"47ba0bf9-9f24-49ac-8ccf-a83e3c15d856\", \"namespace\": \"itp-pilot\", \"module_name\": \"enter_num_manually\", \"module_version\": \"0.0.1\"}}, \"d8eb7bfa\": {\"inputs\": {\"Left\": {\"source\": \"7efa0b87_Output\"}, \"Right\": {\"source\": \"cdb41a59_Output\"}}, \"outputs\": {\"Output\": {\"destination\": \"d8eb7bfa_Output\"}}, \"module\": {\"id\": \"e223d791-fc24-4ad0-b581-d12b26af8f42\", \"version\": \"0.0.1\"}, \"validate\": {\"error\": [], \"module_id\": \"e223d791-fc24-4ad0-b581-d12b26af8f42\", \"namespace\": \"itp-pilot\", \"module_name\": \"add\", \"module_version\": \"0.0.1\"}}, \"e30e3154\": {\"inputs\": {}, \"outputs\": {\"Output\": {\"destination\": \"e30e3154_Output\"}}, \"module\": {\"id\": \"47ba0bf9-9f24-49ac-8ccf-a83e3c15d856\", \"version\": \"0.0.1\"}, \"validate\": {\"error\": [], \"module_id\": \"47ba0bf9-9f24-49ac-8ccf-a83e3c15d856\", \"namespace\": \"itp-pilot\", \"module_name\": \"enter_num_manually\", \"module_version\": \"0.0.1\"}}, \"f4c49cc1\": {\"inputs\": {\"Left\": {\"source\": \"e30e3154_Output\"}, \"Right\": {\"source\": \"d8eb7bfa_Output\"}}, \"outputs\": {}, \"module\": {\"id\": \"03298d22-ad25-4d48-aec0-c83e4103686f\", \"version\": \"0.0.1\"}, \"validate\": {\"error\": [], \"module_id\": \"03298d22-ad25-4d48-aec0-c83e4103686f\", \"namespace\": \"itp-pilot\", \"module_name\": \"multiply\", \"module_version\": \"0.0.1\"}}}}, \"modules\": [{\"module_id\": \"47ba0bf9-9f24-49ac-8ccf-a83e3c15d856\", \"version\": \"0.0.1\", \"name\": \"enter_num_manually\", \"namespace\": \"itp-pilot\", \"structured_interface\": {\"inputs\": [], \"outputs\": [{\"name\": \"Output\", \"label\": \"Output\", \"description\": null, \"data_type_id\": \"AnyDirectory\"}]}}, {\"module_id\": \"e223d791-fc24-4ad0-b581-d12b26af8f42\", \"version\": \"0.0.1\", \"name\": \"add\", \"namespace\": \"itp-pilot\", \"structured_interface\": {\"inputs\": [{\"name\": \"Left\", \"label\": \"Left\", \"description\": null, \"data_type_ids_list\": [\"AnyDirectory\"]}, {\"name\": \"Right\", \"label\": \"Right\", \"description\": null, \"data_type_ids_list\": [\"AnyDirectory\"]}], \"outputs\": [{\"name\": \"Output\", \"label\": \"Output\", \"description\": null, \"data_type_id\": \"AnyDirectory\"}]}}, {\"module_id\": \"03298d22-ad25-4d48-aec0-c83e4103686f\", \"version\": \"0.0.1\", \"name\": \"multiply\", \"namespace\": \"itp-pilot\", \"structured_interface\": {\"inputs\": [{\"name\": \"Left\", \"label\": \"Left\", \"description\": null, \"data_type_ids_list\": [\"AnyDirectory\"]}, {\"name\": \"Right\", \"label\": \"Right\", \"description\": null, \"data_type_ids_list\": [\"AnyDirectory\"]}], \"outputs\": [{\"name\": \"Result\", \"label\": \"Result\", \"description\": null, \"data_type_id\": \"AnyDirectory\"}]}}], \"datasources\": [], \"subGraphInfo\": [{\"name\": \"Calculator\", \"description\": \"Calculator - an illustrative sample pipeline\", \"default_compute_target\": {\"name\": \"itp-eastus-p40-2\", \"compute_type\": \"0\"}, \"default_data_store\": {\"data_store_name\": \"workspaceblobstore\"}, \"id\": \"ea557074-075f-4c1a-aaac-89de40bc166c\", \"pipeline_definition_id\": \"b82843d1-ca7c-4efa-b496-010de1df58ac\", \"sub_graph_parameter_assignment\": [], \"sub_graph_data_path_parameter_assignment\": [], \"sub_graph_default_compute_target_nodes\": [\"7efa0b87\", \"cdb41a59\", \"d8eb7bfa\", \"e30e3154\", \"f4c49cc1\"], \"sub_graph_default_data_store_nodes\": [\"7efa0b87\", \"cdb41a59\", \"d8eb7bfa\", \"e30e3154\", \"f4c49cc1\"], \"inputs\": [], \"outputs\": []}], \"nodeIdToSubGraphIdMapping\": {\"7efa0b87\": \"ea557074-075f-4c1a-aaac-89de40bc166c\", \"cdb41a59\": \"ea557074-075f-4c1a-aaac-89de40bc166c\", \"d8eb7bfa\": \"ea557074-075f-4c1a-aaac-89de40bc166c\", \"e30e3154\": \"ea557074-075f-4c1a-aaac-89de40bc166c\", \"f4c49cc1\": \"ea557074-075f-4c1a-aaac-89de40bc166c\"}, \"subPipelineDefinition\": [{\"name\": \"Calculator\", \"description\": \"Calculator - an illustrative sample pipeline\", \"default_compute_target\": {\"name\": \"itp-eastus-p40-2\", \"compute_type\": \"0\"}, \"default_data_store\": {\"data_store_name\": \"workspaceblobstore\"}, \"pipeline_function_name\": \"calc\", \"id\": \"b82843d1-ca7c-4efa-b496-010de1df58ac\", \"from_module_name\": \"__main__\", \"parameter_list\": []}]};\n                window.graph_json_to_compare=undefined;\n                window.env_json={};\n                window.before_script = performance.now();\n                var script = document.createElement('script')\n                script.src = \"https://yucongj.azureedge.net/libs/prod/0.0.9/index.js\"\n                document.getElementById(\"container_id_f517ffab-37db-4eb6-b38e-617d6a5b683e_script\").appendChild(script)\n            })()\n        </script>\n        "
     },
     "metadata": {}
    },
    {
     "output_type": "execute_result",
     "data": {
      "text/plain": "<RunStatus.failed: 'Failed'>"
     },
     "metadata": {},
     "execution_count": 6
    }
   ],
   "source": [
    "p.submit(experiment_name='samples').wait_for_completion()"
   ]
  }
 ],
 "metadata": {
  "language_info": {
   "codemirror_mode": {
    "name": "ipython",
    "version": 3
   },
   "file_extension": ".py",
   "mimetype": "text/x-python",
   "name": "python",
   "nbconvert_exporter": "python",
   "pygments_lexer": "ipython3",
   "version": "3.8.3-final"
  },
  "orig_nbformat": 2,
  "kernelspec": {
   "name": "python_defaultSpec_1598431074272",
   "display_name": "Python 3.8.3 64-bit"
  }
 },
 "nbformat": 4,
 "nbformat_minor": 2
}