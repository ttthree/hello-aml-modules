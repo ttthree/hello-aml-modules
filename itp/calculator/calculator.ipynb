{
 "cells": [
  {
   "cell_type": "code",
   "execution_count": 32,
   "metadata": {
    "tags": []
   },
   "outputs": [],
   "source": [
    "from azureml.pipeline.wrapper import Pipeline, Module, dsl"
   ]
  },
  {
   "cell_type": "code",
   "execution_count": 33,
   "metadata": {},
   "outputs": [],
   "source": [
    "from azureml.core import Workspace, Run, Dataset\n",
    "ws = Workspace.get(subscription_id='4aaa645c-5ae2-4ae9-a17a-84b9023bc56a', name='itp-pilot', resource_group='itp-pilot-ResGrp')\n",
    "#ws = Workspace.get(subscription_id='4aaa645c-5ae2-4ae9-a17a-84b9023bc56a', name='gjdtest_eastus', resource_group='gjdtest_eastus')\n",
    "#ws = Workspace.get(subscription_id='74eccef0-4b8d-4f83-b5f9-fa100d155b22', name='kubeflow_ws_1', resource_group='kubeflow-demo')\n",
    "#ws = Workspace.get(subscription_id='4aaa645c-5ae2-4ae9-a17a-84b9023bc56a', name='aks-training-test', resource_group='jietong-test')\n",
    "#ws = Workspace.get(subscription_id='381b38e9-9840-4719-a5a0-61d9585e1e91', name='jithendv_new_ws', resource_group=   \"JithendVRG\")"
   ]
  },
  {
   "cell_type": "code",
   "execution_count": 34,
   "metadata": {},
   "outputs": [],
   "source": [
    "from add import add\n",
    "from enter_num_manually import enter_num_manually\n",
    "from multiply import multiply"
   ]
  },
  {
   "cell_type": "code",
   "execution_count": 35,
   "metadata": {},
   "outputs": [],
   "source": [
    "enter_num = Module.from_func(ws, enter_num_manually)\n",
    "add_two_num = Module.from_func(ws, add)\n",
    "multiply_two_num = Module.from_func(ws, multiply)"
   ]
  },
  {
   "cell_type": "code",
   "execution_count": 36,
   "metadata": {
    "tags": []
   },
   "outputs": [],
   "source": [
    "#@dsl.pipeline(name='Calculator', description='Calculator - an illustrative sample pipeline', default_compute_target='itp-eastus-p40-2', default_datastore='workspace_default_nfs_store')\n",
    "\n",
    "\n",
    "#@dsl.pipeline(name='Calculator', description='Calculator - an illustrative sample pipeline', default_compute_target='gjd-int1', default_datastore='workspace_default_nfs_store')\n",
    "@dsl.pipeline(name='Calculator', description='Calculator - an illustrative sample pipeline', default_compute_target='cpu-cluster', default_datastore='workspace_default_nfs_store')\n",
    "def calc():\n",
    "    l = enter_num(num='1.0')\n",
    "    r = enter_num(num='2.0')\n",
    "\n",
    "    sum = add_two_num(left=l.outputs.output, right=r.outputs.output)\n",
    "\n",
    "    rr = enter_num(num='1.5')\n",
    "\n",
    "    prod = multiply_two_num(left=rr.outputs.output, right=sum.outputs.output)\n",
    "\n",
    "p = calc()\n",
    "#p.validate()"
   ]
  },
  {
   "cell_type": "code",
   "execution_count": 37,
   "metadata": {
    "tags": []
   },
   "outputs": [],
   "source": [
    "#p.run(experiment_name='tests')"
   ]
  },
  {
   "cell_type": "code",
   "execution_count": 38,
   "metadata": {
    "tags": []
   },
   "outputs": [
    {
     "output_type": "stream",
     "name": "stdout",
     "text": "Submitted PipelineRun 3c5d2254-81b2-4811-aa88-2ae98fc9c37e\nLink to Azure Machine Learning Portal: https://ml.azure.com/experiments/samples/runs/3c5d2254-81b2-4811-aa88-2ae98fc9c37e?wsid=/subscriptions/4aaa645c-5ae2-4ae9-a17a-84b9023bc56a/resourcegroups/itp-pilot-ResGrp/workspaces/itp-pilot\n"
    },
    {
     "output_type": "execute_result",
     "data": {
      "text/plain": "Run(Experiment: samples,\nId: 3c5d2254-81b2-4811-aa88-2ae98fc9c37e,\nType: azureml.PipelineRun,\nStatus: Running)",
      "text/html": "<table style=\"width:100%\"><tr><th>Experiment</th><th>Id</th><th>Type</th><th>Status</th><th>Details Page</th><th>Docs Page</th></tr><tr><td>samples</td><td>3c5d2254-81b2-4811-aa88-2ae98fc9c37e</td><td>azureml.PipelineRun</td><td>Running</td><td><a href=\"https://ml.azure.com/experiments/samples/runs/3c5d2254-81b2-4811-aa88-2ae98fc9c37e?wsid=/subscriptions/4aaa645c-5ae2-4ae9-a17a-84b9023bc56a/resourcegroups/itp-pilot-ResGrp/workspaces/itp-pilot\" target=\"_blank\" rel=\"noopener\">Link to Azure Machine Learning studio</a></td><td><a href=\"https://docs.microsoft.com/en-us/python/api/overview/azure/ml/intro?view=azure-ml-py\" target=\"_blank\" rel=\"noopener\">Link to Documentation</a></td></tr></table>"
     },
     "metadata": {},
     "execution_count": 38
    }
   ],
   "source": [
    "run = p.submit(experiment_name='samples')\n",
    "run"
   ]
  },
  {
   "cell_type": "code",
   "execution_count": 39,
   "metadata": {
    "tags": []
   },
   "outputs": [
    {
     "output_type": "stream",
     "name": "stdout",
     "text": "Package                              Version         \n------------------------------------ ----------------\nadal                                 1.2.4           \nansiwrap                             0.8.4           \nappdirs                              1.4.4           \napplicationinsights                  0.11.9          \nastroid                              2.4.2           \natomicwrites                         1.4.0           \nattrs                                19.3.0          \nazure-common                         1.1.25          \nazure-core                           1.6.0           \nazure-graphrbac                      0.61.1          \nazure-identity                       1.2.0           \nazure-mgmt-authorization             0.60.0          \nazure-mgmt-containerregistry         2.8.0           \nazure-mgmt-keyvault                  2.2.0           \nazure-mgmt-network                   10.2.0          \nazure-mgmt-resource                  10.0.0          \nazure-mgmt-storage                   10.0.0          \nazure-storage-blob                   12.3.1          \nazureml-automl-core                  0.1.0.15254362WARNING: You are using pip version 19.2.3, however version 20.2.3 is available.\nYou should consider upgrading via the 'python -m pip install --upgrade pip' command.\n\nazureml-core                         0.1.0.21769543  \nazureml-dataprep                     1.7.1a2020060301\nazureml-dataprep-native              20.0.2          \nazureml-pipeline-core                0.1.0.15254362  \nazureml-pipeline-steps               0.1.0.15254362  \nazureml-pipeline-wrapper             0.1.0.21769543  \nazureml-telemetry                    0.1.0.21769543  \nazureml-train-automl-client          0.1.0.15254362  \nazureml-train-core                   0.1.0.15254362  \nazureml-train-restclients-hyperdrive 0.1.0.15254362  \nbackcall                             0.2.0           \nbackports.tempfile                   1.0             \nbackports.weakref                    1.0.post1       \nbleach                               3.1.5           \ncertifi                              2020.4.5.2      \ncffi                                 1.14.0          \nchardet                              3.0.4           \nclick                                7.1.2           \ncloudpickle                          1.5.0           \ncolorama                             0.4.3           \ncontextlib2                          0.6.0.post1     \ncryptography                         2.9.2           \ndecorator                            4.4.2           \ndefusedxml                           0.6.0           \ndistlib                              0.3.0           \ndistro                               1.5.0           \ndocker                               4.2.1           \ndotnetcore2                          2.1.14          \nentrypoints                          0.3             \nfilelock                             3.0.12          \nflake8                               3.7.9           \nfuture                               0.18.2          \nGPUtil                               1.4.0           \nidna                                 2.9             \nimportlib-metadata                   1.6.1           \nipykernel                            5.3.0           \nipython                              7.15.0          \nipython-genutils                     0.2.0           \nipywidgets                           7.5.1           \nisodate                              0.6.0           \nisort                                4.3.21          \njedi                                 0.17.0          \njeepney                              0.4.3           \nJinja2                               2.11.2          \njmespath                             0.10.0          \njsonpickle                           1.4.1           \njsonschema                           3.2.0           \njupyter-client                       6.1.3           \njupyter-core                         4.6.3           \nlazy-object-proxy                    1.4.3           \nMarkupSafe                           1.1.1           \nmccabe                               0.6.1           \nmistune                              0.8.4           \nmore-itertools                       8.3.0           \nmsal                                 1.4.1           \nmsal-extensions                      0.1.3           \nmsrest                               0.6.16          \nmsrestazure                          0.6.3           \nnbconvert                            5.6.1           \nnbformat                             5.0.7           \nndg-httpsclient                      0.5.1           \nnotebook                             6.0.3           \nnteract-scrapbook                    0.4.1           \nnumpy                                1.19.0          \noauthlib                             3.1.0           \npackaging                            20.4            \npandas                               1.1.0           \npandocfilters                        1.4.2           \npapermill                            1.2.1           \nparso                                0.7.0           \npathspec                             0.8.0           \npickleshare                          0.7.5           \nPillow                               7.2.0           \npip                                  19.2.3          \npluggy                               0.13.1          \nportalocker                          1.7.0           \nprometheus-client                    0.8.0           \nprompt-toolkit                       3.0.5           \npsutil                               5.7.0           \npy                                   1.8.1           \npyarrow                              1.0.0           \npyasn1                               0.4.8           \npycodestyle                          2.5.0           \npycparser                            2.20            \npyflakes                             2.1.1           \nPygments                             2.6.1           \nPyJWT                                1.7.1           \npylint                               2.5.3           \npyOpenSSL                            19.1.0          \npyparsing                            2.4.7           \npypiwin32                            223             \npyrsistent                           0.16.0          \npytest                               5.4.3           \npython-dateutil                      2.8.1           \npytz                                 2020.1          \npywin32                              227             \npywinpty                             0.5.7           \nPyYAML                               5.3.1           \npyzmq                                19.0.1          \nrequests                             2.23.0          \nrequests-oauthlib                    1.3.0           \nruamel.yaml                          0.16.10         \nruamel.yaml.clib                     0.2.0           \nSecretStorage                        3.1.2           \nSend2Trash                           1.5.0           \nsetuptools                           41.2.0          \nsix                                  1.15.0          \ntenacity                             6.2.0           \nterminado                            0.8.3           \ntestpath                             0.4.4           \ntextwrap3                            0.9.2           \ntoml                                 0.10.1          \ntorch                                1.5.1           \ntorchvision                          0.6.1           \ntornado                              6.0.4           \ntqdm                                 4.48.2          \ntraitlets                            4.3.3           \nurllib3                              1.25.9          \nvirtualenv                           20.0.23         \nwcwidth                              0.2.4           \nwebencodings                         0.5.1           \nwebsocket-client                     0.57.0          \nwidgetsnbextension                   3.5.1           \nwrapt                                1.12.1          \nzipp                                 3.1.0           \n"
    }
   ],
   "source": [
    "!pip list"
   ]
  }
 ],
 "metadata": {
  "language_info": {
   "codemirror_mode": {
    "name": "ipython",
    "version": 3
   },
   "file_extension": ".py",
   "mimetype": "text/x-python",
   "name": "python",
   "nbconvert_exporter": "python",
   "pygments_lexer": "ipython3",
   "version": "3.8.3-final"
  },
  "orig_nbformat": 2,
  "kernelspec": {
   "name": "python_defaultSpec_1600393254277",
   "display_name": "Python 3.8.3 64-bit"
  }
 },
 "nbformat": 4,
 "nbformat_minor": 2
}