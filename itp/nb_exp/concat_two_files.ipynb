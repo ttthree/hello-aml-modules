{
 "metadata": {
  "language_info": {
   "codemirror_mode": {
    "name": "ipython",
    "version": 3
   },
   "file_extension": ".py",
   "mimetype": "text/x-python",
   "name": "python",
   "nbconvert_exporter": "python",
   "pygments_lexer": "ipython3",
   "version": "3.8.3-final"
  },
  "orig_nbformat": 2,
  "kernelspec": {
   "name": "python38364bitbasecondae642356c3aa548968d25ff869a7f3e59",
   "display_name": "Python 3.8.3 64-bit ('base': conda)"
  }
 },
 "nbformat": 4,
 "nbformat_minor": 2,
 "cells": [
  {
   "cell_type": "code",
   "execution_count": 7,
   "metadata": {},
   "outputs": [],
   "source": [
    "import os\n",
    "import pathlib\n",
    "\n",
    "from azureml.pipeline.wrapper.dsl.module import InputDirectory, OutputDirectory\n",
    "from azureml.pipeline.wrapper import dsl"
   ]
  },
  {
   "source": [
    "# Declare the component interface\n"
   ],
   "cell_type": "markdown",
   "metadata": {}
  },
  {
   "cell_type": "code",
   "execution_count": 10,
   "metadata": {},
   "outputs": [],
   "source": [
    "dsl.module(name='concat_two_files', version='0.1', namespace='microsoft.com/azureml/samples', is_deterministic=True)\n",
    "input1: InputDirectory('AnyDirectory') = 'testdata/input1/'\n",
    "input2: InputDirectory('AnyDirectory') = 'testdata/input2/'\n",
    "append_line_break: bool = False\n",
    "concatenated: OutputDirectory('AnyDirectory') = 'testdata/concatenated/' "
   ]
  },
  {
   "source": [
    "# Component implementation: concatenate two text files"
   ],
   "cell_type": "markdown",
   "metadata": {}
  },
  {
   "cell_type": "code",
   "execution_count": 11,
   "metadata": {
    "tags": []
   },
   "outputs": [
    {
     "output_type": "stream",
     "name": "stdout",
     "text": "['testdata/input1/data', 'testdata/input2/data']\ntestdata/concatenated/data\n"
    }
   ],
   "source": [
    "inputs = [os.path.join(input1, 'data'), os.path.join(input2, 'data')]\n",
    "print(inputs)\n",
    "\n",
    "output = os.path.join(concatenated, 'data')\n",
    "print(output)\n",
    "\n",
    "pathlib.Path(output).parent.absolute().mkdir(parents=True, exist_ok=True)\n",
    "\n",
    "with open(output, 'w') as outfile:\n",
    "    for fname in inputs:\n",
    "        with open(fname) as infile:\n",
    "            outfile.write(infile.read())\n",
    "    if append_line_break:\n",
    "        print('appending a new line break')\n",
    "        outfile.write('\\n')\n",
    "    "
   ]
  }
 ]
}