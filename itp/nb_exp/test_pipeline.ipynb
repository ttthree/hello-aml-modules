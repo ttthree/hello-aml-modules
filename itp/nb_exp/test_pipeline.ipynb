{
 "metadata": {
  "language_info": {
   "codemirror_mode": {
    "name": "ipython",
    "version": 3
   },
   "file_extension": ".py",
   "mimetype": "text/x-python",
   "name": "python",
   "nbconvert_exporter": "python",
   "pygments_lexer": "ipython3",
   "version": "3.8.3-final"
  },
  "orig_nbformat": 2,
  "kernelspec": {
   "name": "python38364bitbasecondae642356c3aa548968d25ff869a7f3e59",
   "display_name": "Python 3.8.3 64-bit ('base': conda)"
  }
 },
 "nbformat": 4,
 "nbformat_minor": 2,
 "cells": [
  {
   "cell_type": "code",
   "execution_count": 3,
   "metadata": {},
   "outputs": [],
   "source": [
    "from azureml.pipeline.wrapper import Module, dsl, Pipeline\n",
    "from azureml.core import Workspace, Run"
   ]
  },
  {
   "cell_type": "code",
   "execution_count": 4,
   "metadata": {},
   "outputs": [],
   "source": [
    "ws = Workspace.get(subscription_id='4aaa645c-5ae2-4ae9-a17a-84b9023bc56a', name='itp-pilot', resource_group='itp-pilot-ResGrp')"
   ]
  },
  {
   "cell_type": "code",
   "execution_count": 5,
   "metadata": {
    "tags": []
   },
   "outputs": [
    {
     "output_type": "stream",
     "name": "stdout",
     "text": "INFO     - Extracting dsl module info from the notebook\nINFO     - Module entry file '_concat_two_files.py' is dumped.\nINFO     - Conda file conda.yaml doesn't exist in the folder ., a default one is dumped.\n"
    }
   ],
   "source": [
    "concatenate = Module.from_notebook(ws, 'concat_two_files.ipynb')"
   ]
  },
  {
   "cell_type": "code",
   "execution_count": null,
   "metadata": {},
   "outputs": [],
   "source": [
    "m = concatenate()"
   ]
  }
 ]
}