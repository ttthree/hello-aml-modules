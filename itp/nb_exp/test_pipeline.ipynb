{
 "metadata": {
  "language_info": {
   "codemirror_mode": {
    "name": "ipython",
    "version": 3
   },
   "file_extension": ".py",
   "mimetype": "text/x-python",
   "name": "python",
   "nbconvert_exporter": "python",
   "pygments_lexer": "ipython3",
   "version": "3.8.3-final"
  },
  "orig_nbformat": 2,
  "kernelspec": {
   "name": "python_defaultSpec_1598871695571",
   "display_name": "Python 3.8.3 64-bit"
  }
 },
 "nbformat": 4,
 "nbformat_minor": 2,
 "cells": [
  {
   "cell_type": "code",
   "execution_count": 4,
   "metadata": {
    "tags": []
   },
   "outputs": [],
   "source": [
    "from azureml.pipeline.wrapper import Module, dsl, Pipeline\n",
    "from azureml.core import Workspace, Run, Dataset"
   ]
  },
  {
   "cell_type": "code",
   "execution_count": 5,
   "metadata": {},
   "outputs": [],
   "source": [
    "ws = Workspace.get(subscription_id='4aaa645c-5ae2-4ae9-a17a-84b9023bc56a', name='itp-pilot', resource_group='itp-pilot-ResGrp')"
   ]
  },
  {
   "cell_type": "code",
   "execution_count": 6,
   "metadata": {
    "tags": []
   },
   "outputs": [
    {
     "output_type": "stream",
     "name": "stdout",
     "text": "INFO     - Extracting dsl module info from the notebook\nINFO     - Module entry file '_concat_two_files.py' is dumped.\nINFO     - Conda file conda.yaml doesn't exist in the folder ., a default one is dumped.\n"
    }
   ],
   "source": [
    "concatenate = Module.from_notebook(ws, 'concat_two_files.ipynb')"
   ]
  },
  {
   "cell_type": "code",
   "execution_count": 8,
   "metadata": {},
   "outputs": [],
   "source": [
    "data1 = Dataset.get_by_name(ws, name='input1_simpledatafile')\n",
    "data2 = Dataset.get_by_name(ws, name='input2_simpledatafile')"
   ]
  },
  {
   "cell_type": "code",
   "execution_count": 9,
   "metadata": {
    "tags": []
   },
   "outputs": [
    {
     "output_type": "stream",
     "name": "stdout",
     "text": "Submitted PipelineRun 983df0b0-bd56-4039-bd4c-d638e2c9651e\nLink to Azure Machine Learning Portal: https://ml.azure.com/experiments/samples/runs/983df0b0-bd56-4039-bd4c-d638e2c9651e?wsid=/subscriptions/4aaa645c-5ae2-4ae9-a17a-84b9023bc56a/resourcegroups/itp-pilot-ResGrp/workspaces/itp-pilot\n"
    },
    {
     "output_type": "execute_result",
     "data": {
      "text/plain": "Run(Experiment: samples,\nId: 983df0b0-bd56-4039-bd4c-d638e2c9651e,\nType: azureml.PipelineRun,\nStatus: Running)",
      "text/html": "<table style=\"width:100%\"><tr><th>Experiment</th><th>Id</th><th>Type</th><th>Status</th><th>Details Page</th><th>Docs Page</th></tr><tr><td>samples</td><td>983df0b0-bd56-4039-bd4c-d638e2c9651e</td><td>azureml.PipelineRun</td><td>Running</td><td><a href=\"https://ml.azure.com/experiments/samples/runs/983df0b0-bd56-4039-bd4c-d638e2c9651e?wsid=/subscriptions/4aaa645c-5ae2-4ae9-a17a-84b9023bc56a/resourcegroups/itp-pilot-ResGrp/workspaces/itp-pilot\" target=\"_blank\" rel=\"noopener\">Link to Azure Machine Learning studio</a></td><td><a href=\"https://docs.microsoft.com/en-us/python/api/overview/azure/ml/intro?view=azure-ml-py\" target=\"_blank\" rel=\"noopener\">Link to Documentation</a></td></tr></table>"
     },
     "metadata": {},
     "execution_count": 9
    }
   ],
   "source": [
    "@dsl.pipeline(name='test_nb_module', description='a simple pipeline to test module from notebook experience', default_compute_target='cpu-cluster')\n",
    "def my_pipeline():\n",
    "    m = concatenate(input1=data1, input2=data2, append_line_break=True)\n",
    "\n",
    "p = my_pipeline()\n",
    "p.submit(experiment_name='samples')"
   ]
  }
 ]
}