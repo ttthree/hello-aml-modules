{
 "metadata": {
  "language_info": {
   "codemirror_mode": {
    "name": "ipython",
    "version": 3
   },
   "file_extension": ".py",
   "mimetype": "text/x-python",
   "name": "python",
   "nbconvert_exporter": "python",
   "pygments_lexer": "ipython3",
   "version": "3.8.3-final"
  },
  "orig_nbformat": 2,
  "kernelspec": {
   "name": "python_defaultSpec_1598351558903",
   "display_name": "Python 3.8.3 64-bit"
  }
 },
 "nbformat": 4,
 "nbformat_minor": 2,
 "cells": [
  {
   "cell_type": "code",
   "execution_count": 1,
   "metadata": {
    "tags": []
   },
   "outputs": [
    {
     "output_type": "stream",
     "name": "stderr",
     "text": "Failure while loading azureml_run_type_providers. Failed to load entrypoint hyperdrive = azureml.train.hyperdrive:HyperDriveRun._from_run_dto with exception cannot import name '_update_args_and_inputs' from 'azureml.core.script_run_config' (C:\\Users\\jietong\\AppData\\Roaming\\Python\\Python38\\site-packages\\azureml\\core\\script_run_config.py).\n"
    }
   ],
   "source": [
    "from azureml.pipeline.wrapper import Pipeline, Module, dsl\n",
    "from azureml.core import Workspace, Run, Dataset\n",
    "\n",
    "ws = Workspace.get(name='itp-pilot', subscription_id='4aaa645c-5ae2-4ae9-a17a-84b9023bc56a', resource_group='itp-pilot-ResGrp')\n",
    "#itp-eastus-p40-2\n"
   ]
  },
  {
   "cell_type": "code",
   "execution_count": 2,
   "metadata": {},
   "outputs": [],
   "source": [
    "burn = Module.from_yaml(ws, 'burn_gpu.yaml')"
   ]
  },
  {
   "cell_type": "code",
   "execution_count": 3,
   "metadata": {},
   "outputs": [],
   "source": [
    "@dsl.pipeline(name='burn gpus', description='MPI programs to full utilize GPUs', default_compute_target='itp-eastus-p40-2')\n",
    "def burn_gpu_pipeline():\n",
    "    n1 = burn(run_for_minutes=1)\n",
    "    n1.runsettings.configure(node_count=2, process_count_per_node=4)\n",
    "    n2 = burn(run_for_minutes=2)\n",
    "    n2.runsettings.configure(node_count=1, process_count_per_node=4)\n"
   ]
  },
  {
   "cell_type": "code",
   "execution_count": 4,
   "metadata": {
    "tags": []
   },
   "outputs": [
    {
     "output_type": "stream",
     "name": "stdout",
     "text": "Submitted PipelineRun c9333fef-8bb4-4d9a-a482-eda43887911c\nLink to Azure Machine Learning Portal: https://ml.azure.com/experiments/samples/runs/c9333fef-8bb4-4d9a-a482-eda43887911c?wsid=/subscriptions/4aaa645c-5ae2-4ae9-a17a-84b9023bc56a/resourcegroups/itp-pilot-ResGrp/workspaces/itp-pilot\nPipelineRunId: c9333fef-8bb4-4d9a-a482-eda43887911c\nLink to Azure Machine Learning Portal: https://ml.azure.com/experiments/samples/runs/c9333fef-8bb4-4d9a-a482-eda43887911c?wsid=/subscriptions/4aaa645c-5ae2-4ae9-a17a-84b9023bc56a/resourcegroups/itp-pilot-ResGrp/workspaces/itp-pilot\n"
    },
    {
     "output_type": "display_data",
     "data": {
      "text/plain": "<IPython.core.display.Javascript object>",
      "application/javascript": "try {\n    require.undef(\"validate_widget\")\n\n    define('validate_widget', [\"@jupyter-widgets/base\"], function(widgets) {\n        var ValidateView = widgets.DOMWidgetView.extend({\n            render () {\n                window.widget_self = this\n                var visualize_id = this.model.get('visualize_id')\n\n                if (!window._renderLock) {\n                    window._renderLock = {}\n                }\n                if (window._renderLock[visualize_id]) {\n                    return\n                }\n                window._renderLock[visualize_id] = \"widget\"\n                console.log(\"load as widget\", Date.now())\n\n                var lib_url = this.model.get('lib_url')\n                var graph_json = JSON.parse(this.model.get('graph_json'))\n                var env_json = JSON.parse(this.model.get('env_json'))\n                var container_id = this.model.get('container_id')\n\n                window.render_container_id = container_id\n                window.graph_json = graph_json\n                window.graph_json_to_compare = undefined\n                window.env_json = env_json\n                window.before_script = performance.now()\n\n                var container = document.createElement('div')\n                container.id = container_id\n                this.el.appendChild(container)\n\n                var style = document.createElement('style')\n                style.innerHTML = [\n                    \"#\", container_id, \" svg.react-dag-editor-svg-container { height: 800px; }\",\n                    \".cell-output-ipywidget-background { background: transparent !important }\"\n                ].join('')\n                this.el.appendChild(style)\n\n                this.model.on('msg:custom', dispatchMessage, this);\n\n                if (!window.__event_hub) {\n                    window.__event_hub = {}\n                }\n                if (!window.__event_hub[container_id]) {\n                    window.__event_hub[container_id] = {}\n                }\n\n                if (!window.__send_event) {\n                    window.__send_event = {}\n                }\n                window.__send_event[container_id] = sendMessage.bind(this)\n\n                function sendMessage(message, uid, content) {\n                    return new Promise((resolve) => {\n                        this.model.send({\n                            message: `${message}:request`,\n                            body: {\n                                uid,\n                                content\n                            }\n                        })\n    \n                        var respMessageKey = `${message}:response`\n                        if (!window.__event_hub[container_id][respMessageKey]) {\n                            window.__event_hub[container_id][respMessageKey] = []\n                        }\n                        window.__event_hub[container_id][respMessageKey].push(callback)\n    \n                        function callback (response) {\n                            if (response.uid !== uid) {\n                                return\n                            }\n\n                            var idx = window.__event_hub[container_id][respMessageKey].indexOf(callback) \n                            window.__event_hub[container_id][respMessageKey].splice(idx, 1)\n                            \n                            resolve(response)\n                        }\n                    })\n                }\n\n                function dispatchMessage (rawMessage) {\n                    var message = rawMessage.message\n                    var body = rawMessage.body\n\n                    if (!window.__event_hub[container_id][message]) {\n                        window.__event_hub[container_id][message] = []\n                    }\n                    var listeners = window.__event_hub[container_id][message]\n\n                    listeners.forEach(cb => {\n                        try {\n                            cb(body)\n                        } catch (e) {\n                            console.error(\"Unexpected error in listener\", e)\n                        }\n                    })\n\n                    console.log(body)\n                }\n\n                var script = document.createElement('script')\n                script.src = lib_url\n                this.el.appendChild(script)\n            }\n        });\n\n        return {\n            ValidateView\n        }\n    })\n} catch (e) {\n    console.log(\"create validation widget failed\", e)\n}"
     },
     "metadata": {}
    },
    {
     "output_type": "display_data",
     "data": {
      "text/plain": "ValidateView(container_id='container_id_fc467014-4f82-4f53-964e-2060332d1911_widget', env_json='{}', graph_jso…",
      "application/vnd.jupyter.widget-view+json": {
       "version_major": 2,
       "version_minor": 0,
       "model_id": "d864a7811fc1445c84ce3522343562cc"
      }
     },
     "metadata": {}
    },
    {
     "output_type": "display_data",
     "data": {
      "text/plain": "<IPython.core.display.HTML object>",
      "text/html": "\n        <style>\n        #container_id_fc467014-4f82-4f53-964e-2060332d1911_script svg.react-dag-editor-svg-container {\n            height: 800px;\n        }\n        </style>\n        <div id=\"container_id_fc467014-4f82-4f53-964e-2060332d1911_script\"></div>\n        <script>\n            (function () {\n                if (!window._renderLock) {\n                    window._renderLock = {}\n                }\n                if (window._renderLock[\"fc467014-4f82-4f53-964e-2060332d1911\"]) {\n                    return\n                }\n                window._renderLock[\"fc467014-4f82-4f53-964e-2060332d1911\"] = \"script\"\n                console.log(\"load as script\", Date.now())\n                window.render_container_id=\"container_id_fc467014-4f82-4f53-964e-2060332d1911_script\";\n                window.graph_json={\"pipeline\": {\"name\": \"burn gpus\", \"data_references\": null, \"steps\": {\"05879c51\": {\"inputs\": {}, \"outputs\": {}, \"module\": {\"id\": \"17a9700a-fe39-41d6-ba13-2eaa0e6351cb\", \"version\": \"0.0.1\"}, \"validate\": {\"error\": [], \"module_id\": \"17a9700a-fe39-41d6-ba13-2eaa0e6351cb\", \"namespace\": \"itp-pilot\", \"module_name\": \"burn_gpu\", \"module_version\": \"0.0.1\"}}, \"db9c3c88\": {\"inputs\": {}, \"outputs\": {}, \"module\": {\"id\": \"17a9700a-fe39-41d6-ba13-2eaa0e6351cb\", \"version\": \"0.0.1\"}, \"validate\": {\"error\": [], \"module_id\": \"17a9700a-fe39-41d6-ba13-2eaa0e6351cb\", \"namespace\": \"itp-pilot\", \"module_name\": \"burn_gpu\", \"module_version\": \"0.0.1\"}}}}, \"modules\": [{\"module_id\": \"17a9700a-fe39-41d6-ba13-2eaa0e6351cb\", \"version\": \"0.0.1\", \"name\": \"burn_gpu\", \"namespace\": \"itp-pilot\", \"structured_interface\": {\"inputs\": [], \"outputs\": [{\"name\": \"output\", \"label\": \"output\", \"description\": null, \"data_type_id\": \"AnyDirectory\"}]}}], \"datasources\": [], \"subGraphInfo\": [{\"name\": \"burn gpus\", \"description\": \"MPI programs to full utilize GPUs\", \"default_compute_target\": {\"name\": \"itp-eastus-p40-2\", \"compute_type\": \"0\"}, \"default_data_store\": {\"data_store_name\": \"workspaceblobstore\"}, \"id\": \"db4dc9c9-dca4-44f7-a117-6f3397966be4\", \"pipeline_definition_id\": \"a6c9db4a-bf1e-4ad0-963d-2d803c8a34d0\", \"sub_graph_parameter_assignment\": [], \"sub_graph_data_path_parameter_assignment\": [], \"sub_graph_default_compute_target_nodes\": [\"05879c51\", \"db9c3c88\"], \"sub_graph_default_data_store_nodes\": [\"05879c51\", \"db9c3c88\"], \"inputs\": [], \"outputs\": []}], \"nodeIdToSubGraphIdMapping\": {\"05879c51\": \"db4dc9c9-dca4-44f7-a117-6f3397966be4\", \"db9c3c88\": \"db4dc9c9-dca4-44f7-a117-6f3397966be4\"}, \"subPipelineDefinition\": [{\"name\": \"burn gpus\", \"description\": \"MPI programs to full utilize GPUs\", \"default_compute_target\": {\"name\": \"itp-eastus-p40-2\", \"compute_type\": \"0\"}, \"default_data_store\": {\"data_store_name\": \"workspaceblobstore\"}, \"pipeline_function_name\": \"burn_gpu_pipeline\", \"id\": \"a6c9db4a-bf1e-4ad0-963d-2d803c8a34d0\", \"from_module_name\": \"__main__\", \"parameter_list\": []}]};\n                window.graph_json_to_compare=undefined;\n                window.env_json={};\n                window.before_script = performance.now();\n                var script = document.createElement('script')\n                script.src = \"https://yucongj.azureedge.net/libs/prod/0.0.9/index.js\"\n                document.getElementById(\"container_id_fc467014-4f82-4f53-964e-2060332d1911_script\").appendChild(script)\n            })()\n        </script>\n        "
     },
     "metadata": {}
    },
    {
     "output_type": "execute_result",
     "data": {
      "text/plain": "<RunStatus.completed: 'Completed'>"
     },
     "metadata": {},
     "execution_count": 4
    }
   ],
   "source": [
    "p = burn_gpu_pipeline()\n",
    "\n",
    "p.submit(experiment_name='samples').wait_for_completion()"
   ]
  }
 ]
}