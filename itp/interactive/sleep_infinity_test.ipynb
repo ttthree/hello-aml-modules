{
 "cells": [
  {
   "cell_type": "markdown",
   "metadata": {},
   "source": [
    "# Test Notebook for Building Pipeline Using Module 'sleep_infinity'\n",
    "The module 'sleep_infinity' was generated through command: 'az ml module init -n sleep_infinity'"
   ]
  },
  {
   "cell_type": "code",
   "execution_count": 2,
   "metadata": {
    "tags": []
   },
   "outputs": [
    {
     "output_type": "stream",
     "name": "stderr",
     "text": "Failure while loading azureml_run_type_providers. Failed to load entrypoint hyperdrive = azureml.train.hyperdrive:HyperDriveRun._from_run_dto with exception cannot import name '_update_args_and_inputs' from 'azureml.core.script_run_config' (C:\\Users\\jietong\\AppData\\Roaming\\Python\\Python38\\site-packages\\azureml\\core\\script_run_config.py).\n"
    }
   ],
   "source": [
    "from azureml.core import Workspace\n",
    "from azureml.core.compute import AmlCompute, ComputeTarget\n",
    "from azureml.pipeline.wrapper import Module, Pipeline, dsl\n",
    "import sys\n",
    "from pathlib import Path\n",
    "# The following line adds source directory to path. \n",
    "from sleep_infinity import sleep_infinity"
   ]
  },
  {
   "source": [
    "## Prerequisites: Configure workspace & compute\n",
    "\n",
    " - Update .azureml/config.json to make sure it has information on your workspace, subscription id, etc.\n",
    " - Change the following aml_compute_target's value to reference an existing compute target"
   ],
   "cell_type": "markdown",
   "metadata": {}
  },
  {
   "cell_type": "code",
   "execution_count": 3,
   "metadata": {
    "tags": []
   },
   "outputs": [
    {
     "output_type": "stream",
     "name": "stdout",
     "text": "itp-pilot\nitp-pilot-ResGrp\nwesteurope\n4aaa645c-5ae2-4ae9-a17a-84b9023bc56a\nitp-eastus-p40-2\n"
    }
   ],
   "source": [
    "workspace = Workspace.from_config(path = '.azureml/config.json')\n",
    "compute_target = \"itp-eastus-p40-2\"\n",
    "print(workspace.name, workspace.resource_group, workspace.location, workspace.subscription_id, compute_target, sep='\\n')"
   ]
  },
  {
   "source": [
    "# Load module(s)\n",
    "Load a module function through one of the following:\n",
    "- Module.from_func: when you have a python function decorated with @dsl.module\n",
    "- Module.from_yaml: when loading from existing module yaml definition\n",
    "- Module.load: when you have already registered the module into Azure ML workspace"
   ],
   "cell_type": "markdown",
   "metadata": {}
  },
  {
   "cell_type": "code",
   "execution_count": 4,
   "metadata": {
    "tags": []
   },
   "outputs": [],
   "source": [
    "module_func = Module.from_func(workspace, sleep_infinity)\n",
    "# help(module_func)"
   ]
  },
  {
   "source": [
    "# Create pipeline\n",
    "This is done by calling module function(s) with the parameters/inputs/outputs the module supports"
   ],
   "cell_type": "markdown",
   "metadata": {}
  },
  {
   "cell_type": "code",
   "execution_count": 5,
   "metadata": {},
   "outputs": [],
   "source": [
    "@dsl.pipeline(name='sleep_infinity_pipeline', description='A sample pipeline uses sleep_infinity for interactive job in ITP', default_compute_target=compute_target)\n",
    "def sleep_pipeline() -> Pipeline:\n",
    "    sleep_infinity = module_func()\n",
    "    sleep_infinity.k8srunsettings.priorityconfiguration.is_preemptible=False\n",
    "    sleep_infinity.k8srunsettings.resourceconfiguration.gpu_count = 1\n",
    "    sleep_infinity.k8srunsettings.interactiveconfiguration.is_ssh_enabled = True\n",
    "\n",
    "    return {}\n",
    "\n",
    "test_pipeline = sleep_pipeline()"
   ]
  },
  {
   "cell_type": "code",
   "execution_count": 18,
   "metadata": {
    "tags": []
   },
   "outputs": [
    {
     "output_type": "stream",
     "name": "stdout",
     "text": "Submitted PipelineRun 485d991b-a4d9-41af-8e97-da3fcfd983f7\nLink to Azure Machine Learning Portal: https://ml.azure.com/experiments/sleep_infinity_experiment/runs/485d991b-a4d9-41af-8e97-da3fcfd983f7?wsid=/subscriptions/4aaa645c-5ae2-4ae9-a17a-84b9023bc56a/resourcegroups/groot_workspaces/workspaces/GrootEastUs\n"
    },
    {
     "output_type": "execute_result",
     "data": {
      "text/plain": "Run(Experiment: sleep_infinity_experiment,\nId: 485d991b-a4d9-41af-8e97-da3fcfd983f7,\nType: azureml.PipelineRun,\nStatus: NotStarted)",
      "text/html": "<table style=\"width:100%\"><tr><th>Experiment</th><th>Id</th><th>Type</th><th>Status</th><th>Details Page</th><th>Docs Page</th></tr><tr><td>sleep_infinity_experiment</td><td>485d991b-a4d9-41af-8e97-da3fcfd983f7</td><td>azureml.PipelineRun</td><td>NotStarted</td><td><a href=\"https://ml.azure.com/experiments/sleep_infinity_experiment/runs/485d991b-a4d9-41af-8e97-da3fcfd983f7?wsid=/subscriptions/4aaa645c-5ae2-4ae9-a17a-84b9023bc56a/resourcegroups/groot_workspaces/workspaces/GrootEastUs\" target=\"_blank\" rel=\"noopener\">Link to Azure Machine Learning studio</a></td><td><a href=\"https://docs.microsoft.com/en-us/python/api/overview/azure/ml/intro?view=azure-ml-py\" target=\"_blank\" rel=\"noopener\">Link to Documentation</a></td></tr></table>"
     },
     "metadata": {},
     "execution_count": 18
    }
   ],
   "source": [
    "run = test_pipeline.submit(\n",
    "    experiment_name='InteractiveSessions'\n",
    ")\n",
    "run"
   ]
  },
  {
   "source": [
    "# We can also run the interactive job without involving pipeline"
   ],
   "cell_type": "markdown",
   "metadata": {}
  },
  {
   "cell_type": "code",
   "execution_count": 7,
   "metadata": {
    "tags": []
   },
   "outputs": [
    {
     "output_type": "stream",
     "name": "stdout",
     "text": "[Warning] script_dir is None, create tempdir: C:\\Users\\jietong\\AppData\\Local\\Temp\\003f0329-db5e-452b-8a9d-459573ccd7fc\n[Warning] Can't find sleep_infinity.py from C:\\Users\\jietong\\AppData\\Local\\Temp\\003f0329-db5e-452b-8a9d-459573ccd7fc, will download from remote\nLink to Azure Machine Learning Portal: https://ml.azure.com/experiments/InteractiveSessions/runs/InteractiveSessions_1598430935_497a4c52?wsid=/subscriptions/4aaa645c-5ae2-4ae9-a17a-84b9023bc56a/resourcegroups/itp-pilot-ResGrp/workspaces/itp-pilot\n"
    },
    {
     "output_type": "execute_result",
     "data": {
      "text/plain": "Run(Experiment: InteractiveSessions,\nId: InteractiveSessions_1598430935_497a4c52,\nType: azureml.scriptrun,\nStatus: Starting)",
      "text/html": "<table style=\"width:100%\"><tr><th>Experiment</th><th>Id</th><th>Type</th><th>Status</th><th>Details Page</th><th>Docs Page</th></tr><tr><td>InteractiveSessions</td><td>InteractiveSessions_1598430935_497a4c52</td><td>azureml.scriptrun</td><td>Starting</td><td><a href=\"https://ml.azure.com/experiments/InteractiveSessions/runs/InteractiveSessions_1598430935_497a4c52?wsid=/subscriptions/4aaa645c-5ae2-4ae9-a17a-84b9023bc56a/resourcegroups/itp-pilot-ResGrp/workspaces/itp-pilot\" target=\"_blank\" rel=\"noopener\">Link to Azure Machine Learning studio</a></td><td><a href=\"https://docs.microsoft.com/en-us/python/api/azureml-core/azureml.core.script_run.ScriptRun?view=azure-ml-py\" target=\"_blank\" rel=\"noopener\">Link to Documentation</a></td></tr></table>"
     },
     "metadata": {},
     "execution_count": 7
    }
   ],
   "source": [
    "sleep_infinity = module_func()\n",
    "\n",
    "sleep_infinity.k8srunsettings.priorityconfiguration.is_preemptible=False\n",
    "sleep_infinity.k8srunsettings.resourceconfiguration.gpu_count = 1\n",
    "sleep_infinity.k8srunsettings.interactiveconfiguration.is_ssh_enabled = True\n",
    "sleep_infinity.runsettings.configure(target=compute_target)\n",
    "\n",
    "sleep_infinity.submit(experiment_name='InteractiveSessions')"
   ]
  },
  {
   "cell_type": "code",
   "execution_count": null,
   "metadata": {},
   "outputs": [],
   "source": []
  }
 ],
 "metadata": {
  "kernelspec": {
   "name": "python_defaultSpec_1598430862028",
   "display_name": "Python 3.8.3 64-bit"
  }
 },
 "nbformat": 4,
 "nbformat_minor": 4
}