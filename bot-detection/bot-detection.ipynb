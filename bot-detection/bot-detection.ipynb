{
  "metadata": {
    "kernelspec": {
      "name": "python_defaultSpec_1596625550487",
      "display_name": "Python 3.8.0 64-bit"
    }
  },
  "nbformat": 4,
  "nbformat_minor": 2,
  "cells": [
    {
      "cell_type": "code",
      "execution_count": null,
      "metadata": {},
      "outputs": [],
      "source": [
        "# ------------------------------------------------------------------------------\n",
        "# This is generated from https://ml.azure.com/visualinterface/authoring/Normal/26757c1b-0cee-46d2-be4c-7e37f38bf54c?wsid=/subscriptions/4aaa645c-5ae2-4ae9-a17a-84b9023bc56a/resourcegroups/itp-pilot-ResGrp/workspaces/itp-pilot&tid=72f988bf-86f1-41af-91ab-2d7cd011db47\n",
        "# Prerequisite: install azureml-pipeline-wrapper (version >= 0.1.0.17494938)\n",
        "# ------------------------------------------------------------------------------"
      ]
    },
    {
      "cell_type": "code",
      "execution_count": 1,
      "metadata": {},
      "outputs": [],
      "source": [
        "from azureml.core import Workspace\n",
        "from azureml.pipeline.wrapper import Pipeline, Module, dsl"
      ]
    },
    {
      "cell_type": "code",
      "execution_count": 2,
      "metadata": {},
      "outputs": [],
      "source": [
        "# configure aml workspace\n",
        "ws = Workspace.from_config(path='./config.json')"
      ]
    },
    {
      "cell_type": "code",
      "execution_count": 3,
      "metadata": {},
      "outputs": [],
      "source": [
        "# get modules\n",
        "remove_duplicate_rows = Module.load(ws, namespace='azureml', name='Remove Duplicate Rows')\n",
        "train_model = Module.load(ws, namespace='azureml', name='Train Model')\n",
        "split_data = Module.load(ws, namespace='azureml', name='Split Data')\n",
        "normalize_data = Module.load(ws, namespace='azureml', name='Normalize Data')\n",
        "two_class_decision_forest = Module.load(ws, namespace='azureml', name='Two-Class Decision Forest')\n",
        "join_data = Module.load(ws, namespace='azureml', name='Join Data')\n",
        "score_model = Module.load(ws, namespace='azureml', name='Score Model')\n",
        "evaluate_model = Module.load(ws, namespace='azureml', name='Evaluate Model')"
      ]
    },
    {
      "cell_type": "code",
      "execution_count": 4,
      "metadata": {},
      "outputs": [],
      "source": [
        "#tlc_train_anonymous = Module.load(ws, id='be3aac0f-f058-4c75-b74b-4d17dd3b5c05')\n",
        "#tlc_test_anonymous = Module.load(ws, id='281f5a57-daed-4e53-b1d5-e7b86fc381f5')"
      ]
    },
    {
      "cell_type": "code",
      "execution_count": 5,
      "metadata": {},
      "outputs": [],
      "source": [
        "# get dataset\n",
        "from azureml.core import Dataset\n",
        "botdetectionlabeldata = Dataset.get_by_name(ws, name='BotDetectionLabelData', version=1)\n",
        "botdetectionfeaturedata = Dataset.get_by_name(ws, name='BotDetectionFeatureData', version=1)"
      ]
    },
    {
      "cell_type": "code",
      "execution_count": 6,
      "metadata": {},
      "outputs": [],
      "source": [
        "# define pipeline\n",
        "@dsl.pipeline(name='Bot-detection', description='bot detection', default_compute_target=('k80-16-b', 'Cmk8s'), default_datastore='workspaceblobstore')\n",
        "def generated_pipeline():\n",
        "    remove_duplicate_rows_0 = remove_duplicate_rows(\n",
        "        dataset=botdetectionlabeldata,\n",
        "        key_column_selection_filter_expression='[{\"KeepInputDataOrder\":true,\"ColumnNames\":[\"Id\"]}]',\n",
        "        retain_first_duplicate_row=True)\n",
        "    # remove_duplicate_rows_0.runsettings.target=''\n",
        "    remove_duplicate_rows_0.inputs.dataset.configure(mode='download')\n",
        "    \n",
        "    remove_duplicate_rows_1 = remove_duplicate_rows(\n",
        "        dataset=botdetectionfeaturedata,\n",
        "        key_column_selection_filter_expression='[{\"KeepInputDataOrder\":true,\"ColumnNames\":[\"Id\"]}]',\n",
        "        retain_first_duplicate_row=True)\n",
        "    # remove_duplicate_rows_1.runsettings.target=''\n",
        "    remove_duplicate_rows_1.inputs.dataset.configure(mode='download')\n",
        "    \n",
        "    join_data_0 = join_data(\n",
        "        left_dataset=remove_duplicate_rows_0.outputs.results_dataset,\n",
        "        right_dataset=remove_duplicate_rows_1.outputs.results_dataset,\n",
        "        comma_separated_case_sensitive_names_of_join_key_columns_for_l='[{\"KeepInputDataOrder\":true,\"ColumnNames\":[\"Id\"]}]',\n",
        "        comma_separated_case_sensitive_names_of_join_key_columns_for_r='[{\"KeepInputDataOrder\":true,\"ColumnNames\":[\"Id\"]}]',\n",
        "        match_case=True,\n",
        "        join_type='Inner Join',\n",
        "        keep_right_key_columns_in_joined_table=False)\n",
        "    # join_data_0.runsettings.target=''\n",
        "    \n",
        "    normalize_data_0 = normalize_data(\n",
        "        dataset=join_data_0.outputs.results_dataset,\n",
        "        transformation_method='MinMax',\n",
        "        use_0_for_constant_columns_when_checked=True,\n",
        "        columns_to_transform='[{\"KeepInputDataOrder\":true,\"ColumnNames\":[\"BD_NormalizedImpressionWithFDAuthUserCount\"]}]')\n",
        "    # normalize_data_0.runsettings.target=''\n",
        "    \n",
        "    split_data_0 = split_data(\n",
        "        dataset=normalize_data_0.outputs.transformed_dataset,\n",
        "        splitting_mode='Split Rows',\n",
        "        fraction_of_rows_in_the_first_output_dataset=0.9,\n",
        "        randomized_split=True,\n",
        "        random_seed=0,\n",
        "        stratified_split='False',\n",
        "        stratification_key_column='')\n",
        "    # split_data_0.runsettings.target=''\n",
        "        \n",
        "    two_class_decision_forest_0 = two_class_decision_forest(\n",
        "        create_trainer_mode='SingleParameter',\n",
        "        number_of_decision_trees=8,\n",
        "        maximum_depth_of_the_decision_trees=32,\n",
        "        minimum_number_of_samples_per_leaf_node=1,\n",
        "        resampling_method='Bagging Resampling')\n",
        "    # two_class_decision_forest_0.runsettings.target=''\n",
        "    \n",
        "    train_model_0 = train_model(\n",
        "        dataset=split_data_0.outputs.results_dataset1,\n",
        "        untrained_model=two_class_decision_forest_0.outputs.untrained_model,\n",
        "        label_column='[{\"KeepInputDataOrder\":true,\"ColumnNames\":[\"Label\"]}]')\n",
        "    # train_model_0.runsettings.target=''\n",
        "    \n",
        "    score_model_0 = score_model(\n",
        "        trained_model=train_model_0.outputs.trained_model,\n",
        "        dataset=split_data_0.outputs.results_dataset2,\n",
        "        append_score_columns_to_output=True)\n",
        "    # score_model_0.runsettings.target=''\n",
        "    \n",
        "    evaluate_model_0 = evaluate_model(\n",
        "        scored_dataset=score_model_0.outputs.scored_dataset)\n",
        "    # evaluate_model_0.runsettings.target=''"
      ]
    },
    {
      "cell_type": "code",
      "execution_count": 7,
      "metadata": {},
      "outputs": [],
      "source": [
        "# create a pipeline\n",
        "pipeline = generated_pipeline()"
      ]
    },
    {
      "cell_type": "code",
      "execution_count": 8,
      "metadata": {},
      "outputs": [
        {
          "output_type": "display_data",
          "data": {
            "text/plain": "<IPython.core.display.Javascript object>",
            "application/javascript": "try {\n    require.undef(\"validate_widget\")\n\n    define('validate_widget', [\"@jupyter-widgets/base\"], function(widgets) {\n        var ValidateView = widgets.DOMWidgetView.extend({\n            render () {\n                window.widget_self = this\n                var visualize_id = this.model.get('visualize_id')\n\n                if (!window._renderLock) {\n                    window._renderLock = {}\n                }\n                if (window._renderLock[visualize_id]) {\n                    return\n                }\n                window._renderLock[visualize_id] = \"widget\"\n                console.log(\"load as widget\", Date.now())\n\n                var lib_url = this.model.get('lib_url')\n                var graph_json = JSON.parse(this.model.get('graph_json'))\n                var env_json = JSON.parse(this.model.get('env_json'))\n                var container_id = this.model.get('container_id')\n\n                window.render_container_id = container_id\n                window.graph_json = graph_json\n                window.env_json = env_json\n                window.before_script = performance.now()\n\n                var container = document.createElement('div')\n                container.id = container_id\n                this.el.appendChild(container)\n\n                var style = document.createElement('style')\n                style.innerHTML = [\n                    \"#\", container_id, \" svg.react-dag-editor-svg-container { height: 800px; }\",\n                    \".cell-output-ipywidget-background { background: transparent !important }\"\n                ].join('')\n                this.el.appendChild(style)\n\n                this.model.on('msg:custom', dispatchMessage, this);\n\n                if (!window.__event_hub) {\n                    window.__event_hub = {}\n                }\n                if (!window.__event_hub[container_id]) {\n                    window.__event_hub[container_id] = {}\n                }\n\n                if (!window.__send_event) {\n                    window.__send_event = {}\n                }\n                window.__send_event[container_id] = sendMessage.bind(this)\n\n                function sendMessage(message, uid, content) {\n                    return new Promise((resolve) => {\n                        this.model.send({\n                            message: `${message}:request`,\n                            body: {\n                                uid,\n                                content\n                            }\n                        })\n    \n                        var respMessageKey = `${message}:response`\n                        if (!window.__event_hub[container_id][respMessageKey]) {\n                            window.__event_hub[container_id][respMessageKey] = []\n                        }\n                        window.__event_hub[container_id][respMessageKey].push(callback)\n    \n                        function callback (response) {\n                            if (response.uid !== uid) {\n                                return\n                            }\n\n                            var idx = window.__event_hub[container_id][respMessageKey].indexOf(callback) \n                            window.__event_hub[container_id][respMessageKey].splice(idx, 1)\n                            \n                            resolve(response)\n                        }\n                    })\n                }\n\n                function dispatchMessage (rawMessage) {\n                    var message = rawMessage.message\n                    var body = rawMessage.body\n\n                    if (!window.__event_hub[container_id][message]) {\n                        window.__event_hub[container_id][message] = []\n                    }\n                    var listeners = window.__event_hub[container_id][message]\n\n                    listeners.forEach(cb => {\n                        try {\n                            cb(body)\n                        } catch (e) {\n                            console.error(\"Unexpected error in listener\", e)\n                        }\n                    })\n\n                    console.log(body)\n                }\n\n                var script = document.createElement('script')\n                script.src = lib_url\n                this.el.appendChild(script)\n            }\n        });\n\n        return {\n            ValidateView\n        }\n    })\n} catch (e) {\n    console.log(\"create validation widget failed\", e)\n}"
          },
          "metadata": {}
        },
        {
          "output_type": "display_data",
          "data": {
            "text/plain": "ValidateView(container_id='container_id_4c8f90db-50e4-4d88-b5cc-d8f40fd65403_widget', env_json='{\"subscription…",
            "application/vnd.jupyter.widget-view+json": {
              "version_major": 2,
              "version_minor": 0,
              "model_id": "0817eeb57ef34cd4843146cdb776f018"
            }
          },
          "metadata": {}
        },
        {
          "output_type": "display_data",
          "data": {
            "text/plain": "<IPython.core.display.HTML object>",
            "text/html": "\n        <style>\n        #container_id_4c8f90db-50e4-4d88-b5cc-d8f40fd65403_script svg.react-dag-editor-svg-container {\n            height: 800px;\n        }\n        </style>\n        <div id=\"container_id_4c8f90db-50e4-4d88-b5cc-d8f40fd65403_script\"></div>\n        <script>\n            (function () {\n                if (!window._renderLock) {\n                    window._renderLock = {}\n                }\n                if (window._renderLock[\"4c8f90db-50e4-4d88-b5cc-d8f40fd65403\"]) {\n                    return\n                }\n                window._renderLock[\"4c8f90db-50e4-4d88-b5cc-d8f40fd65403\"] = \"script\"\n                console.log(\"load as script\", Date.now())\n\n                window.render_container_id=\"container_id_4c8f90db-50e4-4d88-b5cc-d8f40fd65403_script\";\n                window.graph_json={\"pipeline\": {\"name\": [\"Bot-detection\"], \"data_references\": {\"BotDetectionLabelData\": {\"dataset_id\": \"bfa7d24e-6d6c-449b-beff-3964575b64c1\"}, \"BotDetectionFeatureData\": {\"dataset_id\": \"368f3fba-9eb8-49ae-9c60-0df1f7b57f56\"}}, \"steps\": {\"2700e899\": {\"inputs\": {\"Dataset\": {\"source\": \"BotDetectionLabelData\"}}, \"outputs\": {\"Results_dataset\": {\"destination\": \"9e36e56f-c9c8-401d-a32b-86da52910c4b_Results_dataset\"}}, \"module\": {\"id\": \"1822a903-6a68-5814-a6b7-b3126db840c0\", \"version\": \"0.0.128\"}, \"validate\": {\"error\": [], \"module_id\": \"1822a903-6a68-5814-a6b7-b3126db840c0\", \"namespace\": \"azureml\", \"module_name\": \"Remove Duplicate Rows\", \"module_version\": \"0.0.128\"}}, \"33a7b804\": {\"inputs\": {\"Dataset\": {\"source\": \"BotDetectionFeatureData\"}}, \"outputs\": {\"Results_dataset\": {\"destination\": \"a3b07fc8-bc10-4ae2-8d55-2d04b0ecd6c2_Results_dataset\"}}, \"module\": {\"id\": \"1822a903-6a68-5814-a6b7-b3126db840c0\", \"version\": \"0.0.128\"}, \"validate\": {\"error\": [], \"module_id\": \"1822a903-6a68-5814-a6b7-b3126db840c0\", \"namespace\": \"azureml\", \"module_name\": \"Remove Duplicate Rows\", \"module_version\": \"0.0.128\"}}, \"ed21f4c9\": {\"inputs\": {\"Dataset1\": {\"source\": \"9e36e56f-c9c8-401d-a32b-86da52910c4b_Results_dataset\"}, \"Dataset2\": {\"source\": \"a3b07fc8-bc10-4ae2-8d55-2d04b0ecd6c2_Results_dataset\"}}, \"outputs\": {\"Results_dataset\": {\"destination\": \"a54379f9-cbf1-4d7f-9da1-242ebdb1fe5a_Results_dataset\"}}, \"module\": {\"id\": \"b2a7a98f-b867-5846-95a0-290d5366b256\", \"version\": \"0.0.128\"}, \"validate\": {\"error\": [], \"module_id\": \"b2a7a98f-b867-5846-95a0-290d5366b256\", \"namespace\": \"azureml\", \"module_name\": \"Join Data\", \"module_version\": \"0.0.128\"}}, \"ae721056\": {\"inputs\": {\"Dataset\": {\"source\": \"a54379f9-cbf1-4d7f-9da1-242ebdb1fe5a_Results_dataset\"}}, \"outputs\": {\"Transformed_dataset\": {\"destination\": \"9a4f6a33-359b-4d20-898b-1c77b895945c_Transformed_dataset\"}, \"Transformation_function\": {\"destination\": \"9a4f6a33-359b-4d20-898b-1c77b895945c_Transformation_function\"}}, \"module\": {\"id\": \"5a35ffcf-b178-582c-b524-2493ec0e230b\", \"version\": \"0.0.128\"}, \"validate\": {\"error\": [], \"module_id\": \"5a35ffcf-b178-582c-b524-2493ec0e230b\", \"namespace\": \"azureml\", \"module_name\": \"Normalize Data\", \"module_version\": \"0.0.128\"}}, \"be1d5424\": {\"inputs\": {\"Dataset\": {\"source\": \"9a4f6a33-359b-4d20-898b-1c77b895945c_Transformed_dataset\"}}, \"outputs\": {\"Results_dataset1\": {\"destination\": \"3d4620c0-be8c-41fc-bbd9-43f83cd70459_Results_dataset1\"}, \"Results_dataset2\": {\"destination\": \"3d4620c0-be8c-41fc-bbd9-43f83cd70459_Results_dataset2\"}}, \"module\": {\"id\": \"382d2ac2-3b71-51a7-8947-7242a43c2481\", \"version\": \"0.0.128\"}, \"validate\": {\"error\": [], \"module_id\": \"382d2ac2-3b71-51a7-8947-7242a43c2481\", \"namespace\": \"azureml\", \"module_name\": \"Split Data\", \"module_version\": \"0.0.128\"}}, \"cac19346\": {\"inputs\": {}, \"outputs\": {\"Untrained_model\": {\"destination\": \"57e0e736-c9a4-4f8a-938b-1d343d8774d4_Untrained_model\"}}, \"module\": {\"id\": \"a1313ad3-4805-5a8b-b28b-4febc0427e13\", \"version\": \"0.0.128\"}, \"validate\": {\"error\": [], \"module_id\": \"a1313ad3-4805-5a8b-b28b-4febc0427e13\", \"namespace\": \"azureml\", \"module_name\": \"Two-Class Decision Forest\", \"module_version\": \"0.0.128\"}}, \"c1267153\": {\"inputs\": {\"Dataset\": {\"source\": \"3d4620c0-be8c-41fc-bbd9-43f83cd70459_Results_dataset1\"}, \"Untrained_model\": {\"source\": \"57e0e736-c9a4-4f8a-938b-1d343d8774d4_Untrained_model\"}}, \"outputs\": {\"Trained_model\": {\"destination\": \"be39d3ff-f04b-4d39-9842-3e649b0adae2_Trained_model\"}}, \"module\": {\"id\": \"23cc4671-8f27-5411-93ff-e3efcd6efe07\", \"version\": \"0.0.128\"}, \"validate\": {\"error\": [], \"module_id\": \"23cc4671-8f27-5411-93ff-e3efcd6efe07\", \"namespace\": \"azureml\", \"module_name\": \"Train Model\", \"module_version\": \"0.0.128\"}}, \"797f60a4\": {\"inputs\": {\"Trained_model\": {\"source\": \"be39d3ff-f04b-4d39-9842-3e649b0adae2_Trained_model\"}, \"Dataset\": {\"source\": \"3d4620c0-be8c-41fc-bbd9-43f83cd70459_Results_dataset2\"}}, \"outputs\": {\"Scored_dataset\": {\"destination\": \"2bce3473-9e46-4ec8-9ccb-906dc5adfd99_Scored_dataset\"}}, \"module\": {\"id\": \"b78e4652-6a07-593a-a737-c3ebb307d853\", \"version\": \"0.0.128\"}, \"validate\": {\"error\": [], \"module_id\": \"b78e4652-6a07-593a-a737-c3ebb307d853\", \"namespace\": \"azureml\", \"module_name\": \"Score Model\", \"module_version\": \"0.0.128\"}}, \"628937a9\": {\"inputs\": {\"Scored_dataset\": {\"source\": \"2bce3473-9e46-4ec8-9ccb-906dc5adfd99_Scored_dataset\"}}, \"outputs\": {\"Evaluation_results\": {\"destination\": \"d5ede83d-1b44-42bb-83f6-fdad85ca4d1c_Evaluation_results\"}}, \"module\": {\"id\": \"b82ef79e-d462-531c-bfc0-0d55932bda4b\", \"version\": \"0.0.128\"}, \"validate\": {\"error\": [], \"module_id\": \"b82ef79e-d462-531c-bfc0-0d55932bda4b\", \"namespace\": \"azureml\", \"module_name\": \"Evaluate Model\", \"module_version\": \"0.0.128\"}}}}, \"modules\": [{\"module_id\": \"1822a903-6a68-5814-a6b7-b3126db840c0\", \"version\": \"0.0.128\", \"name\": \"Remove Duplicate Rows\", \"namespace\": \"azureml\", \"structured_interface\": {\"inputs\": [{\"name\": \"Dataset\", \"label\": \"Dataset\", \"description\": \"Input dataset\", \"data_type_ids_list\": [\"DataFrameDirectory\"]}], \"outputs\": [{\"name\": \"Results_dataset\", \"label\": \"Results dataset\", \"description\": \"Filtered dataset\", \"data_type_id\": \"DataFrameDirectory\"}]}}, {\"module_id\": \"b2a7a98f-b867-5846-95a0-290d5366b256\", \"version\": \"0.0.128\", \"name\": \"Join Data\", \"namespace\": \"azureml\", \"structured_interface\": {\"inputs\": [{\"name\": \"Dataset1\", \"label\": \"Left dataset\", \"description\": \"First dataset to join\", \"data_type_ids_list\": [\"DataFrameDirectory\"]}, {\"name\": \"Dataset2\", \"label\": \"Right dataset\", \"description\": \"Second dataset to join\", \"data_type_ids_list\": [\"DataFrameDirectory\"]}], \"outputs\": [{\"name\": \"Results_dataset\", \"label\": \"Results dataset\", \"description\": \"Result of join operation\", \"data_type_id\": \"DataFrameDirectory\"}]}}, {\"module_id\": \"5a35ffcf-b178-582c-b524-2493ec0e230b\", \"version\": \"0.0.128\", \"name\": \"Normalize Data\", \"namespace\": \"azureml\", \"structured_interface\": {\"inputs\": [{\"name\": \"Dataset\", \"label\": \"Dataset\", \"description\": \"Input dataset\", \"data_type_ids_list\": [\"DataFrameDirectory\"]}], \"outputs\": [{\"name\": \"Transformed_dataset\", \"label\": \"Transformed dataset\", \"description\": \"Transformed dataset\", \"data_type_id\": \"DataFrameDirectory\"}, {\"name\": \"Transformation_function\", \"label\": \"Transformation function\", \"description\": \"Definition of the transformation function, which can be applied to other datasets\", \"data_type_id\": \"TransformationDirectory\"}]}}, {\"module_id\": \"382d2ac2-3b71-51a7-8947-7242a43c2481\", \"version\": \"0.0.128\", \"name\": \"Split Data\", \"namespace\": \"azureml\", \"structured_interface\": {\"inputs\": [{\"name\": \"Dataset\", \"label\": \"Dataset\", \"description\": \"Dataset to split\", \"data_type_ids_list\": [\"DataFrameDirectory\"]}], \"outputs\": [{\"name\": \"Results_dataset1\", \"label\": \"Results dataset1\", \"description\": \"Dataset containing selected rows\", \"data_type_id\": \"DataFrameDirectory\"}, {\"name\": \"Results_dataset2\", \"label\": \"Results dataset2\", \"description\": \"Dataset containing all other rows\", \"data_type_id\": \"DataFrameDirectory\"}]}}, {\"module_id\": \"a1313ad3-4805-5a8b-b28b-4febc0427e13\", \"version\": \"0.0.128\", \"name\": \"Two-Class Decision Forest\", \"namespace\": \"azureml\", \"structured_interface\": {\"inputs\": [], \"outputs\": [{\"name\": \"Untrained_model\", \"label\": \"Untrained model\", \"description\": \"An untrained binary classification model\", \"data_type_id\": \"UntrainedModelDirectory\"}]}}, {\"module_id\": \"23cc4671-8f27-5411-93ff-e3efcd6efe07\", \"version\": \"0.0.128\", \"name\": \"Train Model\", \"namespace\": \"azureml\", \"structured_interface\": {\"inputs\": [{\"name\": \"Untrained_model\", \"label\": \"Untrained model\", \"description\": \"Untrained learner\", \"data_type_ids_list\": [\"UntrainedModelDirectory\"]}, {\"name\": \"Dataset\", \"label\": \"Dataset\", \"description\": \"Training data\", \"data_type_ids_list\": [\"DataFrameDirectory\"]}], \"outputs\": [{\"name\": \"Trained_model\", \"label\": \"Trained model\", \"description\": \"Trained learner\", \"data_type_id\": \"ModelDirectory\"}]}}, {\"module_id\": \"b78e4652-6a07-593a-a737-c3ebb307d853\", \"version\": \"0.0.128\", \"name\": \"Score Model\", \"namespace\": \"azureml\", \"structured_interface\": {\"inputs\": [{\"name\": \"Trained_model\", \"label\": \"Trained model\", \"description\": \"Trained predictive model\", \"data_type_ids_list\": [\"ModelDirectory\"]}, {\"name\": \"Dataset\", \"label\": \"Dataset\", \"description\": \"Input test dataset\", \"data_type_ids_list\": [\"DataFrameDirectory\"]}], \"outputs\": [{\"name\": \"Scored_dataset\", \"label\": \"Scored dataset\", \"description\": \"Dataset with obtained scores\", \"data_type_id\": \"DataFrameDirectory\"}]}}, {\"module_id\": \"b82ef79e-d462-531c-bfc0-0d55932bda4b\", \"version\": \"0.0.128\", \"name\": \"Evaluate Model\", \"namespace\": \"azureml\", \"structured_interface\": {\"inputs\": [{\"name\": \"Scored_dataset\", \"label\": \"Scored dataset\", \"description\": \"Scored dataset\", \"data_type_ids_list\": [\"DataFrameDirectory\"]}, {\"name\": \"Scored_dataset_to_compare\", \"label\": \"Scored dataset to compare\", \"description\": \"Scored dataset to compare (optional)\", \"data_type_ids_list\": [\"DataFrameDirectory\"]}], \"outputs\": [{\"name\": \"Evaluation_results\", \"label\": \"Evaluation results\", \"description\": \"Data evaluation result\", \"data_type_id\": \"DataFrameDirectory\"}]}}], \"datasources\": [{\"name\": \"BotDetectionLabelData\", \"description\": null, \"version\": 1, \"tags\": {}, \"registered_id\": \"bfa7d24e-6d6c-449b-beff-3964575b64c1\", \"saved_id\": \"9f5edb89-1d17-4239-a30f-f52f0d833341\", \"nodeId\": \"dda27e7e-20df-39c6-bf05-9cfefc9e76f4\"}, {\"name\": \"BotDetectionFeatureData\", \"description\": null, \"version\": 1, \"tags\": {}, \"registered_id\": \"368f3fba-9eb8-49ae-9c60-0df1f7b57f56\", \"saved_id\": \"2fefc8c7-43b9-4816-9199-44e670dbd8b3\", \"nodeId\": \"9feacaf0-3dea-375d-985c-ffd73a91ad1b\"}], \"subGraphInfo\": [{\"name\": \"Bot-detection\", \"description\": \"bot detection\", \"default_compute_target\": {\"name\": \"k80-16-b\"}, \"default_data_store\": {\"data_store_name\": \"workspaceblobstore\"}, \"id\": \"0f0cb69a-9d71-4b8c-9cd9-7ea746a15e27\", \"pipeline_definition_id\": \"e6cf8855-d048-4a2d-ab99-543b9919e908\", \"sub_graph_parameter_assignment\": [], \"sub_graph_data_path_parameter_assignment\": [], \"sub_graph_default_compute_target_nodes\": [\"2700e899\", \"33a7b804\", \"ed21f4c9\", \"ae721056\", \"be1d5424\", \"cac19346\", \"c1267153\", \"797f60a4\", \"628937a9\"], \"sub_graph_default_data_store_nodes\": [\"2700e899\", \"33a7b804\", \"ed21f4c9\", \"ae721056\", \"be1d5424\", \"cac19346\", \"c1267153\", \"797f60a4\", \"628937a9\"], \"inputs\": [], \"outputs\": []}], \"nodeIdToSubGraphIdMapping\": {\"2700e899\": \"0f0cb69a-9d71-4b8c-9cd9-7ea746a15e27\", \"33a7b804\": \"0f0cb69a-9d71-4b8c-9cd9-7ea746a15e27\", \"ed21f4c9\": \"0f0cb69a-9d71-4b8c-9cd9-7ea746a15e27\", \"ae721056\": \"0f0cb69a-9d71-4b8c-9cd9-7ea746a15e27\", \"be1d5424\": \"0f0cb69a-9d71-4b8c-9cd9-7ea746a15e27\", \"cac19346\": \"0f0cb69a-9d71-4b8c-9cd9-7ea746a15e27\", \"c1267153\": \"0f0cb69a-9d71-4b8c-9cd9-7ea746a15e27\", \"797f60a4\": \"0f0cb69a-9d71-4b8c-9cd9-7ea746a15e27\", \"628937a9\": \"0f0cb69a-9d71-4b8c-9cd9-7ea746a15e27\"}, \"subPipelineDefinition\": [{\"name\": \"Bot-detection\", \"description\": \"bot detection\", \"default_compute_target\": {\"name\": \"k80-16-b\"}, \"default_data_store\": {\"data_store_name\": \"workspaceblobstore\"}, \"pipeline_function_name\": \"generated_pipeline\", \"id\": \"e6cf8855-d048-4a2d-ab99-543b9919e908\", \"from_module_name\": \"__main__\", \"parameter_list\": []}]};\n                window.env_json={\"subscription_id\": \"4aaa645c-5ae2-4ae9-a17a-84b9023bc56a\"};\n                window.before_script = performance.now();\n\n                var script = document.createElement('script')\n                script.src = \"https://yucongj.azureedge.net/libs/prod/0.0.7/index.js\"\n                document.getElementById(\"container_id_4c8f90db-50e4-4d88-b5cc-d8f40fd65403_script\").appendChild(script)\n            })()\n        </script>\n        "
          },
          "metadata": {}
        },
        {
          "output_type": "execute_result",
          "data": {
            "text/plain": "{'result': 'validation passed', 'errors': []}"
          },
          "metadata": {},
          "execution_count": 8
        }
      ],
      "source": [
        "# validate pipeline and visualize the graph\n",
        "pipeline.validate()"
      ]
    },
    {
      "cell_type": "code",
      "execution_count": 9,
      "metadata": {
        "tags": []
      },
      "outputs": [
        {
          "output_type": "stream",
          "name": "stdout",
          "text": "Submitted PipelineRun c3c54317-a433-438c-88a7-e9a9f7ab9c4a\nLink to Azure Machine Learning Portal: https://ml.azure.com/experiments/bot-detection/runs/c3c54317-a433-438c-88a7-e9a9f7ab9c4a?wsid=/subscriptions/4aaa645c-5ae2-4ae9-a17a-84b9023bc56a/resourcegroups/itp-pilot-ResGrp/workspaces/itp-pilot\nPipelineRunId: c3c54317-a433-438c-88a7-e9a9f7ab9c4a\nLink to Azure Machine Learning Portal: https://ml.azure.com/experiments/bot-detection/runs/c3c54317-a433-438c-88a7-e9a9f7ab9c4a?wsid=/subscriptions/4aaa645c-5ae2-4ae9-a17a-84b9023bc56a/resourcegroups/itp-pilot-ResGrp/workspaces/itp-pilot\n"
        },
        {
          "output_type": "display_data",
          "data": {
            "text/plain": "<IPython.core.display.Javascript object>",
            "application/javascript": "try {\n    require.undef(\"validate_widget\")\n\n    define('validate_widget', [\"@jupyter-widgets/base\"], function(widgets) {\n        var ValidateView = widgets.DOMWidgetView.extend({\n            render () {\n                window.widget_self = this\n                var visualize_id = this.model.get('visualize_id')\n\n                if (!window._renderLock) {\n                    window._renderLock = {}\n                }\n                if (window._renderLock[visualize_id]) {\n                    return\n                }\n                window._renderLock[visualize_id] = \"widget\"\n                console.log(\"load as widget\", Date.now())\n\n                var lib_url = this.model.get('lib_url')\n                var graph_json = JSON.parse(this.model.get('graph_json'))\n                var env_json = JSON.parse(this.model.get('env_json'))\n                var container_id = this.model.get('container_id')\n\n                window.render_container_id = container_id\n                window.graph_json = graph_json\n                window.env_json = env_json\n                window.before_script = performance.now()\n\n                var container = document.createElement('div')\n                container.id = container_id\n                this.el.appendChild(container)\n\n                var style = document.createElement('style')\n                style.innerHTML = [\n                    \"#\", container_id, \" svg.react-dag-editor-svg-container { height: 800px; }\",\n                    \".cell-output-ipywidget-background { background: transparent !important }\"\n                ].join('')\n                this.el.appendChild(style)\n\n                this.model.on('msg:custom', dispatchMessage, this);\n\n                if (!window.__event_hub) {\n                    window.__event_hub = {}\n                }\n                if (!window.__event_hub[container_id]) {\n                    window.__event_hub[container_id] = {}\n                }\n\n                if (!window.__send_event) {\n                    window.__send_event = {}\n                }\n                window.__send_event[container_id] = sendMessage.bind(this)\n\n                function sendMessage(message, uid, content) {\n                    return new Promise((resolve) => {\n                        this.model.send({\n                            message: `${message}:request`,\n                            body: {\n                                uid,\n                                content\n                            }\n                        })\n    \n                        var respMessageKey = `${message}:response`\n                        if (!window.__event_hub[container_id][respMessageKey]) {\n                            window.__event_hub[container_id][respMessageKey] = []\n                        }\n                        window.__event_hub[container_id][respMessageKey].push(callback)\n    \n                        function callback (response) {\n                            if (response.uid !== uid) {\n                                return\n                            }\n\n                            var idx = window.__event_hub[container_id][respMessageKey].indexOf(callback) \n                            window.__event_hub[container_id][respMessageKey].splice(idx, 1)\n                            \n                            resolve(response)\n                        }\n                    })\n                }\n\n                function dispatchMessage (rawMessage) {\n                    var message = rawMessage.message\n                    var body = rawMessage.body\n\n                    if (!window.__event_hub[container_id][message]) {\n                        window.__event_hub[container_id][message] = []\n                    }\n                    var listeners = window.__event_hub[container_id][message]\n\n                    listeners.forEach(cb => {\n                        try {\n                            cb(body)\n                        } catch (e) {\n                            console.error(\"Unexpected error in listener\", e)\n                        }\n                    })\n\n                    console.log(body)\n                }\n\n                var script = document.createElement('script')\n                script.src = lib_url\n                this.el.appendChild(script)\n            }\n        });\n\n        return {\n            ValidateView\n        }\n    })\n} catch (e) {\n    console.log(\"create validation widget failed\", e)\n}"
          },
          "metadata": {}
        },
        {
          "output_type": "display_data",
          "data": {
            "text/plain": "ValidateView(container_id='container_id_f5891cc6-d145-4695-b733-621a01412257_widget', env_json='{}', graph_jso…",
            "application/vnd.jupyter.widget-view+json": {
              "version_major": 2,
              "version_minor": 0,
              "model_id": "3b58738135974252abb7cc53fdd49285"
            }
          },
          "metadata": {}
        },
        {
          "output_type": "display_data",
          "data": {
            "text/plain": "<IPython.core.display.HTML object>",
            "text/html": "\n        <style>\n        #container_id_f5891cc6-d145-4695-b733-621a01412257_script svg.react-dag-editor-svg-container {\n            height: 800px;\n        }\n        </style>\n        <div id=\"container_id_f5891cc6-d145-4695-b733-621a01412257_script\"></div>\n        <script>\n            (function () {\n                if (!window._renderLock) {\n                    window._renderLock = {}\n                }\n                if (window._renderLock[\"f5891cc6-d145-4695-b733-621a01412257\"]) {\n                    return\n                }\n                window._renderLock[\"f5891cc6-d145-4695-b733-621a01412257\"] = \"script\"\n                console.log(\"load as script\", Date.now())\n\n                window.render_container_id=\"container_id_f5891cc6-d145-4695-b733-621a01412257_script\";\n                window.graph_json={\"pipeline\": {\"name\": [\"Bot-detection\"], \"data_references\": {\"BotDetectionLabelData\": {\"dataset_id\": \"bfa7d24e-6d6c-449b-beff-3964575b64c1\"}, \"BotDetectionFeatureData\": {\"dataset_id\": \"368f3fba-9eb8-49ae-9c60-0df1f7b57f56\"}}, \"steps\": {\"b63f09c6\": {\"inputs\": {\"Dataset\": {\"source\": \"BotDetectionLabelData\"}}, \"outputs\": {\"Results_dataset\": {\"destination\": \"9e36e56f-c9c8-401d-a32b-86da52910c4b_Results_dataset\"}}, \"module\": {\"id\": \"1822a903-6a68-5814-a6b7-b3126db840c0\", \"version\": \"0.0.128\"}, \"validate\": {\"error\": [], \"module_id\": \"1822a903-6a68-5814-a6b7-b3126db840c0\", \"namespace\": \"azureml\", \"module_name\": \"Remove Duplicate Rows\", \"module_version\": \"0.0.128\"}}, \"3099874c\": {\"inputs\": {\"Dataset\": {\"source\": \"BotDetectionFeatureData\"}}, \"outputs\": {\"Results_dataset\": {\"destination\": \"a3b07fc8-bc10-4ae2-8d55-2d04b0ecd6c2_Results_dataset\"}}, \"module\": {\"id\": \"1822a903-6a68-5814-a6b7-b3126db840c0\", \"version\": \"0.0.128\"}, \"validate\": {\"error\": [], \"module_id\": \"1822a903-6a68-5814-a6b7-b3126db840c0\", \"namespace\": \"azureml\", \"module_name\": \"Remove Duplicate Rows\", \"module_version\": \"0.0.128\"}}, \"d2dbc74f\": {\"inputs\": {\"Dataset1\": {\"source\": \"9e36e56f-c9c8-401d-a32b-86da52910c4b_Results_dataset\"}, \"Dataset2\": {\"source\": \"a3b07fc8-bc10-4ae2-8d55-2d04b0ecd6c2_Results_dataset\"}}, \"outputs\": {\"Results_dataset\": {\"destination\": \"a54379f9-cbf1-4d7f-9da1-242ebdb1fe5a_Results_dataset\"}}, \"module\": {\"id\": \"b2a7a98f-b867-5846-95a0-290d5366b256\", \"version\": \"0.0.128\"}, \"validate\": {\"error\": [], \"module_id\": \"b2a7a98f-b867-5846-95a0-290d5366b256\", \"namespace\": \"azureml\", \"module_name\": \"Join Data\", \"module_version\": \"0.0.128\"}}, \"df1b7a40\": {\"inputs\": {\"Dataset\": {\"source\": \"a54379f9-cbf1-4d7f-9da1-242ebdb1fe5a_Results_dataset\"}}, \"outputs\": {\"Transformed_dataset\": {\"destination\": \"9a4f6a33-359b-4d20-898b-1c77b895945c_Transformed_dataset\"}, \"Transformation_function\": {\"destination\": \"9a4f6a33-359b-4d20-898b-1c77b895945c_Transformation_function\"}}, \"module\": {\"id\": \"5a35ffcf-b178-582c-b524-2493ec0e230b\", \"version\": \"0.0.128\"}, \"validate\": {\"error\": [], \"module_id\": \"5a35ffcf-b178-582c-b524-2493ec0e230b\", \"namespace\": \"azureml\", \"module_name\": \"Normalize Data\", \"module_version\": \"0.0.128\"}}, \"4983f3b0\": {\"inputs\": {\"Dataset\": {\"source\": \"9a4f6a33-359b-4d20-898b-1c77b895945c_Transformed_dataset\"}}, \"outputs\": {\"Results_dataset1\": {\"destination\": \"3d4620c0-be8c-41fc-bbd9-43f83cd70459_Results_dataset1\"}, \"Results_dataset2\": {\"destination\": \"3d4620c0-be8c-41fc-bbd9-43f83cd70459_Results_dataset2\"}}, \"module\": {\"id\": \"382d2ac2-3b71-51a7-8947-7242a43c2481\", \"version\": \"0.0.128\"}, \"validate\": {\"error\": [], \"module_id\": \"382d2ac2-3b71-51a7-8947-7242a43c2481\", \"namespace\": \"azureml\", \"module_name\": \"Split Data\", \"module_version\": \"0.0.128\"}}, \"45aaca2b\": {\"inputs\": {}, \"outputs\": {\"Untrained_model\": {\"destination\": \"57e0e736-c9a4-4f8a-938b-1d343d8774d4_Untrained_model\"}}, \"module\": {\"id\": \"a1313ad3-4805-5a8b-b28b-4febc0427e13\", \"version\": \"0.0.128\"}, \"validate\": {\"error\": [], \"module_id\": \"a1313ad3-4805-5a8b-b28b-4febc0427e13\", \"namespace\": \"azureml\", \"module_name\": \"Two-Class Decision Forest\", \"module_version\": \"0.0.128\"}}, \"808fb5ba\": {\"inputs\": {\"Dataset\": {\"source\": \"3d4620c0-be8c-41fc-bbd9-43f83cd70459_Results_dataset1\"}, \"Untrained_model\": {\"source\": \"57e0e736-c9a4-4f8a-938b-1d343d8774d4_Untrained_model\"}}, \"outputs\": {\"Trained_model\": {\"destination\": \"be39d3ff-f04b-4d39-9842-3e649b0adae2_Trained_model\"}}, \"module\": {\"id\": \"23cc4671-8f27-5411-93ff-e3efcd6efe07\", \"version\": \"0.0.128\"}, \"validate\": {\"error\": [], \"module_id\": \"23cc4671-8f27-5411-93ff-e3efcd6efe07\", \"namespace\": \"azureml\", \"module_name\": \"Train Model\", \"module_version\": \"0.0.128\"}}, \"4c8e851b\": {\"inputs\": {\"Trained_model\": {\"source\": \"be39d3ff-f04b-4d39-9842-3e649b0adae2_Trained_model\"}, \"Dataset\": {\"source\": \"3d4620c0-be8c-41fc-bbd9-43f83cd70459_Results_dataset2\"}}, \"outputs\": {\"Scored_dataset\": {\"destination\": \"2bce3473-9e46-4ec8-9ccb-906dc5adfd99_Scored_dataset\"}}, \"module\": {\"id\": \"b78e4652-6a07-593a-a737-c3ebb307d853\", \"version\": \"0.0.128\"}, \"validate\": {\"error\": [], \"module_id\": \"b78e4652-6a07-593a-a737-c3ebb307d853\", \"namespace\": \"azureml\", \"module_name\": \"Score Model\", \"module_version\": \"0.0.128\"}}, \"d94afb7b\": {\"inputs\": {\"Scored_dataset\": {\"source\": \"2bce3473-9e46-4ec8-9ccb-906dc5adfd99_Scored_dataset\"}}, \"outputs\": {\"Evaluation_results\": {\"destination\": \"d5ede83d-1b44-42bb-83f6-fdad85ca4d1c_Evaluation_results\"}}, \"module\": {\"id\": \"b82ef79e-d462-531c-bfc0-0d55932bda4b\", \"version\": \"0.0.128\"}, \"validate\": {\"error\": [], \"module_id\": \"b82ef79e-d462-531c-bfc0-0d55932bda4b\", \"namespace\": \"azureml\", \"module_name\": \"Evaluate Model\", \"module_version\": \"0.0.128\"}}}}, \"modules\": [{\"module_id\": \"1822a903-6a68-5814-a6b7-b3126db840c0\", \"version\": \"0.0.128\", \"name\": \"Remove Duplicate Rows\", \"namespace\": \"azureml\", \"structured_interface\": {\"inputs\": [{\"name\": \"Dataset\", \"label\": \"Dataset\", \"description\": \"Input dataset\", \"data_type_ids_list\": [\"DataFrameDirectory\"]}], \"outputs\": [{\"name\": \"Results_dataset\", \"label\": \"Results dataset\", \"description\": \"Filtered dataset\", \"data_type_id\": \"DataFrameDirectory\"}]}}, {\"module_id\": \"b2a7a98f-b867-5846-95a0-290d5366b256\", \"version\": \"0.0.128\", \"name\": \"Join Data\", \"namespace\": \"azureml\", \"structured_interface\": {\"inputs\": [{\"name\": \"Dataset1\", \"label\": \"Left dataset\", \"description\": \"First dataset to join\", \"data_type_ids_list\": [\"DataFrameDirectory\"]}, {\"name\": \"Dataset2\", \"label\": \"Right dataset\", \"description\": \"Second dataset to join\", \"data_type_ids_list\": [\"DataFrameDirectory\"]}], \"outputs\": [{\"name\": \"Results_dataset\", \"label\": \"Results dataset\", \"description\": \"Result of join operation\", \"data_type_id\": \"DataFrameDirectory\"}]}}, {\"module_id\": \"5a35ffcf-b178-582c-b524-2493ec0e230b\", \"version\": \"0.0.128\", \"name\": \"Normalize Data\", \"namespace\": \"azureml\", \"structured_interface\": {\"inputs\": [{\"name\": \"Dataset\", \"label\": \"Dataset\", \"description\": \"Input dataset\", \"data_type_ids_list\": [\"DataFrameDirectory\"]}], \"outputs\": [{\"name\": \"Transformed_dataset\", \"label\": \"Transformed dataset\", \"description\": \"Transformed dataset\", \"data_type_id\": \"DataFrameDirectory\"}, {\"name\": \"Transformation_function\", \"label\": \"Transformation function\", \"description\": \"Definition of the transformation function, which can be applied to other datasets\", \"data_type_id\": \"TransformationDirectory\"}]}}, {\"module_id\": \"382d2ac2-3b71-51a7-8947-7242a43c2481\", \"version\": \"0.0.128\", \"name\": \"Split Data\", \"namespace\": \"azureml\", \"structured_interface\": {\"inputs\": [{\"name\": \"Dataset\", \"label\": \"Dataset\", \"description\": \"Dataset to split\", \"data_type_ids_list\": [\"DataFrameDirectory\"]}], \"outputs\": [{\"name\": \"Results_dataset1\", \"label\": \"Results dataset1\", \"description\": \"Dataset containing selected rows\", \"data_type_id\": \"DataFrameDirectory\"}, {\"name\": \"Results_dataset2\", \"label\": \"Results dataset2\", \"description\": \"Dataset containing all other rows\", \"data_type_id\": \"DataFrameDirectory\"}]}}, {\"module_id\": \"a1313ad3-4805-5a8b-b28b-4febc0427e13\", \"version\": \"0.0.128\", \"name\": \"Two-Class Decision Forest\", \"namespace\": \"azureml\", \"structured_interface\": {\"inputs\": [], \"outputs\": [{\"name\": \"Untrained_model\", \"label\": \"Untrained model\", \"description\": \"An untrained binary classification model\", \"data_type_id\": \"UntrainedModelDirectory\"}]}}, {\"module_id\": \"23cc4671-8f27-5411-93ff-e3efcd6efe07\", \"version\": \"0.0.128\", \"name\": \"Train Model\", \"namespace\": \"azureml\", \"structured_interface\": {\"inputs\": [{\"name\": \"Untrained_model\", \"label\": \"Untrained model\", \"description\": \"Untrained learner\", \"data_type_ids_list\": [\"UntrainedModelDirectory\"]}, {\"name\": \"Dataset\", \"label\": \"Dataset\", \"description\": \"Training data\", \"data_type_ids_list\": [\"DataFrameDirectory\"]}], \"outputs\": [{\"name\": \"Trained_model\", \"label\": \"Trained model\", \"description\": \"Trained learner\", \"data_type_id\": \"ModelDirectory\"}]}}, {\"module_id\": \"b78e4652-6a07-593a-a737-c3ebb307d853\", \"version\": \"0.0.128\", \"name\": \"Score Model\", \"namespace\": \"azureml\", \"structured_interface\": {\"inputs\": [{\"name\": \"Trained_model\", \"label\": \"Trained model\", \"description\": \"Trained predictive model\", \"data_type_ids_list\": [\"ModelDirectory\"]}, {\"name\": \"Dataset\", \"label\": \"Dataset\", \"description\": \"Input test dataset\", \"data_type_ids_list\": [\"DataFrameDirectory\"]}], \"outputs\": [{\"name\": \"Scored_dataset\", \"label\": \"Scored dataset\", \"description\": \"Dataset with obtained scores\", \"data_type_id\": \"DataFrameDirectory\"}]}}, {\"module_id\": \"b82ef79e-d462-531c-bfc0-0d55932bda4b\", \"version\": \"0.0.128\", \"name\": \"Evaluate Model\", \"namespace\": \"azureml\", \"structured_interface\": {\"inputs\": [{\"name\": \"Scored_dataset\", \"label\": \"Scored dataset\", \"description\": \"Scored dataset\", \"data_type_ids_list\": [\"DataFrameDirectory\"]}, {\"name\": \"Scored_dataset_to_compare\", \"label\": \"Scored dataset to compare\", \"description\": \"Scored dataset to compare (optional)\", \"data_type_ids_list\": [\"DataFrameDirectory\"]}], \"outputs\": [{\"name\": \"Evaluation_results\", \"label\": \"Evaluation results\", \"description\": \"Data evaluation result\", \"data_type_id\": \"DataFrameDirectory\"}]}}], \"datasources\": [{\"name\": \"BotDetectionLabelData\", \"description\": null, \"version\": 1, \"tags\": {}, \"registered_id\": \"bfa7d24e-6d6c-449b-beff-3964575b64c1\", \"saved_id\": \"9f5edb89-1d17-4239-a30f-f52f0d833341\", \"nodeId\": \"dda27e7e-20df-39c6-bf05-9cfefc9e76f4\"}, {\"name\": \"BotDetectionFeatureData\", \"description\": null, \"version\": 1, \"tags\": {}, \"registered_id\": \"368f3fba-9eb8-49ae-9c60-0df1f7b57f56\", \"saved_id\": \"2fefc8c7-43b9-4816-9199-44e670dbd8b3\", \"nodeId\": \"9feacaf0-3dea-375d-985c-ffd73a91ad1b\"}], \"subGraphInfo\": [{\"name\": \"Bot-detection\", \"description\": \"bot detection\", \"default_compute_target\": {\"name\": \"k80-16-b\"}, \"default_data_store\": {\"data_store_name\": \"workspaceblobstore\"}, \"id\": \"0f0cb69a-9d71-4b8c-9cd9-7ea746a15e27\", \"pipeline_definition_id\": \"e6cf8855-d048-4a2d-ab99-543b9919e908\", \"sub_graph_parameter_assignment\": [], \"sub_graph_data_path_parameter_assignment\": [], \"sub_graph_default_compute_target_nodes\": [\"b63f09c6\", \"3099874c\", \"d2dbc74f\", \"df1b7a40\", \"4983f3b0\", \"45aaca2b\", \"808fb5ba\", \"4c8e851b\", \"d94afb7b\"], \"sub_graph_default_data_store_nodes\": [\"b63f09c6\", \"3099874c\", \"d2dbc74f\", \"df1b7a40\", \"4983f3b0\", \"45aaca2b\", \"808fb5ba\", \"4c8e851b\", \"d94afb7b\"], \"inputs\": [], \"outputs\": []}], \"nodeIdToSubGraphIdMapping\": {\"b63f09c6\": \"0f0cb69a-9d71-4b8c-9cd9-7ea746a15e27\", \"3099874c\": \"0f0cb69a-9d71-4b8c-9cd9-7ea746a15e27\", \"d2dbc74f\": \"0f0cb69a-9d71-4b8c-9cd9-7ea746a15e27\", \"df1b7a40\": \"0f0cb69a-9d71-4b8c-9cd9-7ea746a15e27\", \"4983f3b0\": \"0f0cb69a-9d71-4b8c-9cd9-7ea746a15e27\", \"45aaca2b\": \"0f0cb69a-9d71-4b8c-9cd9-7ea746a15e27\", \"808fb5ba\": \"0f0cb69a-9d71-4b8c-9cd9-7ea746a15e27\", \"4c8e851b\": \"0f0cb69a-9d71-4b8c-9cd9-7ea746a15e27\", \"d94afb7b\": \"0f0cb69a-9d71-4b8c-9cd9-7ea746a15e27\"}, \"subPipelineDefinition\": [{\"name\": \"Bot-detection\", \"description\": \"bot detection\", \"default_compute_target\": {\"name\": \"k80-16-b\"}, \"default_data_store\": {\"data_store_name\": \"workspaceblobstore\"}, \"pipeline_function_name\": \"generated_pipeline\", \"id\": \"e6cf8855-d048-4a2d-ab99-543b9919e908\", \"from_module_name\": \"__main__\", \"parameter_list\": []}]};\n                window.env_json={};\n                window.before_script = performance.now();\n\n                var script = document.createElement('script')\n                script.src = \"https://yucongj.azureedge.net/libs/prod/0.0.7/index.js\"\n                document.getElementById(\"container_id_f5891cc6-d145-4695-b733-621a01412257_script\").appendChild(script)\n            })()\n        </script>\n        "
          },
          "metadata": {}
        },
        {
          "output_type": "execute_result",
          "data": {
            "text/plain": "<RunStatus.failed: 'Failed'>"
          },
          "metadata": {},
          "execution_count": 9
        }
      ],
      "source": [
        "# submit a pipeline run\n",
        "pipeline.submit(experiment_name='bot-detection').wait_for_completion()"
      ]
    }
  ]
}