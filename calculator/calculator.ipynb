{
 "cells": [
  {
   "cell_type": "code",
   "execution_count": 1,
   "metadata": {},
   "outputs": [],
   "source": [
    "from azureml.pipeline.wrapper import Pipeline, Module, dsl"
   ]
  },
  {
   "cell_type": "code",
   "execution_count": 2,
   "metadata": {},
   "outputs": [],
   "source": [
    "from azureml.core import Workspace, Run, Dataset\n",
    "ws = Workspace.get(subscription_id='74eccef0-4b8d-4f83-b5f9-fa100d155b22', name='kubeflow_ws_1', resource_group='kubeflow-demo')"
   ]
  },
  {
   "cell_type": "code",
   "execution_count": 3,
   "metadata": {},
   "outputs": [],
   "source": [
    "from add import add\n",
    "from enter_num_manually import enter_num_manually"
   ]
  },
  {
   "cell_type": "code",
   "execution_count": 4,
   "metadata": {},
   "outputs": [],
   "source": [
    "enter_num = Module.from_func(ws, enter_num_manually)\n",
    "add_two_num = Module.from_func(ws, add)\n",
    "multiply_two_num = Module.from_yaml(ws, './multiply/multiply.yaml')"
   ]
  },
  {
   "cell_type": "code",
   "execution_count": 5,
   "metadata": {},
   "outputs": [
    {
     "output_type": "display_data",
     "data": {
      "text/plain": "<IPython.core.display.Javascript object>",
      "application/javascript": "try {\n    require.undef(\"support_detect_widget\")\n\n    define('support_detect_widget', [\"@jupyter-widgets/base\"], function(widgets) {\n        var SupportDetectView = widgets.DOMWidgetView.extend({\n            render () {\n                this.send(\"supported\")\n            }\n        });\n\n        return {\n            SupportDetectView\n        }\n    })\n} catch (e) {\n    console.log(\"load widget support detect failed\", e)\n}"
     },
     "metadata": {}
    },
    {
     "output_type": "display_data",
     "data": {
      "text/plain": "<IPython.core.display.Javascript object>",
      "application/javascript": "require.undef(\"validate_widget\")\n\ndefine('validate_widget', [\"@jupyter-widgets/base\"], function(widgets) {\n    var ValidateView = widgets.DOMWidgetView.extend({\n        render () {\n            window.self = this\n\n            var lib_url = this.model.get('lib_url')\n            var graph_json = JSON.parse(this.model.get('graph_json'))\n            var env_json = JSON.parse(this.model.get('env_json'))\n            var container_id = this.model.get('container_id')\n\n            window.render_container_id = container_id\n            window.graph_json = graph_json\n            window.env_json = env_json\n            window.before_script = performance.now()\n\n            var container = document.createElement('div')\n            container.id = container_id\n            this.el.appendChild(container)\n\n            var style = document.createElement('style')\n            style.innerHTML = [\"#\", container_id, \" svg.react-dag-editor-svg-container { height: 800px; }\"].join('')\n            this.el.appendChild(style)\n\n            var script = document.createElement('script')\n            script.src = lib_url\n            this.el.appendChild(script)\n\n            this.model.on('change:progress', progressChanged, this);\n\n            if (!window.__event_hub) {\n                window.__event_hub = {}\n            }\n            if (!window.__event_hub[container_id]) {\n                window.__event_hub[container_id] = {}\n            }\n            if (!window.__event_hub[container_id].onProgressUpdate) {\n                window.__event_hub[container_id].onProgressUpdate = []\n            }\n\n            function progressChanged () {\n                const value = this.model.get('progress')\n                console.log(\"progress updated\", value)\n                window.__event_hub[container_id].onProgressUpdate.forEach(cb => {\n                    cb(value)\n                })\n            }\n        }\n    });\n\n    return {\n        ValidateView\n    }\n})"
     },
     "metadata": {}
    },
    {
     "output_type": "display_data",
     "data": {
      "text/plain": "SupportDetectView()",
      "application/vnd.jupyter.widget-view+json": {
       "version_major": 2,
       "version_minor": 0,
       "model_id": "6d8dd4990bb64e46a1a426073d03f2ae"
      }
     },
     "metadata": {}
    },
    {
     "output_type": "display_data",
     "data": {
      "text/plain": "<IPython.core.display.HTML object>",
      "text/html": "\n        <style>\n        #container_id_c1fcc768-76b7-4ae4-8d34-31e36d2e31e8 svg.react-dag-editor-svg-container {\n            height: 800px;\n        }\n        </style>\n        <div id=\"container_id_c1fcc768-76b7-4ae4-8d34-31e36d2e31e8\"></div>\n        <script>\n            window.render_container_id=\"container_id_c1fcc768-76b7-4ae4-8d34-31e36d2e31e8\";\n            window.graph_json={\"pipeline\": {\"name\": \"Calculator\", \"data_references\": null, \"steps\": {\"62f0b0c5-31a8-4fef-bcc1-93894d37b354\": {\"inputs\": {}, \"outputs\": {\"Output\": {\"destination\": \"62f0b0c5-31a8-4fef-bcc1-93894d37b354_Output\"}}, \"module\": {\"id\": \"87b4c224-7cfd-4833-8b3b-a09b24febec6\", \"version\": \"0.0.1\"}, \"validate\": {\"error\": [], \"module_id\": \"87b4c224-7cfd-4833-8b3b-a09b24febec6\", \"namespace\": \"kubeflow_ws_1\", \"module_name\": \"enter_num_manually\", \"module_version\": \"0.0.1\"}}, \"babcfee7-140a-42ba-b3e7-14aa659e54f7\": {\"inputs\": {}, \"outputs\": {\"Output\": {\"destination\": \"babcfee7-140a-42ba-b3e7-14aa659e54f7_Output\"}}, \"module\": {\"id\": \"87b4c224-7cfd-4833-8b3b-a09b24febec6\", \"version\": \"0.0.1\"}, \"validate\": {\"error\": [], \"module_id\": \"87b4c224-7cfd-4833-8b3b-a09b24febec6\", \"namespace\": \"kubeflow_ws_1\", \"module_name\": \"enter_num_manually\", \"module_version\": \"0.0.1\"}}, \"19acc578-aad9-45a0-bcf2-19807635727e\": {\"inputs\": {\"Left\": {\"source\": \"62f0b0c5-31a8-4fef-bcc1-93894d37b354_Output\"}, \"Right\": {\"source\": \"babcfee7-140a-42ba-b3e7-14aa659e54f7_Output\"}}, \"outputs\": {\"Output\": {\"destination\": \"19acc578-aad9-45a0-bcf2-19807635727e_Output\"}}, \"module\": {\"id\": \"aca1bfed-a41f-4f69-acb8-b09c21bbb0bf\", \"version\": \"0.0.1\"}, \"validate\": {\"error\": [], \"module_id\": \"aca1bfed-a41f-4f69-acb8-b09c21bbb0bf\", \"namespace\": \"kubeflow_ws_1\", \"module_name\": \"add\", \"module_version\": \"0.0.1\"}}, \"2863c840-7b57-4506-961f-e3fa301f2a4c\": {\"inputs\": {}, \"outputs\": {\"Output\": {\"destination\": \"2863c840-7b57-4506-961f-e3fa301f2a4c_Output\"}}, \"module\": {\"id\": \"87b4c224-7cfd-4833-8b3b-a09b24febec6\", \"version\": \"0.0.1\"}, \"validate\": {\"error\": [], \"module_id\": \"87b4c224-7cfd-4833-8b3b-a09b24febec6\", \"namespace\": \"kubeflow_ws_1\", \"module_name\": \"enter_num_manually\", \"module_version\": \"0.0.1\"}}, \"9fff6fd4-bd5d-42a3-8bd2-df0f39b8b38d\": {\"inputs\": {\"Left\": {\"source\": \"2863c840-7b57-4506-961f-e3fa301f2a4c_Output\"}, \"Right\": {\"source\": \"19acc578-aad9-45a0-bcf2-19807635727e_Output\"}}, \"outputs\": {\"Result\": {\"destination\": \"9fff6fd4-bd5d-42a3-8bd2-df0f39b8b38d_Result\"}}, \"module\": {\"id\": \"c95b4b40-5e06-42c0-b33e-f71aeaf26062\", \"version\": \"0.0.1\"}, \"validate\": {\"error\": [], \"module_id\": \"c95b4b40-5e06-42c0-b33e-f71aeaf26062\", \"namespace\": \"kubeflow_ws_1\", \"module_name\": \"multiply\", \"module_version\": \"0.0.1\"}}}}, \"subGraphInfo\": [{\"name\": \"Calculator\", \"description\": \"Calculator - an illustrative sample pipeline\", \"defaultCompute\": \"cpu-lowpri\", \"id\": \"bd20d660-0714-4eab-92ba-e0fb59755abd\", \"parentGraphId\": null, \"inputs\": [], \"outputs\": []}], \"nodeIdToSubGraphIdMapping\": {\"62f0b0c5-31a8-4fef-bcc1-93894d37b354\": \"bd20d660-0714-4eab-92ba-e0fb59755abd\", \"babcfee7-140a-42ba-b3e7-14aa659e54f7\": \"bd20d660-0714-4eab-92ba-e0fb59755abd\", \"19acc578-aad9-45a0-bcf2-19807635727e\": \"bd20d660-0714-4eab-92ba-e0fb59755abd\", \"2863c840-7b57-4506-961f-e3fa301f2a4c\": \"bd20d660-0714-4eab-92ba-e0fb59755abd\", \"9fff6fd4-bd5d-42a3-8bd2-df0f39b8b38d\": \"bd20d660-0714-4eab-92ba-e0fb59755abd\"}, \"modules\": [{\"module_id\": \"87b4c224-7cfd-4833-8b3b-a09b24febec6\", \"version\": \"0.0.1\", \"name\": \"enter_num_manually\", \"namespace\": \"kubeflow_ws_1\", \"structured_interface\": {\"inputs\": [], \"outputs\": [{\"name\": \"Output\", \"label\": \"Output\", \"description\": null}]}}, {\"module_id\": \"aca1bfed-a41f-4f69-acb8-b09c21bbb0bf\", \"version\": \"0.0.1\", \"name\": \"add\", \"namespace\": \"kubeflow_ws_1\", \"structured_interface\": {\"inputs\": [{\"name\": \"Left\", \"label\": \"Left\", \"description\": null}, {\"name\": \"Right\", \"label\": \"Right\", \"description\": null}], \"outputs\": [{\"name\": \"Output\", \"label\": \"Output\", \"description\": null}]}}, {\"module_id\": \"c95b4b40-5e06-42c0-b33e-f71aeaf26062\", \"version\": \"0.0.1\", \"name\": \"multiply\", \"namespace\": \"kubeflow_ws_1\", \"structured_interface\": {\"inputs\": [{\"name\": \"Left\", \"label\": \"Left\", \"description\": null}, {\"name\": \"Right\", \"label\": \"Right\", \"description\": null}], \"outputs\": [{\"name\": \"Result\", \"label\": \"Result\", \"description\": null}]}}], \"datasources\": []};\n            window.env_json={\"subscription_id\": \"74eccef0-4b8d-4f83-b5f9-fa100d155b22\"};\n            window.before_script = performance.now();\n        </script>\n        <script src=\"https://yucongj.azureedge.net/libs/prod/0.0.2/index.js\"></script>\n        "
     },
     "metadata": {}
    },
    {
     "output_type": "execute_result",
     "data": {
      "text/plain": "{'result': 'validation passed', 'errors': []}"
     },
     "metadata": {},
     "execution_count": 5
    }
   ],
   "source": [
    "@dsl.pipeline(name='Calculator', description='Calculator - an illustrative sample pipeline', default_compute_target='cpu-lowpri')\n",
    "def calc():\n",
    "    l = enter_num(num='1.0')\n",
    "    r = enter_num(num='2.0')\n",
    "\n",
    "    sum = add_two_num(left=l.outputs.output, right=r.outputs.output)\n",
    "\n",
    "    rr = enter_num(num='1.5')\n",
    "\n",
    "    prod = multiply_two_num(left=rr.outputs.output, right=sum.outputs.output)\n",
    "\n",
    "p = calc()\n",
    "p.validate()"
   ]
  },
  {
   "cell_type": "code",
   "execution_count": 16,
   "metadata": {},
   "outputs": [
    {
     "output_type": "stream",
     "name": "stdout",
     "text": "Submitted PipelineRun 1d8952cf-c091-49ab-8ce4-d4bba44a44c2\nLink to Azure Machine Learning Portal: https://ml.azure.com/experiments/samples/runs/1d8952cf-c091-49ab-8ce4-d4bba44a44c2?wsid=/subscriptions/74eccef0-4b8d-4f83-b5f9-fa100d155b22/resourcegroups/kubeflow-demo/workspaces/kubeflow_ws_1\n"
    },
    {
     "output_type": "execute_result",
     "data": {
      "text/plain": "Run(Experiment: samples,\nId: 1d8952cf-c091-49ab-8ce4-d4bba44a44c2,\nType: azureml.PipelineRun,\nStatus: NotStarted)",
      "text/html": "<table style=\"width:100%\"><tr><th>Experiment</th><th>Id</th><th>Type</th><th>Status</th><th>Details Page</th><th>Docs Page</th></tr><tr><td>samples</td><td>1d8952cf-c091-49ab-8ce4-d4bba44a44c2</td><td>azureml.PipelineRun</td><td>NotStarted</td><td><a href=\"https://ml.azure.com/experiments/samples/runs/1d8952cf-c091-49ab-8ce4-d4bba44a44c2?wsid=/subscriptions/74eccef0-4b8d-4f83-b5f9-fa100d155b22/resourcegroups/kubeflow-demo/workspaces/kubeflow_ws_1\" target=\"_blank\" rel=\"noopener\">Link to Azure Machine Learning studio</a></td><td><a href=\"https://docs.microsoft.com/en-us/python/api/overview/azure/ml/intro?view=azure-ml-py\" target=\"_blank\" rel=\"noopener\">Link to Documentation</a></td></tr></table>"
     },
     "metadata": {},
     "execution_count": 16
    }
   ],
   "source": [
    "p.submit(experiment_name='samples').wait_for_completion()"
   ]
  }
 ],
 "metadata": {
  "language_info": {
   "codemirror_mode": {
    "name": "ipython",
    "version": 3
   },
   "file_extension": ".py",
   "mimetype": "text/x-python",
   "name": "python",
   "nbconvert_exporter": "python",
   "pygments_lexer": "ipython3",
   "version": "3.8.0-final"
  },
  "orig_nbformat": 2,
  "kernelspec": {
   "name": "python38064bit9033b9ae65704e4e8c584df5ceb2f608",
   "display_name": "Python 3.8.0 64-bit"
  }
 },
 "nbformat": 4,
 "nbformat_minor": 2
}