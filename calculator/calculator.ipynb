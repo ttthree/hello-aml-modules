{
 "cells": [
  {
   "cell_type": "code",
   "execution_count": 1,
   "metadata": {},
   "outputs": [],
   "source": [
    "from azureml.pipeline.wrapper import Pipeline, Module, dsl"
   ]
  },
  {
   "cell_type": "code",
   "execution_count": 2,
   "metadata": {},
   "outputs": [],
   "source": [
    "from azureml.core import Workspace, Run, Dataset\n",
    "#ws = Workspace.get(subscription_id='74eccef0-4b8d-4f83-b5f9-fa100d155b22', name='kubeflow_ws_1', resource_group='kubeflow-demo')\n",
    "#ws = Workspace.get(subscription_id='4aaa645c-5ae2-4ae9-a17a-84b9023bc56a', name='aks-training-test', resource_group='jietong-test')\n",
    "ws = Workspace.get(subscription_id='381b38e9-9840-4719-a5a0-61d9585e1e91', name='jithendv_new_ws', resource_group=   \"JithendVRG\")"
   ]
  },
  {
   "cell_type": "code",
   "execution_count": 3,
   "metadata": {},
   "outputs": [],
   "source": [
    "from add import add\n",
    "from enter_num_manually import enter_num_manually"
   ]
  },
  {
   "cell_type": "code",
   "execution_count": 4,
   "metadata": {},
   "outputs": [],
   "source": [
    "enter_num = Module.from_func(ws, enter_num_manually)\n",
    "add_two_num = Module.from_func(ws, add)\n",
    "multiply_two_num = Module.from_yaml(ws, './multiply/multiply.yaml')"
   ]
  },
  {
   "cell_type": "code",
   "execution_count": 5,
   "metadata": {},
   "outputs": [
    {
     "output_type": "display_data",
     "data": {
      "text/plain": "<IPython.core.display.Javascript object>",
      "application/javascript": "try {\n    require.undef(\"validate_widget\")\n\n    define('validate_widget', [\"@jupyter-widgets/base\"], function(widgets) {\n        var ValidateView = widgets.DOMWidgetView.extend({\n            render () {\n                window.widget_self = this\n                var visualize_id = this.model.get('visualize_id')\n\n                if (!window._renderLock) {\n                    window._renderLock = {}\n                }\n                if (window._renderLock[visualize_id]) {\n                    return\n                }\n                window._renderLock[visualize_id] = \"widget\"\n                console.log(\"load as widget\", Date.now())\n\n                var lib_url = this.model.get('lib_url')\n                var graph_json = JSON.parse(this.model.get('graph_json'))\n                var env_json = JSON.parse(this.model.get('env_json'))\n                var container_id = this.model.get('container_id')\n\n                window.render_container_id = container_id\n                window.graph_json = graph_json\n                window.env_json = env_json\n                window.before_script = performance.now()\n\n                var container = document.createElement('div')\n                container.id = container_id\n                this.el.appendChild(container)\n\n                var style = document.createElement('style')\n                style.innerHTML = [\n                    \"#\", container_id, \" svg.react-dag-editor-svg-container { height: 800px; }\",\n                    \".cell-output-ipywidget-background { background: transparent !important }\"\n                ].join('')\n                this.el.appendChild(style)\n\n                this.model.on('msg:custom', dispatchMessage, this);\n\n                if (!window.__event_hub) {\n                    window.__event_hub = {}\n                }\n                if (!window.__event_hub[container_id]) {\n                    window.__event_hub[container_id] = {}\n                }\n\n                if (!window.__send_event) {\n                    window.__send_event = {}\n                }\n                window.__send_event[container_id] = sendMessage.bind(this)\n\n                function sendMessage(message, uid, content) {\n                    return new Promise((resolve) => {\n                        this.model.send({\n                            message: `${message}:request`,\n                            body: {\n                                uid,\n                                content\n                            }\n                        })\n    \n                        var respMessageKey = `${message}:response`\n                        if (!window.__event_hub[container_id][respMessageKey]) {\n                            window.__event_hub[container_id][respMessageKey] = []\n                        }\n                        window.__event_hub[container_id][respMessageKey].push(callback)\n    \n                        function callback (response) {\n                            if (response.uid !== uid) {\n                                return\n                            }\n\n                            var idx = window.__event_hub[container_id][respMessageKey].indexOf(callback) \n                            window.__event_hub[container_id][respMessageKey].splice(idx, 1)\n                            \n                            resolve(response)\n                        }\n                    })\n                }\n\n                function dispatchMessage (rawMessage) {\n                    var message = rawMessage.message\n                    var body = rawMessage.body\n\n                    if (!window.__event_hub[container_id][message]) {\n                        window.__event_hub[container_id][message] = []\n                    }\n                    var listeners = window.__event_hub[container_id][message]\n\n                    listeners.forEach(cb => {\n                        try {\n                            cb(body)\n                        } catch (e) {\n                            console.error(\"Unexpected error in listener\", e)\n                        }\n                    })\n\n                    console.log(body)\n                }\n\n                var script = document.createElement('script')\n                script.src = lib_url\n                this.el.appendChild(script)\n            }\n        });\n\n        return {\n            ValidateView\n        }\n    })\n} catch (e) {\n    console.log(\"create validation widget failed\", e)\n}"
     },
     "metadata": {}
    },
    {
     "output_type": "display_data",
     "data": {
      "text/plain": "ValidateView(container_id='container_id_3c8139d9-0c89-4336-a57e-09679f453519_widget', env_json='{\"subscription…",
      "application/vnd.jupyter.widget-view+json": {
       "version_major": 2,
       "version_minor": 0,
       "model_id": "26643528049b43d9a2dcbc5cfda4fdd9"
      }
     },
     "metadata": {}
    },
    {
     "output_type": "display_data",
     "data": {
      "text/plain": "<IPython.core.display.HTML object>",
      "text/html": "\n        <style>\n        #container_id_3c8139d9-0c89-4336-a57e-09679f453519_script svg.react-dag-editor-svg-container {\n            height: 800px;\n        }\n        </style>\n        <div id=\"container_id_3c8139d9-0c89-4336-a57e-09679f453519_script\"></div>\n        <script>\n            (function () {\n                if (!window._renderLock) {\n                    window._renderLock = {}\n                }\n                if (window._renderLock[\"3c8139d9-0c89-4336-a57e-09679f453519\"]) {\n                    return\n                }\n                window._renderLock[\"3c8139d9-0c89-4336-a57e-09679f453519\"] = \"script\"\n                console.log(\"load as script\", Date.now())\n\n                window.render_container_id=\"container_id_3c8139d9-0c89-4336-a57e-09679f453519_script\";\n                window.graph_json={\"pipeline\": {\"name\": \"Calculator\", \"data_references\": null, \"steps\": {\"d010f3ca\": {\"inputs\": {}, \"outputs\": {\"Output\": {\"destination\": \"7363e2a3-6ff3-43a9-b072-9560b58da03d_Output\"}}, \"module\": {\"id\": \"905e2515-ae60-4857-849f-029e0f4a1a86\", \"version\": \"0.0.1\"}, \"validate\": {\"error\": [], \"module_id\": \"905e2515-ae60-4857-849f-029e0f4a1a86\", \"namespace\": \"jithendv_new_ws\", \"module_name\": \"enter_num_manually\", \"module_version\": \"0.0.1\"}}, \"ced35b12\": {\"inputs\": {}, \"outputs\": {\"Output\": {\"destination\": \"a65d5d08-9727-4ba5-aad8-9c6dfccb65cf_Output\"}}, \"module\": {\"id\": \"905e2515-ae60-4857-849f-029e0f4a1a86\", \"version\": \"0.0.1\"}, \"validate\": {\"error\": [], \"module_id\": \"905e2515-ae60-4857-849f-029e0f4a1a86\", \"namespace\": \"jithendv_new_ws\", \"module_name\": \"enter_num_manually\", \"module_version\": \"0.0.1\"}}, \"94c620c0\": {\"inputs\": {\"Left\": {\"source\": \"7363e2a3-6ff3-43a9-b072-9560b58da03d_Output\"}, \"Right\": {\"source\": \"a65d5d08-9727-4ba5-aad8-9c6dfccb65cf_Output\"}}, \"outputs\": {\"Output\": {\"destination\": \"eb589dca-381b-4216-bcdd-215a23b06f6c_Output\"}}, \"module\": {\"id\": \"1c0c0856-ee4f-417c-8b72-2baac7a1b7ac\", \"version\": \"0.0.1\"}, \"validate\": {\"error\": [], \"module_id\": \"1c0c0856-ee4f-417c-8b72-2baac7a1b7ac\", \"namespace\": \"jithendv_new_ws\", \"module_name\": \"add\", \"module_version\": \"0.0.1\"}}, \"b606be70\": {\"inputs\": {}, \"outputs\": {\"Output\": {\"destination\": \"cf047546-04ef-4515-b141-a0a7474ca785_Output\"}}, \"module\": {\"id\": \"905e2515-ae60-4857-849f-029e0f4a1a86\", \"version\": \"0.0.1\"}, \"validate\": {\"error\": [], \"module_id\": \"905e2515-ae60-4857-849f-029e0f4a1a86\", \"namespace\": \"jithendv_new_ws\", \"module_name\": \"enter_num_manually\", \"module_version\": \"0.0.1\"}}, \"b06ffbe5\": {\"inputs\": {\"Left\": {\"source\": \"cf047546-04ef-4515-b141-a0a7474ca785_Output\"}, \"Right\": {\"source\": \"eb589dca-381b-4216-bcdd-215a23b06f6c_Output\"}}, \"outputs\": {\"Result\": {\"destination\": \"2af00b54-540e-4aa6-82a3-d6a3c7f7815e_Result\"}}, \"module\": {\"id\": \"b3aa89f5-6f99-43bd-b475-3a6bb174a669\", \"version\": \"0.0.1\"}, \"validate\": {\"error\": [], \"module_id\": \"b3aa89f5-6f99-43bd-b475-3a6bb174a669\", \"namespace\": \"jithendv_new_ws\", \"module_name\": \"multiply\", \"module_version\": \"0.0.1\"}}}}, \"subGraphInfo\": [{\"name\": \"Calculator\", \"description\": \"Calculator - an illustrative sample pipeline\", \"default_compute_target\": {\"name\": \"akstest\"}, \"default_data_store\": {\"data_store_name\": \"workspaceblobstore\"}, \"id\": \"5fb06fd8-c4e8-4b29-99d9-ceb349d9fed4\", \"pipeline_definition_id\": \"b518162f-3798-4dba-8817-83f540b049c3\", \"sub_graph_parameter_assignment\": [], \"sub_graph_data_path_parameter_assignment\": [], \"sub_graph_default_compute_target_nodes\": [\"d010f3ca\", \"ced35b12\", \"94c620c0\", \"b606be70\", \"b06ffbe5\"], \"sub_graph_default_data_store_nodes\": [\"d010f3ca\", \"ced35b12\", \"94c620c0\", \"b606be70\", \"b06ffbe5\"], \"inputs\": [], \"outputs\": []}], \"nodeIdToSubGraphIdMapping\": {\"d010f3ca\": \"5fb06fd8-c4e8-4b29-99d9-ceb349d9fed4\", \"ced35b12\": \"5fb06fd8-c4e8-4b29-99d9-ceb349d9fed4\", \"94c620c0\": \"5fb06fd8-c4e8-4b29-99d9-ceb349d9fed4\", \"b606be70\": \"5fb06fd8-c4e8-4b29-99d9-ceb349d9fed4\", \"b06ffbe5\": \"5fb06fd8-c4e8-4b29-99d9-ceb349d9fed4\"}, \"subPipelineDefinition\": [{\"name\": \"Calculator\", \"description\": \"Calculator - an illustrative sample pipeline\", \"default_compute_target\": {\"name\": \"akstest\"}, \"default_data_store\": {\"data_store_name\": \"workspaceblobstore\"}, \"pipeline_function_name\": \"calc\", \"id\": \"b518162f-3798-4dba-8817-83f540b049c3\", \"from_module_name\": \"__main__\", \"parameter_list\": []}], \"modules\": [{\"module_id\": \"905e2515-ae60-4857-849f-029e0f4a1a86\", \"version\": \"0.0.1\", \"name\": \"enter_num_manually\", \"namespace\": \"jithendv_new_ws\", \"structured_interface\": {\"inputs\": [], \"outputs\": [{\"name\": \"Output\", \"label\": \"Output\", \"description\": null, \"data_type_id\": \"AnyDirectory\"}]}}, {\"module_id\": \"1c0c0856-ee4f-417c-8b72-2baac7a1b7ac\", \"version\": \"0.0.1\", \"name\": \"add\", \"namespace\": \"jithendv_new_ws\", \"structured_interface\": {\"inputs\": [{\"name\": \"Left\", \"label\": \"Left\", \"description\": null, \"data_type_ids_list\": [\"AnyDirectory\"]}, {\"name\": \"Right\", \"label\": \"Right\", \"description\": null, \"data_type_ids_list\": [\"AnyDirectory\"]}], \"outputs\": [{\"name\": \"Output\", \"label\": \"Output\", \"description\": null, \"data_type_id\": \"AnyDirectory\"}]}}, {\"module_id\": \"b3aa89f5-6f99-43bd-b475-3a6bb174a669\", \"version\": \"0.0.1\", \"name\": \"multiply\", \"namespace\": \"jithendv_new_ws\", \"structured_interface\": {\"inputs\": [{\"name\": \"Left\", \"label\": \"Left\", \"description\": null, \"data_type_ids_list\": [\"AnyDirectory\"]}, {\"name\": \"Right\", \"label\": \"Right\", \"description\": null, \"data_type_ids_list\": [\"AnyDirectory\"]}], \"outputs\": [{\"name\": \"Result\", \"label\": \"Result\", \"description\": null, \"data_type_id\": \"AnyDirectory\"}]}}], \"datasources\": []};\n                window.env_json={\"subscription_id\": \"381b38e9-9840-4719-a5a0-61d9585e1e91\"};\n                window.before_script = performance.now();\n\n                var script = document.createElement('script')\n                script.src = \"https://yucongj.azureedge.net/libs/prod/0.0.6/index.js\"\n                document.getElementById(\"container_id_3c8139d9-0c89-4336-a57e-09679f453519_script\").appendChild(script)\n            })()\n        </script>\n        "
     },
     "metadata": {}
    },
    {
     "output_type": "execute_result",
     "data": {
      "text/plain": "{'result': 'validation passed', 'errors': []}"
     },
     "metadata": {},
     "execution_count": 5
    }
   ],
   "source": [
    "@dsl.pipeline(name='Calculator', description='Calculator - an illustrative sample pipeline', default_compute_target='akstest')\n",
    "def calc():\n",
    "    l = enter_num(num='1.0')\n",
    "    r = enter_num(num='2.0')\n",
    "\n",
    "    sum = add_two_num(left=l.outputs.output, right=r.outputs.output)\n",
    "\n",
    "    rr = enter_num(num='1.5')\n",
    "\n",
    "    prod = multiply_two_num(left=rr.outputs.output, right=sum.outputs.output)\n",
    "\n",
    "p = calc()\n",
    "p.validate()"
   ]
  },
  {
   "cell_type": "code",
   "execution_count": 8,
   "metadata": {
    "tags": []
   },
   "outputs": [
    {
     "output_type": "stream",
     "name": "stdout",
     "text": "Submitted PipelineRun 8a2f7fa7-5f6d-41bd-8ee3-31f7b83259fe\nLink to Azure Machine Learning Portal: https://ml.azure.com/experiments/samples/runs/8a2f7fa7-5f6d-41bd-8ee3-31f7b83259fe?wsid=/subscriptions/4aaa645c-5ae2-4ae9-a17a-84b9023bc56a/resourcegroups/jietong-test/workspaces/aks-training-test\nPipelineRunId: 8a2f7fa7-5f6d-41bd-8ee3-31f7b83259fe\nLink to Azure Machine Learning Portal: https://ml.azure.com/experiments/samples/runs/8a2f7fa7-5f6d-41bd-8ee3-31f7b83259fe?wsid=/subscriptions/4aaa645c-5ae2-4ae9-a17a-84b9023bc56a/resourcegroups/jietong-test/workspaces/aks-training-test\n"
    },
    {
     "output_type": "display_data",
     "data": {
      "text/plain": "<IPython.core.display.Javascript object>",
      "application/javascript": "try {\n    require.undef(\"validate_widget\")\n\n    define('validate_widget', [\"@jupyter-widgets/base\"], function(widgets) {\n        var ValidateView = widgets.DOMWidgetView.extend({\n            render () {\n                window.widget_self = this\n                var visualize_id = this.model.get('visualize_id')\n\n                if (!window._renderLock) {\n                    window._renderLock = {}\n                }\n                if (window._renderLock[visualize_id]) {\n                    return\n                }\n                window._renderLock[visualize_id] = \"widget\"\n                console.log(\"load as widget\", Date.now())\n\n                var lib_url = this.model.get('lib_url')\n                var graph_json = JSON.parse(this.model.get('graph_json'))\n                var env_json = JSON.parse(this.model.get('env_json'))\n                var container_id = this.model.get('container_id')\n\n                window.render_container_id = container_id\n                window.graph_json = graph_json\n                window.env_json = env_json\n                window.before_script = performance.now()\n\n                var container = document.createElement('div')\n                container.id = container_id\n                this.el.appendChild(container)\n\n                var style = document.createElement('style')\n                style.innerHTML = [\n                    \"#\", container_id, \" svg.react-dag-editor-svg-container { height: 800px; }\",\n                    \".cell-output-ipywidget-background { background: transparent !important }\"\n                ].join('')\n                this.el.appendChild(style)\n\n                this.model.on('msg:custom', dispatchMessage, this);\n\n                if (!window.__event_hub) {\n                    window.__event_hub = {}\n                }\n                if (!window.__event_hub[container_id]) {\n                    window.__event_hub[container_id] = {}\n                }\n\n                if (!window.__send_event) {\n                    window.__send_event = {}\n                }\n                window.__send_event[container_id] = sendMessage.bind(this)\n\n                function sendMessage(message, uid, content) {\n                    return new Promise((resolve) => {\n                        this.model.send({\n                            message: `${message}:request`,\n                            body: {\n                                uid,\n                                content\n                            }\n                        })\n    \n                        var respMessageKey = `${message}:response`\n                        if (!window.__event_hub[container_id][respMessageKey]) {\n                            window.__event_hub[container_id][respMessageKey] = []\n                        }\n                        window.__event_hub[container_id][respMessageKey].push(callback)\n    \n                        function callback (response) {\n                            if (response.uid !== uid) {\n                                return\n                            }\n\n                            var idx = window.__event_hub[container_id][respMessageKey].indexOf(callback) \n                            window.__event_hub[container_id][respMessageKey].splice(idx, 1)\n                            \n                            resolve(response)\n                        }\n                    })\n                }\n\n                function dispatchMessage (rawMessage) {\n                    var message = rawMessage.message\n                    var body = rawMessage.body\n\n                    if (!window.__event_hub[container_id][message]) {\n                        window.__event_hub[container_id][message] = []\n                    }\n                    var listeners = window.__event_hub[container_id][message]\n\n                    listeners.forEach(cb => {\n                        try {\n                            cb(body)\n                        } catch (e) {\n                            console.error(\"Unexpected error in listener\", e)\n                        }\n                    })\n\n                    console.log(body)\n                }\n\n                var script = document.createElement('script')\n                script.src = lib_url\n                this.el.appendChild(script)\n            }\n        });\n\n        return {\n            ValidateView\n        }\n    })\n} catch (e) {\n    console.log(\"create validation widget failed\", e)\n}"
     },
     "metadata": {}
    },
    {
     "output_type": "display_data",
     "data": {
      "text/plain": "ValidateView(container_id='container_id_c5580fa4-ffb5-4838-b3cf-a18623c30e41_widget', env_json='{}', graph_jso…",
      "application/vnd.jupyter.widget-view+json": {
       "version_major": 2,
       "version_minor": 0,
       "model_id": "5a16737e1b6441128b77ab32b8583291"
      }
     },
     "metadata": {}
    },
    {
     "output_type": "display_data",
     "data": {
      "text/plain": "<IPython.core.display.HTML object>",
      "text/html": "\n        <style>\n        #container_id_c5580fa4-ffb5-4838-b3cf-a18623c30e41_script svg.react-dag-editor-svg-container {\n            height: 800px;\n        }\n        </style>\n        <div id=\"container_id_c5580fa4-ffb5-4838-b3cf-a18623c30e41_script\"></div>\n        <script>\n            (function () {\n                if (!window._renderLock) {\n                    window._renderLock = {}\n                }\n                if (window._renderLock[\"c5580fa4-ffb5-4838-b3cf-a18623c30e41\"]) {\n                    return\n                }\n                window._renderLock[\"c5580fa4-ffb5-4838-b3cf-a18623c30e41\"] = \"script\"\n                console.log(\"load as script\", Date.now())\n\n                window.render_container_id=\"container_id_c5580fa4-ffb5-4838-b3cf-a18623c30e41_script\";\n                window.graph_json={\"pipeline\": {\"name\": \"Calculator\", \"data_references\": null, \"steps\": {\"e3a7eb10\": {\"inputs\": {}, \"outputs\": {\"Output\": {\"destination\": \"762ad509-7054-48a8-a1ad-93384a88b883_Output\"}}, \"module\": {\"id\": \"7cc76188-99a5-4fb6-bfbc-332f18ffe5a3\", \"version\": \"0.0.1\"}, \"validate\": {\"error\": [], \"module_id\": \"7cc76188-99a5-4fb6-bfbc-332f18ffe5a3\", \"namespace\": \"aks-training-test\", \"module_name\": \"enter_num_manually\", \"module_version\": \"0.0.1\"}}, \"c30db0ea\": {\"inputs\": {}, \"outputs\": {\"Output\": {\"destination\": \"dc42dfca-707f-40fa-b540-81cacc5ec81e_Output\"}}, \"module\": {\"id\": \"7cc76188-99a5-4fb6-bfbc-332f18ffe5a3\", \"version\": \"0.0.1\"}, \"validate\": {\"error\": [], \"module_id\": \"7cc76188-99a5-4fb6-bfbc-332f18ffe5a3\", \"namespace\": \"aks-training-test\", \"module_name\": \"enter_num_manually\", \"module_version\": \"0.0.1\"}}, \"ee134ba2\": {\"inputs\": {\"Left\": {\"source\": \"762ad509-7054-48a8-a1ad-93384a88b883_Output\"}, \"Right\": {\"source\": \"dc42dfca-707f-40fa-b540-81cacc5ec81e_Output\"}}, \"outputs\": {\"Output\": {\"destination\": \"c8b32198-4012-4751-81d4-b624744858f0_Output\"}}, \"module\": {\"id\": \"03323cef-7289-4a50-a08c-7515b511cc5a\", \"version\": \"0.0.1\"}, \"validate\": {\"error\": [], \"module_id\": \"03323cef-7289-4a50-a08c-7515b511cc5a\", \"namespace\": \"aks-training-test\", \"module_name\": \"add\", \"module_version\": \"0.0.1\"}}, \"4576ebb6\": {\"inputs\": {}, \"outputs\": {\"Output\": {\"destination\": \"34d7a626-55ff-428d-bbdb-5de8e289b055_Output\"}}, \"module\": {\"id\": \"7cc76188-99a5-4fb6-bfbc-332f18ffe5a3\", \"version\": \"0.0.1\"}, \"validate\": {\"error\": [], \"module_id\": \"7cc76188-99a5-4fb6-bfbc-332f18ffe5a3\", \"namespace\": \"aks-training-test\", \"module_name\": \"enter_num_manually\", \"module_version\": \"0.0.1\"}}, \"dc268733\": {\"inputs\": {\"Left\": {\"source\": \"34d7a626-55ff-428d-bbdb-5de8e289b055_Output\"}, \"Right\": {\"source\": \"c8b32198-4012-4751-81d4-b624744858f0_Output\"}}, \"outputs\": {\"Result\": {\"destination\": \"beb9c92e-0886-4dcd-991d-6680b7b5c83c_Result\"}}, \"module\": {\"id\": \"a396a90a-5fb4-469b-99f9-d2848d2d3b1e\", \"version\": \"0.0.1\"}, \"validate\": {\"error\": [], \"module_id\": \"a396a90a-5fb4-469b-99f9-d2848d2d3b1e\", \"namespace\": \"aks-training-test\", \"module_name\": \"multiply\", \"module_version\": \"0.0.1\"}}}}, \"subGraphInfo\": [{\"name\": \"Calculator\", \"description\": \"Calculator - an illustrative sample pipeline\", \"default_compute_target\": {\"name\": \"aks-gpu-training\"}, \"default_data_store\": {\"data_store_name\": \"workspaceblobstore\"}, \"id\": \"9ac187a1-0d79-43bd-b6a8-087149e09965\", \"pipeline_definition_id\": \"5e1c2350-9e12-4418-8af7-024958884503\", \"sub_graph_parameter_assignment\": [], \"sub_graph_data_path_parameter_assignment\": [], \"sub_graph_default_compute_target_nodes\": [\"e3a7eb10\", \"c30db0ea\", \"ee134ba2\", \"4576ebb6\", \"dc268733\"], \"sub_graph_default_data_store_nodes\": [\"e3a7eb10\", \"c30db0ea\", \"ee134ba2\", \"4576ebb6\", \"dc268733\"], \"inputs\": [], \"outputs\": []}], \"nodeIdToSubGraphIdMapping\": {\"e3a7eb10\": \"9ac187a1-0d79-43bd-b6a8-087149e09965\", \"c30db0ea\": \"9ac187a1-0d79-43bd-b6a8-087149e09965\", \"ee134ba2\": \"9ac187a1-0d79-43bd-b6a8-087149e09965\", \"4576ebb6\": \"9ac187a1-0d79-43bd-b6a8-087149e09965\", \"dc268733\": \"9ac187a1-0d79-43bd-b6a8-087149e09965\"}, \"subPipelineDefinition\": [{\"name\": \"Calculator\", \"description\": \"Calculator - an illustrative sample pipeline\", \"default_compute_target\": {\"name\": \"aks-gpu-training\"}, \"default_data_store\": {\"data_store_name\": \"workspaceblobstore\"}, \"pipeline_function_name\": \"calc\", \"id\": \"5e1c2350-9e12-4418-8af7-024958884503\", \"from_module_name\": \"__main__\", \"parameter_list\": []}], \"modules\": [{\"module_id\": \"7cc76188-99a5-4fb6-bfbc-332f18ffe5a3\", \"version\": \"0.0.1\", \"name\": \"enter_num_manually\", \"namespace\": \"aks-training-test\", \"structured_interface\": {\"inputs\": [], \"outputs\": [{\"name\": \"Output\", \"label\": \"Output\", \"description\": null, \"data_type_id\": \"AnyDirectory\"}]}}, {\"module_id\": \"03323cef-7289-4a50-a08c-7515b511cc5a\", \"version\": \"0.0.1\", \"name\": \"add\", \"namespace\": \"aks-training-test\", \"structured_interface\": {\"inputs\": [{\"name\": \"Left\", \"label\": \"Left\", \"description\": null, \"data_type_ids_list\": [\"AnyDirectory\"]}, {\"name\": \"Right\", \"label\": \"Right\", \"description\": null, \"data_type_ids_list\": [\"AnyDirectory\"]}], \"outputs\": [{\"name\": \"Output\", \"label\": \"Output\", \"description\": null, \"data_type_id\": \"AnyDirectory\"}]}}, {\"module_id\": \"a396a90a-5fb4-469b-99f9-d2848d2d3b1e\", \"version\": \"0.0.1\", \"name\": \"multiply\", \"namespace\": \"aks-training-test\", \"structured_interface\": {\"inputs\": [{\"name\": \"Left\", \"label\": \"Left\", \"description\": null, \"data_type_ids_list\": [\"AnyDirectory\"]}, {\"name\": \"Right\", \"label\": \"Right\", \"description\": null, \"data_type_ids_list\": [\"AnyDirectory\"]}], \"outputs\": [{\"name\": \"Result\", \"label\": \"Result\", \"description\": null, \"data_type_id\": \"AnyDirectory\"}]}}], \"datasources\": []};\n                window.env_json={};\n                window.before_script = performance.now();\n\n                var script = document.createElement('script')\n                script.src = \"https://yucongj.azureedge.net/libs/prod/0.0.6/index.js\"\n                document.getElementById(\"container_id_c5580fa4-ffb5-4838-b3cf-a18623c30e41_script\").appendChild(script)\n            })()\n        </script>\n        "
     },
     "metadata": {}
    },
    {
     "output_type": "execute_result",
     "data": {
      "text/plain": "<RunStatus.completed: 'Completed'>"
     },
     "metadata": {},
     "execution_count": 8
    }
   ],
   "source": [
    "p.submit(experiment_name='samples').wait_for_completion()"
   ]
  }
 ],
 "metadata": {
  "language_info": {
   "codemirror_mode": {
    "name": "ipython",
    "version": 3
   },
   "file_extension": ".py",
   "mimetype": "text/x-python",
   "name": "python",
   "nbconvert_exporter": "python",
   "pygments_lexer": "ipython3",
   "version": "3.8.0-final"
  },
  "orig_nbformat": 2,
  "kernelspec": {
   "name": "python38064bit9033b9ae65704e4e8c584df5ceb2f608",
   "display_name": "Python 3.8.0 64-bit"
  }
 },
 "nbformat": 4,
 "nbformat_minor": 2
}