{
 "cells": [
  {
   "cell_type": "markdown",
   "metadata": {},
   "source": [
    "# Test Notebook for Building Pipeline Using Module 'multiply'\n",
    "The module 'multiply' was generated through command: 'az ml module init -n multiply'"
   ]
  },
  {
   "cell_type": "code",
   "execution_count": 3,
   "metadata": {},
   "outputs": [],
   "source": [
    "from azureml.core import Workspace\n",
    "from azureml.core.compute import AmlCompute, ComputeTarget\n",
    "from azureml.pipeline.wrapper import Module, Pipeline, dsl\n",
    "from multiply import multiply"
   ]
  },
  {
   "source": [
    "## Prerequisites: Configure workspace & compute\n",
    "\n",
    " - Update config.json to reference your own workspace\n",
    " - Change the following aml_compute_target's value to reference an existing compute target"
   ],
   "cell_type": "markdown",
   "metadata": {}
  },
  {
   "cell_type": "code",
   "execution_count": 4,
   "metadata": {},
   "outputs": [
    {
     "output_type": "stream",
     "name": "stdout",
     "text": "kubeflow_ws_1\nkubeflow-demo\neastus\n74eccef0-4b8d-4f83-b5f9-fa100d155b22\ncpu-lowpri\n"
    }
   ],
   "source": [
    "workspace = Workspace.from_config()\n",
    "aml_compute_target = \"cpu-lowpri\"\n",
    "print(workspace.name, workspace.resource_group, workspace.location, workspace.subscription_id, aml_compute_target, sep='\\n')"
   ]
  },
  {
   "source": [
    "# Load module(s)\n",
    "It can be done through one of the following:\n",
    "- Module.from_func to convert a python function into module function\n",
    "- Module.from_yaml to load a module function from a module yaml definition\n",
    "- Module.load to load a module function from Azure ML workspace (for registered module)"
   ],
   "cell_type": "markdown",
   "metadata": {}
  },
  {
   "cell_type": "code",
   "execution_count": 5,
   "metadata": {},
   "outputs": [],
   "source": [
    "module_func = Module.from_func(workspace, multiply)"
   ]
  },
  {
   "source": [
    "# Create pipeline\n",
    "This is done by calling module function(s) with the parameters/inputs/outputs the module supports"
   ],
   "cell_type": "markdown",
   "metadata": {}
  },
  {
   "cell_type": "code",
   "execution_count": 6,
   "metadata": {},
   "outputs": [],
   "source": [
    "@dsl.pipeline(name='test_pipeline', description='A sample pipeline uses multiply', default_compute_target=aml_compute_target)\n",
    "def sample_pipeline():\n",
    "    module1 = module_func().set_parameters(\n",
    "    \n",
    "    ).set_inputs(\n",
    "    )\n",
    "\n",
    "    return module1.outputs\n",
    "\n",
    "test_pipeline = sample_pipeline()"
   ]
  },
  {
   "cell_type": "code",
   "execution_count": null,
   "metadata": {},
   "outputs": [],
   "source": [
    "test_pipeline.validate()"
   ]
  },
  {
   "cell_type": "code",
   "execution_count": null,
   "metadata": {},
   "outputs": [],
   "source": [
    "pipeline_draft = test_pipeline.save(\n",
    "    experiment_name='module_SDK_local_module_test',\n",
    ")\n",
    "pipeline_draft"
   ]
  },
  {
   "cell_type": "code",
   "execution_count": null,
   "metadata": {},
   "outputs": [],
   "source": [
    "run = test_pipeline.submit(\n",
    "    experiment_name='module_SDK_local_module_test'\n",
    ")\n",
    "run.wait_for_completion()\n",
    "run"
   ]
  }
 ],
 "metadata": {
  "kernelspec": {
   "name": "python38064bit9033b9ae65704e4e8c584df5ceb2f608",
   "display_name": "Python 3.8.0 64-bit"
  }
 },
 "nbformat": 4,
 "nbformat_minor": 4
}