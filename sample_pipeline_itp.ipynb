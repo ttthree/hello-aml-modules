{
 "cells": [
  {
   "cell_type": "code",
   "execution_count": 1,
   "metadata": {},
   "outputs": [],
   "source": [
    "from azureml.core import Workspace, Run, Dataset\n",
    "from azureml.pipeline.wrapper import Pipeline, dsl, Module\n",
    "\n",
    "ws = Workspace.get(name='itp-pilot', subscription_id='4aaa645c-5ae2-4ae9-a17a-84b9023bc56a', resource_group='itp-pilot-ResGrp')\n",
    "#ws = Workspace.get(name='cmaksphillywestcentralus', subscription_id='06237282-1ddd-4677-9878-5bc19cc0001a', resource_group='ITPTestingWorkers')\n",
    "#ws = Workspace.get(name='cmk8s-test-ws', subscription_id='4aaa645c-5ae2-4ae9-a17a-84b9023bc56a', resource_group='cmk8s-test-rg')\n",
    "#ws = Workspace.get(name='resrchvc', subscription_id='46da6261-2167-4e71-8b0d-f4a45215ce61', resource_group='researchvc')\n",
    "\n",
    "train_module_func = Module.from_yaml(ws, './train-score-eval/mpi_train.yaml')\n",
    "score_module_func = Module.from_yaml(ws, './train-score-eval/score.yaml')\n",
    "eval_module_func = Module.from_yaml(ws, './train-score-eval/eval.yaml')\n",
    "compare_module_func = Module.from_yaml(ws, './train-score-eval/compare2.yaml')\n",
    "\n",
    "train_data = Dataset.get_by_name(ws, 'training_data')\n",
    "test_data = Dataset.get_by_name(ws, 'test_data')"
   ]
  },
  {
   "cell_type": "code",
   "execution_count": 2,
   "metadata": {},
   "outputs": [],
   "source": [
    "# define a sub pipeline\n",
    "@dsl.pipeline(name = 'Train-Score-Eval', \n",
    "              description = 'train model and evaluate model perf')\n",
    "def training_pipeline(input_data, learning_rate):\n",
    "    train = train_module_func(\n",
    "        training_data=input_data, \n",
    "        max_epochs=5, \n",
    "        learning_rate=learning_rate,\n",
    "        run_for_minutes=10)\n",
    "    train.runsettings.configure(node_count=1, process_count_per_node=1)\n",
    "    train.k8srunsettings.priorityconfiguration.is_preemptible=True\n",
    "    train.k8srunsettings.priorityconfiguration.priority=200\n",
    "    #train.inputs.training_data.configure(mode='download',)\n",
    "   \n",
    "    score = score_module_func(\n",
    "        model_input=train.outputs.model_output, \n",
    "        test_data=test_data)\n",
    "\n",
    "    eval = eval_module_func(scoring_result=score.outputs.score_output)\n",
    "\n",
    "    return {'eval_output': eval.outputs.eval_output, 'model_output': train.outputs.model_output}"
   ]
  },
  {
   "cell_type": "code",
   "execution_count": 3,
   "metadata": {
    "tags": []
   },
   "outputs": [],
   "source": [
    "# define pipeline with sub pipeline\n",
    "@dsl.pipeline(name = 'itp-system-test-pipeline-run', \n",
    "              description = 'select best model trained with different learning rate',\n",
    "#              default_compute_target = 'aks-gpu')\n",
    "              default_compute_target = ('k80-16-a', 'Cmk8s')\n",
    "#               default_compute_target = ('itpseasiav100cl', 'Cmk8s'))\n",
    "#               default_compute_target = 'gpu-cluster')\n",
    ")\n",
    "def dummy_automl_pipeline():\n",
    "    train_and_evalute_model1 = training_pipeline(train_data, 0.01)\n",
    "    train_and_evalute_model2 = training_pipeline(train_data, 0.02)\n",
    "    \n",
    "    compare = compare_module_func(\n",
    "        model1=train_and_evalute_model1.outputs.model_output, \n",
    "        eval_result1=train_and_evalute_model1.outputs.eval_output,\n",
    "        model2=train_and_evalute_model2.outputs.model_output,\n",
    "        eval_result2=train_and_evalute_model2.outputs.eval_output\n",
    "    )\n",
    "\n",
    "    return {**compare.outputs}\n",
    "\n",
    "# create a pipeline\n",
    "pipeline = dummy_automl_pipeline()"
   ]
  },
  {
   "cell_type": "code",
   "execution_count": 4,
   "metadata": {
    "tags": []
   },
   "outputs": [],
   "source": [
    "#pipeline.validate()"
   ]
  },
  {
   "cell_type": "code",
   "execution_count": 5,
   "metadata": {
    "tags": []
   },
   "outputs": [
    {
     "output_type": "stream",
     "name": "stdout",
     "text": "Submitted PipelineRun 5b074a33-d6cb-41d1-9fc0-913ed7644f5d\nLink to Azure Machine Learning Portal: https://ml.azure.com/experiments/samples/runs/5b074a33-d6cb-41d1-9fc0-913ed7644f5d?wsid=/subscriptions/4aaa645c-5ae2-4ae9-a17a-84b9023bc56a/resourcegroups/itp-pilot-ResGrp/workspaces/itp-pilot\nPipelineRunId: 5b074a33-d6cb-41d1-9fc0-913ed7644f5d\nLink to Azure Machine Learning Portal: https://ml.azure.com/experiments/samples/runs/5b074a33-d6cb-41d1-9fc0-913ed7644f5d?wsid=/subscriptions/4aaa645c-5ae2-4ae9-a17a-84b9023bc56a/resourcegroups/itp-pilot-ResGrp/workspaces/itp-pilot\n"
    },
    {
     "output_type": "display_data",
     "data": {
      "text/plain": "<IPython.core.display.Javascript object>",
      "application/javascript": "try {\n    require.undef(\"validate_widget\")\n\n    define('validate_widget', [\"@jupyter-widgets/base\"], function(widgets) {\n        var ValidateView = widgets.DOMWidgetView.extend({\n            render () {\n                window.widget_self = this\n                var visualize_id = this.model.get('visualize_id')\n\n                if (!window._renderLock) {\n                    window._renderLock = {}\n                }\n                if (window._renderLock[visualize_id]) {\n                    return\n                }\n                window._renderLock[visualize_id] = \"widget\"\n                console.log(\"load as widget\", Date.now())\n\n                var lib_url = this.model.get('lib_url')\n                var graph_json = JSON.parse(this.model.get('graph_json'))\n                var env_json = JSON.parse(this.model.get('env_json'))\n                var container_id = this.model.get('container_id')\n\n                window.render_container_id = container_id\n                window.graph_json = graph_json\n                window.env_json = env_json\n                window.before_script = performance.now()\n\n                var container = document.createElement('div')\n                container.id = container_id\n                this.el.appendChild(container)\n\n                var style = document.createElement('style')\n                style.innerHTML = [\n                    \"#\", container_id, \" svg.react-dag-editor-svg-container { height: 800px; }\",\n                    \".cell-output-ipywidget-background { background: transparent !important }\"\n                ].join('')\n                this.el.appendChild(style)\n\n                this.model.on('msg:custom', dispatchMessage, this);\n\n                if (!window.__event_hub) {\n                    window.__event_hub = {}\n                }\n                if (!window.__event_hub[container_id]) {\n                    window.__event_hub[container_id] = {}\n                }\n\n                if (!window.__send_event) {\n                    window.__send_event = {}\n                }\n                window.__send_event[container_id] = sendMessage.bind(this)\n\n                function sendMessage(message, uid, content) {\n                    return new Promise((resolve) => {\n                        this.model.send({\n                            message: `${message}:request`,\n                            body: {\n                                uid,\n                                content\n                            }\n                        })\n    \n                        var respMessageKey = `${message}:response`\n                        if (!window.__event_hub[container_id][respMessageKey]) {\n                            window.__event_hub[container_id][respMessageKey] = []\n                        }\n                        window.__event_hub[container_id][respMessageKey].push(callback)\n    \n                        function callback (response) {\n                            if (response.uid !== uid) {\n                                return\n                            }\n\n                            var idx = window.__event_hub[container_id][respMessageKey].indexOf(callback) \n                            window.__event_hub[container_id][respMessageKey].splice(idx, 1)\n                            \n                            resolve(response)\n                        }\n                    })\n                }\n\n                function dispatchMessage (rawMessage) {\n                    var message = rawMessage.message\n                    var body = rawMessage.body\n\n                    if (!window.__event_hub[container_id][message]) {\n                        window.__event_hub[container_id][message] = []\n                    }\n                    var listeners = window.__event_hub[container_id][message]\n\n                    listeners.forEach(cb => {\n                        try {\n                            cb(body)\n                        } catch (e) {\n                            console.error(\"Unexpected error in listener\", e)\n                        }\n                    })\n\n                    console.log(body)\n                }\n\n                var script = document.createElement('script')\n                script.src = lib_url\n                this.el.appendChild(script)\n            }\n        });\n\n        return {\n            ValidateView\n        }\n    })\n} catch (e) {\n    console.log(\"create validation widget failed\", e)\n}"
     },
     "metadata": {}
    },
    {
     "output_type": "display_data",
     "data": {
      "text/plain": "ValidateView(container_id='container_id_cf4e63c4-5280-4bb2-bc6f-ba5dd685630a_widget', env_json='{}', graph_jso…",
      "application/vnd.jupyter.widget-view+json": {
       "version_major": 2,
       "version_minor": 0,
       "model_id": "fd5107e79ac04f88a58c630b6208f9f8"
      }
     },
     "metadata": {}
    },
    {
     "output_type": "display_data",
     "data": {
      "text/plain": "<IPython.core.display.HTML object>",
      "text/html": "\n        <style>\n        #container_id_cf4e63c4-5280-4bb2-bc6f-ba5dd685630a_script svg.react-dag-editor-svg-container {\n            height: 800px;\n        }\n        </style>\n        <div id=\"container_id_cf4e63c4-5280-4bb2-bc6f-ba5dd685630a_script\"></div>\n        <script>\n            (function () {\n                if (!window._renderLock) {\n                    window._renderLock = {}\n                }\n                if (window._renderLock[\"cf4e63c4-5280-4bb2-bc6f-ba5dd685630a\"]) {\n                    return\n                }\n                window._renderLock[\"cf4e63c4-5280-4bb2-bc6f-ba5dd685630a\"] = \"script\"\n                console.log(\"load as script\", Date.now())\n\n                window.render_container_id=\"container_id_cf4e63c4-5280-4bb2-bc6f-ba5dd685630a_script\";\n                window.graph_json={\"pipeline\": {\"name\": [\"itp-system-test-pipeline-run\"], \"data_references\": {\"training_data\": {\"dataset_id\": \"48a6a245-6897-4e6b-a248-c07be032ccca\"}, \"test_data\": {\"dataset_id\": \"4fee30aa-46af-405f-80f7-21a493207b2e\"}}, \"steps\": {\"61ca7f56\": {\"inputs\": {\"training_data\": {\"source\": \"training_data\"}}, \"outputs\": {\"model_output\": {\"destination\": \"dd69ef3b-f57d-46ad-8885-39d9f02803c6_model_output\"}}, \"module\": {\"id\": \"fb6d9371-34a9-4aa6-b3e2-3a76e5246e0f\", \"version\": \"0.0.6\"}, \"validate\": {\"error\": [], \"module_id\": \"fb6d9371-34a9-4aa6-b3e2-3a76e5246e0f\", \"namespace\": \"microsoft.com/aml/samples\", \"module_name\": \"MPI Train\", \"module_version\": \"0.0.6\"}}, \"7b12f60d\": {\"inputs\": {\"model_input\": {\"source\": \"dd69ef3b-f57d-46ad-8885-39d9f02803c6_model_output\"}, \"test_data\": {\"source\": \"test_data\"}}, \"outputs\": {\"score_output\": {\"destination\": \"10bdc4ea-07b7-4a59-a42a-5ae49c2b008a_score_output\"}}, \"module\": {\"id\": \"beea3d53-222b-46d3-8a78-a07948f25892\", \"version\": \"0.0.3\"}, \"validate\": {\"error\": [], \"module_id\": \"beea3d53-222b-46d3-8a78-a07948f25892\", \"namespace\": \"microsoft.com/aml/samples\", \"module_name\": \"Score\", \"module_version\": \"0.0.3\"}}, \"c3632712\": {\"inputs\": {\"scoring_result\": {\"source\": \"10bdc4ea-07b7-4a59-a42a-5ae49c2b008a_score_output\"}}, \"outputs\": {\"eval_output\": {\"destination\": \"5413d182-bd24-45e0-abef-df88a637a2a4_eval_output\"}}, \"module\": {\"id\": \"8d90fc17-512b-44ce-b807-3f5d7f806cdc\", \"version\": \"0.0.4\"}, \"validate\": {\"error\": [], \"module_id\": \"8d90fc17-512b-44ce-b807-3f5d7f806cdc\", \"namespace\": \"microsoft.com/aml/samples\", \"module_name\": \"Evaluate\", \"module_version\": \"0.0.4\"}}, \"1b536fb9\": {\"inputs\": {\"training_data\": {\"source\": \"training_data\"}}, \"outputs\": {\"model_output\": {\"destination\": \"a28927e4-59a6-4a1e-bf36-e9bb6b19882d_model_output\"}}, \"module\": {\"id\": \"fb6d9371-34a9-4aa6-b3e2-3a76e5246e0f\", \"version\": \"0.0.6\"}, \"validate\": {\"error\": [], \"module_id\": \"fb6d9371-34a9-4aa6-b3e2-3a76e5246e0f\", \"namespace\": \"microsoft.com/aml/samples\", \"module_name\": \"MPI Train\", \"module_version\": \"0.0.6\"}}, \"53094952\": {\"inputs\": {\"model_input\": {\"source\": \"a28927e4-59a6-4a1e-bf36-e9bb6b19882d_model_output\"}, \"test_data\": {\"source\": \"test_data\"}}, \"outputs\": {\"score_output\": {\"destination\": \"5258fc5e-a4e5-4ad5-bcd2-676b31fd6625_score_output\"}}, \"module\": {\"id\": \"beea3d53-222b-46d3-8a78-a07948f25892\", \"version\": \"0.0.3\"}, \"validate\": {\"error\": [], \"module_id\": \"beea3d53-222b-46d3-8a78-a07948f25892\", \"namespace\": \"microsoft.com/aml/samples\", \"module_name\": \"Score\", \"module_version\": \"0.0.3\"}}, \"0f296d63\": {\"inputs\": {\"scoring_result\": {\"source\": \"5258fc5e-a4e5-4ad5-bcd2-676b31fd6625_score_output\"}}, \"outputs\": {\"eval_output\": {\"destination\": \"447c4aa9-e78d-488e-bdf3-ba6fe4f47cde_eval_output\"}}, \"module\": {\"id\": \"8d90fc17-512b-44ce-b807-3f5d7f806cdc\", \"version\": \"0.0.4\"}, \"validate\": {\"error\": [], \"module_id\": \"8d90fc17-512b-44ce-b807-3f5d7f806cdc\", \"namespace\": \"microsoft.com/aml/samples\", \"module_name\": \"Evaluate\", \"module_version\": \"0.0.4\"}}, \"bb573d7b\": {\"inputs\": {\"model1\": {\"source\": \"dd69ef3b-f57d-46ad-8885-39d9f02803c6_model_output\"}, \"eval_result1\": {\"source\": \"5413d182-bd24-45e0-abef-df88a637a2a4_eval_output\"}, \"model2\": {\"source\": \"a28927e4-59a6-4a1e-bf36-e9bb6b19882d_model_output\"}, \"eval_result2\": {\"source\": \"447c4aa9-e78d-488e-bdf3-ba6fe4f47cde_eval_output\"}}, \"outputs\": {\"best_model\": {\"destination\": \"ae834fec-d486-4d10-9541-006b7458cb33_best_model\"}, \"best_result\": {\"destination\": \"ae834fec-d486-4d10-9541-006b7458cb33_best_result\"}}, \"module\": {\"id\": \"b7ff04b9-e540-40b5-a504-68baf090724a\", \"version\": \"0.0.5\"}, \"validate\": {\"error\": [], \"module_id\": \"b7ff04b9-e540-40b5-a504-68baf090724a\", \"namespace\": \"microsoft.com/aml/samples\", \"module_name\": \"Compare 2 Models\", \"module_version\": \"0.0.5\"}}}}, \"modules\": [{\"module_id\": \"fb6d9371-34a9-4aa6-b3e2-3a76e5246e0f\", \"version\": \"0.0.6\", \"name\": \"MPI Train\", \"namespace\": \"microsoft.com/aml/samples\", \"structured_interface\": {\"inputs\": [{\"name\": \"training_data\", \"label\": \"training_data\", \"description\": \"Training data organized in the torchvision format/structure\", \"data_type_ids_list\": [\"AnyFile\", \"AnyDirectory\"]}], \"outputs\": [{\"name\": \"model_output\", \"label\": \"model_output\", \"description\": \"The output model (zipped)\", \"data_type_id\": \"AnyFile\"}]}}, {\"module_id\": \"beea3d53-222b-46d3-8a78-a07948f25892\", \"version\": \"0.0.3\", \"name\": \"Score\", \"namespace\": \"microsoft.com/aml/samples\", \"structured_interface\": {\"inputs\": [{\"name\": \"model_input\", \"label\": \"Zipped model file\", \"description\": null, \"data_type_ids_list\": [\"AnyFile\"]}, {\"name\": \"test_data\", \"label\": \"Test data organized in the torchvision format/structure\", \"description\": null, \"data_type_ids_list\": [\"AnyFile\", \"AnyDirectory\"]}], \"outputs\": [{\"name\": \"score_output\", \"label\": \"The scoring result in TSV\", \"description\": null, \"data_type_id\": \"AnyFile\"}]}}, {\"module_id\": \"8d90fc17-512b-44ce-b807-3f5d7f806cdc\", \"version\": \"0.0.4\", \"name\": \"Evaluate\", \"namespace\": \"microsoft.com/aml/samples\", \"structured_interface\": {\"inputs\": [{\"name\": \"scoring_result\", \"label\": \"Scoring result file in TSV format\", \"description\": null, \"data_type_ids_list\": [\"AnyFile\"]}], \"outputs\": [{\"name\": \"eval_output\", \"label\": \"Evaluation result\", \"description\": null, \"data_type_id\": \"AnyDirectory\"}]}}, {\"module_id\": \"b7ff04b9-e540-40b5-a504-68baf090724a\", \"version\": \"0.0.5\", \"name\": \"Compare 2 Models\", \"namespace\": \"microsoft.com/aml/samples\", \"structured_interface\": {\"inputs\": [{\"name\": \"model1\", \"label\": \"The first model to compare with\", \"description\": null, \"data_type_ids_list\": [\"AnyFile\"]}, {\"name\": \"eval_result1\", \"label\": \"The evaluation result of first model\", \"description\": null, \"data_type_ids_list\": [\"AnyFile\"]}, {\"name\": \"model2\", \"label\": \"The second model to compare\", \"description\": null, \"data_type_ids_list\": [\"AnyFile\"]}, {\"name\": \"eval_result2\", \"label\": \"The evaluation result of second model\", \"description\": null, \"data_type_ids_list\": [\"AnyFile\"]}], \"outputs\": [{\"name\": \"best_model\", \"label\": \"The better model among the two\", \"description\": null, \"data_type_id\": \"AnyFile\"}, {\"name\": \"best_result\", \"label\": \"The better model evaluation result among the two\", \"description\": null, \"data_type_id\": \"AnyFile\"}]}}], \"datasources\": [{\"name\": \"training_data\", \"description\": null, \"version\": 1, \"tags\": {}, \"registered_id\": \"48a6a245-6897-4e6b-a248-c07be032ccca\", \"saved_id\": \"f63a42fe-05f8-4793-8fe8-3cc838f437e3\", \"nodeId\": \"57e9bd94-a319-3607-9937-08b99580e331\"}, {\"name\": \"test_data\", \"description\": null, \"version\": 1, \"tags\": {}, \"registered_id\": \"4fee30aa-46af-405f-80f7-21a493207b2e\", \"saved_id\": \"776e5d24-1897-4491-8939-9d0b0e6708dc\", \"nodeId\": \"9f176d0d-980a-3e0d-8ec5-315465bdca2b\"}], \"subGraphInfo\": [{\"name\": \"itp-system-test-pipeline-run\", \"description\": \"select best model trained with different learning rate\", \"default_compute_target\": {\"name\": \"k80-16-a\"}, \"default_data_store\": {\"data_store_name\": \"workspaceblobstore\"}, \"id\": \"099ed4af-a1b0-40f0-8b35-5bfedf9d21b2\", \"pipeline_definition_id\": \"1866d563-29e4-4c5e-be52-e8484b8fa5a8\", \"sub_graph_parameter_assignment\": [], \"sub_graph_data_path_parameter_assignment\": [], \"sub_graph_default_compute_target_nodes\": [\"bb573d7b\"], \"sub_graph_default_data_store_nodes\": [\"bb573d7b\"], \"inputs\": [], \"outputs\": [{\"name\": \"best_model\", \"internal\": [{\"node_id\": \"bb573d7b\", \"port_name\": \"best_model\"}], \"external\": []}, {\"name\": \"best_result\", \"internal\": [{\"node_id\": \"bb573d7b\", \"port_name\": \"best_result\"}], \"external\": []}]}, {\"name\": \"Train-Score-Eval\", \"description\": \"train model and evaluate model perf\", \"default_compute_target\": {}, \"default_data_store\": {\"data_store_name\": \"workspaceblobstore\"}, \"id\": \"0193bc3e-8752-4f9a-8d08-5289771a420e\", \"parent_graph_id\": \"099ed4af-a1b0-40f0-8b35-5bfedf9d21b2\", \"pipeline_definition_id\": \"aed2716d-e404-4cf0-96d8-e042402327f2\", \"sub_graph_parameter_assignment\": [{\"parameter\": {\"name\": \"input_data\"}, \"parameter_assignments\": [{\"node_id\": \"61ca7f56\", \"parameter_name\": \"training_data\"}]}, {\"parameter\": {\"name\": \"learning_rate\"}, \"parameter_assignments\": [{\"node_id\": \"61ca7f56\", \"parameter_name\": \"learning_rate\"}]}], \"sub_graph_data_path_parameter_assignment\": [{\"data_set_path_parameter\": {\"name\": \"input_data\", \"default_value\": {\"data_set_reference\": {\"id\": \"48a6a245-6897-4e6b-a248-c07be032ccca\", \"version\": \"1\"}}, \"is_optional\": false, \"data_type_id\": \"DataFrameDirectory\"}, \"data_set_path_parameter_assignments\": []}], \"sub_graph_default_compute_target_nodes\": [\"61ca7f56\", \"7b12f60d\", \"c3632712\"], \"sub_graph_default_data_store_nodes\": [], \"inputs\": [{\"name\": \"input_data\", \"internal\": [{\"node_id\": \"61ca7f56\", \"port_name\": \"training_data\"}], \"external\": [{\"node_id\": \"57e9bd94-a319-3607-9937-08b99580e331\", \"port_name\": \"output\"}]}], \"outputs\": [{\"name\": \"eval_output\", \"internal\": [{\"node_id\": \"c3632712\", \"port_name\": \"eval_output\"}], \"external\": [{\"node_id\": \"bb573d7b\", \"port_name\": \"eval_result1\"}]}, {\"name\": \"model_output\", \"internal\": [{\"node_id\": \"61ca7f56\", \"port_name\": \"model_output\"}], \"external\": [{\"node_id\": \"7b12f60d\", \"port_name\": \"model_input\"}, {\"node_id\": \"bb573d7b\", \"port_name\": \"model1\"}]}]}, {\"name\": \"Train-Score-Eval\", \"description\": \"train model and evaluate model perf\", \"default_compute_target\": {}, \"default_data_store\": {\"data_store_name\": \"workspaceblobstore\"}, \"id\": \"40f3a520-e825-4753-b001-61be453d6b8f\", \"parent_graph_id\": \"099ed4af-a1b0-40f0-8b35-5bfedf9d21b2\", \"pipeline_definition_id\": \"aed2716d-e404-4cf0-96d8-e042402327f2\", \"sub_graph_parameter_assignment\": [{\"parameter\": {\"name\": \"input_data\"}, \"parameter_assignments\": [{\"node_id\": \"1b536fb9\", \"parameter_name\": \"training_data\"}]}, {\"parameter\": {\"name\": \"learning_rate\"}, \"parameter_assignments\": [{\"node_id\": \"1b536fb9\", \"parameter_name\": \"learning_rate\"}]}], \"sub_graph_data_path_parameter_assignment\": [{\"data_set_path_parameter\": {\"name\": \"input_data\", \"default_value\": {\"data_set_reference\": {\"id\": \"48a6a245-6897-4e6b-a248-c07be032ccca\", \"version\": \"1\"}}, \"is_optional\": false, \"data_type_id\": \"DataFrameDirectory\"}, \"data_set_path_parameter_assignments\": []}], \"sub_graph_default_compute_target_nodes\": [\"1b536fb9\", \"53094952\", \"0f296d63\"], \"sub_graph_default_data_store_nodes\": [], \"inputs\": [{\"name\": \"input_data\", \"internal\": [{\"node_id\": \"1b536fb9\", \"port_name\": \"training_data\"}], \"external\": [{\"node_id\": \"57e9bd94-a319-3607-9937-08b99580e331\", \"port_name\": \"output\"}]}], \"outputs\": [{\"name\": \"eval_output\", \"internal\": [{\"node_id\": \"0f296d63\", \"port_name\": \"eval_output\"}], \"external\": [{\"node_id\": \"bb573d7b\", \"port_name\": \"eval_result2\"}]}, {\"name\": \"model_output\", \"internal\": [{\"node_id\": \"1b536fb9\", \"port_name\": \"model_output\"}], \"external\": [{\"node_id\": \"53094952\", \"port_name\": \"model_input\"}, {\"node_id\": \"bb573d7b\", \"port_name\": \"model2\"}]}]}], \"nodeIdToSubGraphIdMapping\": {\"61ca7f56\": \"0193bc3e-8752-4f9a-8d08-5289771a420e\", \"7b12f60d\": \"0193bc3e-8752-4f9a-8d08-5289771a420e\", \"c3632712\": \"0193bc3e-8752-4f9a-8d08-5289771a420e\", \"1b536fb9\": \"40f3a520-e825-4753-b001-61be453d6b8f\", \"53094952\": \"40f3a520-e825-4753-b001-61be453d6b8f\", \"0f296d63\": \"40f3a520-e825-4753-b001-61be453d6b8f\", \"bb573d7b\": \"099ed4af-a1b0-40f0-8b35-5bfedf9d21b2\"}, \"subPipelineDefinition\": [{\"name\": \"itp-system-test-pipeline-run\", \"description\": \"select best model trained with different learning rate\", \"default_compute_target\": {\"name\": \"k80-16-a\"}, \"default_data_store\": {\"data_store_name\": \"workspaceblobstore\"}, \"pipeline_function_name\": \"dummy_automl_pipeline\", \"id\": \"1866d563-29e4-4c5e-be52-e8484b8fa5a8\", \"from_module_name\": \"__main__\", \"parameter_list\": []}, {\"name\": \"Train-Score-Eval\", \"description\": \"train model and evaluate model perf\", \"default_compute_target\": {}, \"default_data_store\": {\"data_store_name\": \"workspaceblobstore\"}, \"pipeline_function_name\": \"training_pipeline\", \"id\": \"aed2716d-e404-4cf0-96d8-e042402327f2\", \"from_module_name\": \"__main__\", \"parameter_list\": [{\"key\": \"input_data\"}, {\"key\": \"learning_rate\"}]}]};\n                window.env_json={};\n                window.before_script = performance.now();\n\n                var script = document.createElement('script')\n                script.src = \"https://yucongj.azureedge.net/libs/prod/0.0.7/index.js\"\n                document.getElementById(\"container_id_cf4e63c4-5280-4bb2-bc6f-ba5dd685630a_script\").appendChild(script)\n            })()\n        </script>\n        "
     },
     "metadata": {}
    },
    {
     "output_type": "execute_result",
     "data": {
      "text/plain": "<RunStatus.failed: 'Failed'>"
     },
     "metadata": {},
     "execution_count": 5
    }
   ],
   "source": [
    "pipeline.submit(experiment_name='samples').wait_for_completion()"
   ]
  }
 ],
 "metadata": {
  "kernelspec": {
   "display_name": "Python 3.8.0 64-bit",
   "language": "python",
   "name": "python38064bit9033b9ae65704e4e8c584df5ceb2f608"
  },
  "language_info": {
   "codemirror_mode": {
    "name": "ipython",
    "version": 3
   },
   "file_extension": ".py",
   "mimetype": "text/x-python",
   "name": "python",
   "nbconvert_exporter": "python",
   "pygments_lexer": "ipython3",
   "version": "3.8.0-final"
  }
 },
 "nbformat": 4,
 "nbformat_minor": 2
}